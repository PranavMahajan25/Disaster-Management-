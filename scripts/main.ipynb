{
 "cells": [
  {
   "cell_type": "code",
   "execution_count": 1,
   "metadata": {},
   "outputs": [
    {
     "name": "stderr",
     "output_type": "stream",
     "text": [
      "C:\\Anaconda\\lib\\site-packages\\h5py\\__init__.py:36: FutureWarning: Conversion of the second argument of issubdtype from `float` to `np.floating` is deprecated. In future, it will be treated as `np.float64 == np.dtype(float).type`.\n",
      "  from ._conv import register_converters as _register_converters\n",
      "Using TensorFlow backend.\n"
     ]
    }
   ],
   "source": [
    "from pre_processing import *\n",
    "from classification import *\n",
    "from summary import *\n",
    "from push_tweet import *"
   ]
  },
  {
   "cell_type": "code",
   "execution_count": 2,
   "metadata": {},
   "outputs": [],
   "source": [
    "#Binary classification\n",
    "x_unseen_disaster = binary_classification('./data/tweets_indonesia_unseen.csv') \n",
    "\n",
    "#Multi classification\n",
    "unseen_data = multi_classification(x_unseen_disaster)"
   ]
  },
  {
   "cell_type": "code",
   "execution_count": 3,
   "metadata": {},
   "outputs": [],
   "source": [
    "cat0 = [] #missing, dead or injured\n",
    "cat1 = [] #Infrastructure damage\n",
    "cat2 = [] #Other useful or volunteer and donation\n",
    "cat3 = [] #irrelevant"
   ]
  },
  {
   "cell_type": "code",
   "execution_count": 4,
   "metadata": {},
   "outputs": [],
   "source": [
    "for i in range(len(unseen_data)):\n",
    "  \n",
    "  if (unseen_data['label_n'][i] == 0):\n",
    "    cat0.append(unseen_data['tweet_text'][i])\n",
    "    \n",
    "  if (unseen_data['label_n'][i] == 1):\n",
    "    cat1.append(unseen_data['tweet_text'][i])\n",
    "    \n",
    "  if (unseen_data['label_n'][i] == 2):\n",
    "    cat2.append(unseen_data['tweet_text'][i])\n",
    "    \n",
    "  if (unseen_data['label_n'][i] == 3):\n",
    "    cat3.append(unseen_data['tweet_text'][i])"
   ]
  },
  {
   "cell_type": "code",
   "execution_count": 5,
   "metadata": {},
   "outputs": [
    {
     "name": "stderr",
     "output_type": "stream",
     "text": [
      "100%|█████████████████████████████████████████████████████████████████████████████| 160/160 [00:00<00:00, 32000.79it/s]\n"
     ]
    },
    {
     "name": "stdout",
     "output_type": "stream",
     "text": [
      "['--------------', : UWI, SRC - Automatic Earthquake Location\n",
      "\n",
      "DATE AND TIME:\n",
      "2018-10-21 12:35 pm (Local Time)\n",
      "2018-10-21 16:35 (UTC)\n",
      "\n",
      "MAGNITUDE:\n",
      "5…, '--------------', CIVG COMMUNITY INVT GRP PNK USA \n",
      "read here: 👉   💱\n",
      "  AHAP.JK PT Asuransi Harta Aman Pratama T… , '--------------', The death toll from the earthquake that struck Indonesia's Central Sulawesi province last month has reached more th… , '--------------', : Site of 510 MW, $ 1.6 B dam in Batang Toru rainforest on Sumatra island is  d only known habitat of Tapanuli orangutan,…, '--------------', : Last month was Santorini and this month is Bali 🤔🤔🤔 what travel agency infiltrated Twitter???? , '--------------', : 【地震情報】 2018年10月21日 18時19分\n",
      "\n",
      "駿河湾 でM3.0の地震。  震源 34.8N 138.6E  深さ 240.4km  静岡市から 27.8km 地震 地殻変動 earthquake , '--------------', Earthquake:  mb 4.1 TAJIKISTAN: Magnitude   mb 4.1 Region   TAJIKISTAN Date time   2018-10-21 16:25:52.2 UTC Locati… , '--------------', M5.2 - 80km E of Roxborough, Trinidad and Tobago\n",
      "Mag: 5.2\n",
      "Depth: 18.08km\n",
      "Date-Time: 2018-10-21  16:35:11 UTC… , '--------------', M4.3 - 197km SE of Tabiauan, Philippines\n",
      "Mag: 4.3\n",
      "Depth: 584.87km\n",
      "Date-Time: 2018-10-21  16:38:53 UTC… , '--------------', : Gw fokus sama tujuan yg lbh besar &amp; mulia yaitu universal health coverage dimana seluruh rakyat Indonesi…, '--------------', : As the death toll mounts from the earthquake and tsunami that struck Palu on 28th September we ask: what went wrong in I…, '--------------', In California they are asking for 30 dollars a month donation for an Earthquake that has yet to and might never hap… , '--------------', Earthquake:  mb 4.2 NEW BRITAIN REGION, P.N.G.: Magnitude   mb 4.2 Region   NEW BRITAIN REGION, P.N.G. Date time   … , '--------------', : EarthquakePH EarthquakeBatangas\n",
      "Earthquake Information No. 1\n",
      "Date and Time: 22 October 2018 - 03:39 AM\n",
      "Magnitude = 2.5…, '--------------', From Australia. Rare but true. snake huge monstersize monster newzealand asia china japan singapore… , '--------------', Island of Flores , '--------------', 3.0 earthquake close to Chōshi-shi, Chiba-ken, Japan at 20:00 UTC! earthquake Chōshishi , '--------------', EarthquakePH EarthquakeEasternSamar\n",
      "Earthquake Information No. 1\n",
      "Date and Time: 22 October 2018 - 04:10 AM\n",
      "Magnit… , '--------------', 17:27:44 Shiga Kyoto Osaka Nara Estimated seismic intensity 0 Earthquake, '--------------', @MadeleinaKay It was an earthquake. 700,000 active on the streets represents 1000 each marcher non acti… , '--------------', : EarthquakePH EarthquakeSouthernLeyte\n",
      "Earthquake Information No. 1\n",
      "Date and Time: 22 October 2018 - 04:20 AM\n",
      "Magnitude…, '--------------', This how we livin next month, '--------------', Sportbike Owners 250 Community\n",
      "\n",
      "List active HondaBikersDay di Pangandaran 17 November 2018\n",
      "Tikum : TBA\n",
      "Jam : 23.00… , '--------------', : Today marks the 10th anniversary of the Great California ShakeOut earthquake drill! California is long overdue for a maj…, '--------------', Earthquake:  M 5.0 ECUADOR: Magnitude   M 5.0 Region   ECUADOR Date time   2018-10-21 21:09:00.7 UTC Location   1.7… , '--------------', trinidadandtobago earthquake flooding the entire Caribbean community is with you....\n",
      "\n",
      ".\n",
      ".\n",
      "news web sportsnews… , '--------------', : NEW: FIFTH earthquake has been registered near Preston new road fracking site.\n",
      "\n",
      "Full thread above ☝️\n",
      "\n",
      ", '--------------', Trinidad has an earthquake earlier today too., '--------------',  LastQuake \"Map of the testimonies received so far following the earthquake M5.1 in Ecuador 1hr 0min ago , '--------------', October 13, 2018: Landslide kills 27 people including 12 school children in Sumnatra  , '--------------', Another earthquake in Jamaica today...again!, '--------------', : Konstruksi Makassar New Port ini dimulai sejak Juni 2015\n",
      "Daaaan Makassar New Port ini bakal jadi yang PALING MODERN di In…, '--------------', : Selamat Hari Pemberantasan Kemiskinan Sedunia 2018! Melalui Community Development, turut berkontribusi mengu…, '--------------', 5.9 earthquake! Sun Oct 21 10:40:37 GMT+09:00 2018 near Southwest Indian Ridge  earthquake, '--------------', 5.0 earthquake! Sun Oct 21 21:29:52 GMT+09:00 2018 near 30km S of Kokopo, Papua New Guinea  earthquake, '--------------', Pree seh Trinidad experienced a 5.1 earthquake today. 🤨, '--------------', Earthquake Warning 24-27 October 2018 - YouTube , '--------------', Treasure Island Adventure begins now!! 😁🌴🌤🏄🏝 pulosaiji  PuloSaiji Waterpark Serpong… , '--------------', Earthquake:  M 4.1 GULF OF CALIFORNIA: Magnitude    M 4.1 Region   GULF OF CALIFORNIA Date time   2018-10-21 23:40:… , '--------------', After the earthquake, Sean Penn brought Britney Spears at 55 to the people of Haiti., '--------------', : EarthquakePH EarthquakeMaguindanao\n",
      "Earthquake Information No. 1\n",
      "Date and Time: 22 October 2018 - 08:00 AM\n",
      "Magnitude =…, '--------------', Mengerikan, sama saja Rezim ini menghabiskan pelan2 satu generasi selama 2015 -2019, '--------------', Community and Localization Executive - XII BRAVES PTE LTD - , '--------------', M4.4 - 63km ESE of Shizunai, Japan\n",
      "Mag: 4.4\n",
      "Depth: 67.26km\n",
      "Date-Time: 2018-10-21  23:48:26 UTC… , '--------------', Earthquake:  mb 4.4 HOKKAIDO, JAPAN REGION: Magnitude   mb 4.4 Region   HOKKAIDO, JAPAN REGION Date time   2018-10-… , '--------------', This and every Sunday on a island near you, '--------------', M4.5 - 189km ESE of Kimbe, Papua New Guinea\n",
      "Mag: 4.5\n",
      "Depth: 35km\n",
      "Date-Time: 2018-10-22  00:53:04 UTC… , '--------------', Wkt debat Capres/Wapres Jkw jelas ngomong itu lalu dituangkan dlm RPJM 2015-2019., '--------------', Meet one of IDEAFEST2018 speaker, he is Aries Lukman, the founder of the first mobilephotography community in Indo… ]\n"
     ]
    }
   ],
   "source": [
    "cat_0_tweet = summarize(cat0)\n",
    "\n",
    "print(cat_0_tweet)"
   ]
  },
  {
   "cell_type": "code",
   "execution_count": null,
   "metadata": {},
   "outputs": [],
   "source": []
  }
 ],
 "metadata": {
  "kernelspec": {
   "display_name": "Python [conda env:Anaconda]",
   "language": "python",
   "name": "conda-env-Anaconda-py"
  },
  "language_info": {
   "codemirror_mode": {
    "name": "ipython",
    "version": 3
   },
   "file_extension": ".py",
   "mimetype": "text/x-python",
   "name": "python",
   "nbconvert_exporter": "python",
   "pygments_lexer": "ipython3",
   "version": "3.6.5"
  }
 },
 "nbformat": 4,
 "nbformat_minor": 2
}
