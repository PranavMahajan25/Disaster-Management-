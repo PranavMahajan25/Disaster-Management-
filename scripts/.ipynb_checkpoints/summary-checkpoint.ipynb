{
 "cells": [
  {
   "cell_type": "code",
   "execution_count": 24,
   "metadata": {},
   "outputs": [],
   "source": [
    "import pandas as pd\n",
    "import numpy as np\n",
    "\n",
    "from keras.models import Sequential\n",
    "from keras.layers import Dense, Dropout\n",
    "from keras.layers import Flatten\n",
    "from keras.layers.embeddings import Embedding\n",
    "from keras.preprocessing import sequence\n",
    "from keras.models import load_model\n",
    "\n",
    "import re\n",
    "from sklearn.feature_extraction.text import TfidfVectorizer"
   ]
  },
  {
   "cell_type": "code",
   "execution_count": 8,
   "metadata": {
    "collapsed": true
   },
   "outputs": [],
   "source": [
    "unseen_data = pd.read_csv('./data/tweets_indonesia_unseen.csv')\n",
    "tweets_binary_df = pd.read_csv('./data/tweets_binary_df.csv')\n",
    "label_data = pd.read_csv('./data/label_data.csv')\n",
    "\n",
    "unseen_data.columns = unseen_data.columns.str.strip()\n",
    "\n",
    "x_unseen = unseen_data['tweet_text']"
   ]
  },
  {
   "cell_type": "markdown",
   "metadata": {},
   "source": [
    "# binary classfn\n"
   ]
  },
  {
   "cell_type": "code",
   "execution_count": 6,
   "metadata": {
    "collapsed": true
   },
   "outputs": [],
   "source": [
    "model_binary = load_model('binary_classification.h5')"
   ]
  },
  {
   "cell_type": "code",
   "execution_count": 10,
   "metadata": {
    "collapsed": true
   },
   "outputs": [],
   "source": [
    "x_binary = tweets_binary_df['tweet_text']"
   ]
  },
  {
   "cell_type": "code",
   "execution_count": 16,
   "metadata": {},
   "outputs": [],
   "source": [
    "#Pre-processing\n",
    "\n",
    "x_binary = x_binary.apply(lambda z: re.sub(u'http\\S+', u'', z)) \n",
    "x_binary = x_binary.apply(lambda z: re.sub(u'(\\s)@\\w+', u'', z))\n",
    "x_binary = x_binary.apply(lambda z: re.sub(u'#', u'', z))\n",
    "x_binary = x_binary.apply(lambda z: re.sub(u'RT', u'', z))\n",
    "\n",
    "x_unseen = x_unseen.apply(lambda z: re.sub(u'http\\S+', u'', z)) \n",
    "x_unseen = x_unseen.apply(lambda z: re.sub(u'(\\s)@\\w+', u'', z))\n",
    "x_unseen = x_unseen.apply(lambda z: re.sub(u'#', u'', z))\n",
    "x_unseen = x_unseen.apply(lambda z: re.sub(u'RT', u'', z))"
   ]
  },
  {
   "cell_type": "code",
   "execution_count": 14,
   "metadata": {},
   "outputs": [
    {
     "data": {
      "text/plain": [
       "TfidfVectorizer(analyzer='word', binary=False, decode_error='strict',\n",
       "        dtype=<class 'numpy.int64'>, encoding='utf-8', input='content',\n",
       "        lowercase=True, max_df=1.0, max_features=10000, min_df=1,\n",
       "        ngram_range=(1, 3), norm='l2', preprocessor=None, smooth_idf=True,\n",
       "        stop_words=None, strip_accents=None, sublinear_tf=False,\n",
       "        token_pattern='(?u)\\\\b\\\\w\\\\w+\\\\b', tokenizer=None, use_idf=True,\n",
       "        vocabulary=None)"
      ]
     },
     "execution_count": 14,
     "metadata": {},
     "output_type": "execute_result"
    }
   ],
   "source": [
    "tvec1 = TfidfVectorizer(max_features=10000,ngram_range=(1, 3))\n",
    "tvec1.fit(x_binary)"
   ]
  },
  {
   "cell_type": "code",
   "execution_count": 18,
   "metadata": {},
   "outputs": [],
   "source": [
    "x_unseen_tfidf = tvec1.transform(x_unseen)"
   ]
  },
  {
   "cell_type": "code",
   "execution_count": 19,
   "metadata": {
    "collapsed": true
   },
   "outputs": [],
   "source": [
    "y_unseen = model_binary.predict(x_unseen_tfidf, batch_size=256, verbose=0, steps=None)"
   ]
  },
  {
   "cell_type": "code",
   "execution_count": 20,
   "metadata": {},
   "outputs": [
    {
     "data": {
      "text/plain": [
       "76487"
      ]
     },
     "execution_count": 20,
     "metadata": {},
     "output_type": "execute_result"
    }
   ],
   "source": [
    "len(y_unseen)"
   ]
  },
  {
   "cell_type": "code",
   "execution_count": 30,
   "metadata": {},
   "outputs": [],
   "source": [
    "y_unseen_binary = []"
   ]
  },
  {
   "cell_type": "code",
   "execution_count": 33,
   "metadata": {},
   "outputs": [],
   "source": [
    "for i in range(len(y_unseen)):\n",
    "    if (y_unseen[i] <= 0.5):\n",
    "        y_unseen_binary.append(0)\n",
    "    else:\n",
    "        y_unseen_binary.append(1)"
   ]
  },
  {
   "cell_type": "code",
   "execution_count": 34,
   "metadata": {
    "collapsed": true
   },
   "outputs": [
    {
     "data": {
      "text/plain": [
       "[1,\n",
       " 0,\n",
       " 1,\n",
       " 0,\n",
       " 0,\n",
       " 1,\n",
       " 0,\n",
       " 1,\n",
       " 0,\n",
       " 1,\n",
       " 1,\n",
       " 1,\n",
       " 0,\n",
       " 1,\n",
       " 1,\n",
       " 1,\n",
       " 1,\n",
       " 1,\n",
       " 1,\n",
       " 1,\n",
       " 1,\n",
       " 1,\n",
       " 1,\n",
       " 0,\n",
       " 1,\n",
       " 1,\n",
       " 0,\n",
       " 0,\n",
       " 0,\n",
       " 0,\n",
       " 1,\n",
       " 0,\n",
       " 1,\n",
       " 0,\n",
       " 0,\n",
       " 1,\n",
       " 0,\n",
       " 1,\n",
       " 0,\n",
       " 0,\n",
       " 1,\n",
       " 1,\n",
       " 1,\n",
       " 1,\n",
       " 0,\n",
       " 1,\n",
       " 1,\n",
       " 1,\n",
       " 1,\n",
       " 1,\n",
       " 0,\n",
       " 1,\n",
       " 0,\n",
       " 0,\n",
       " 1,\n",
       " 0,\n",
       " 1,\n",
       " 1,\n",
       " 1,\n",
       " 1,\n",
       " 0,\n",
       " 1,\n",
       " 1,\n",
       " 1,\n",
       " 1,\n",
       " 0,\n",
       " 0,\n",
       " 1,\n",
       " 1,\n",
       " 0,\n",
       " 0,\n",
       " 1,\n",
       " 0,\n",
       " 1,\n",
       " 1,\n",
       " 1,\n",
       " 1,\n",
       " 0,\n",
       " 1,\n",
       " 0,\n",
       " 1,\n",
       " 1,\n",
       " 1,\n",
       " 1,\n",
       " 1,\n",
       " 1,\n",
       " 1,\n",
       " 0,\n",
       " 1,\n",
       " 1,\n",
       " 0,\n",
       " 1,\n",
       " 1,\n",
       " 1,\n",
       " 1,\n",
       " 1,\n",
       " 1,\n",
       " 1,\n",
       " 0,\n",
       " 0,\n",
       " 0,\n",
       " 0,\n",
       " 1,\n",
       " 0,\n",
       " 1,\n",
       " 1,\n",
       " 1,\n",
       " 1,\n",
       " 1,\n",
       " 1,\n",
       " 0,\n",
       " 1,\n",
       " 1,\n",
       " 1,\n",
       " 1,\n",
       " 1,\n",
       " 1,\n",
       " 0,\n",
       " 0,\n",
       " 1,\n",
       " 0,\n",
       " 0,\n",
       " 1,\n",
       " 0,\n",
       " 0,\n",
       " 1,\n",
       " 1,\n",
       " 1,\n",
       " 0,\n",
       " 0,\n",
       " 1,\n",
       " 1,\n",
       " 1,\n",
       " 1,\n",
       " 0,\n",
       " 1,\n",
       " 1,\n",
       " 0,\n",
       " 1,\n",
       " 1,\n",
       " 0,\n",
       " 1,\n",
       " 1,\n",
       " 1,\n",
       " 1,\n",
       " 1,\n",
       " 0,\n",
       " 0,\n",
       " 1,\n",
       " 1,\n",
       " 1,\n",
       " 1,\n",
       " 1,\n",
       " 1,\n",
       " 0,\n",
       " 1,\n",
       " 0,\n",
       " 1,\n",
       " 0,\n",
       " 1,\n",
       " 0,\n",
       " 1,\n",
       " 0,\n",
       " 1,\n",
       " 1,\n",
       " 1,\n",
       " 1,\n",
       " 1,\n",
       " 0,\n",
       " 0,\n",
       " 1,\n",
       " 0,\n",
       " 1,\n",
       " 0,\n",
       " 0,\n",
       " 1,\n",
       " 0,\n",
       " 0,\n",
       " 0,\n",
       " 1,\n",
       " 0,\n",
       " 1,\n",
       " 0,\n",
       " 1,\n",
       " 1,\n",
       " 1,\n",
       " 1,\n",
       " 1,\n",
       " 1,\n",
       " 0,\n",
       " 0,\n",
       " 1,\n",
       " 1,\n",
       " 0,\n",
       " 0,\n",
       " 1,\n",
       " 0,\n",
       " 1,\n",
       " 1,\n",
       " 0,\n",
       " 1,\n",
       " 0,\n",
       " 1,\n",
       " 1,\n",
       " 0,\n",
       " 0,\n",
       " 1,\n",
       " 0,\n",
       " 1,\n",
       " 0,\n",
       " 0,\n",
       " 1,\n",
       " 1,\n",
       " 0,\n",
       " 1,\n",
       " 0,\n",
       " 0,\n",
       " 1,\n",
       " 1,\n",
       " 0,\n",
       " 1,\n",
       " 0,\n",
       " 1,\n",
       " 1,\n",
       " 1,\n",
       " 1,\n",
       " 0,\n",
       " 0,\n",
       " 1,\n",
       " 1,\n",
       " 0,\n",
       " 0,\n",
       " 1,\n",
       " 0,\n",
       " 0,\n",
       " 0,\n",
       " 0,\n",
       " 1,\n",
       " 0,\n",
       " 1,\n",
       " 0,\n",
       " 1,\n",
       " 0,\n",
       " 1,\n",
       " 0,\n",
       " 0,\n",
       " 1,\n",
       " 0,\n",
       " 1,\n",
       " 0,\n",
       " 0,\n",
       " 1,\n",
       " 0,\n",
       " 1,\n",
       " 1,\n",
       " 1,\n",
       " 0,\n",
       " 1,\n",
       " 0,\n",
       " 1,\n",
       " 0,\n",
       " 1,\n",
       " 0,\n",
       " 0,\n",
       " 1,\n",
       " 0,\n",
       " 0,\n",
       " 0,\n",
       " 0,\n",
       " 1,\n",
       " 1,\n",
       " 1,\n",
       " 0,\n",
       " 0,\n",
       " 0,\n",
       " 0,\n",
       " 0,\n",
       " 0,\n",
       " 1,\n",
       " 1,\n",
       " 0,\n",
       " 0,\n",
       " 1,\n",
       " 1,\n",
       " 1,\n",
       " 0,\n",
       " 1,\n",
       " 1,\n",
       " 1,\n",
       " 1,\n",
       " 1,\n",
       " 0,\n",
       " 0,\n",
       " 0,\n",
       " 0,\n",
       " 0,\n",
       " 0,\n",
       " 1,\n",
       " 1,\n",
       " 1,\n",
       " 0,\n",
       " 1,\n",
       " 1,\n",
       " 0,\n",
       " 1,\n",
       " 1,\n",
       " 0,\n",
       " 0,\n",
       " 0,\n",
       " 0,\n",
       " 1,\n",
       " 1,\n",
       " 1,\n",
       " 1,\n",
       " 1,\n",
       " 0,\n",
       " 0,\n",
       " 1,\n",
       " 0,\n",
       " 0,\n",
       " 1,\n",
       " 0,\n",
       " 1,\n",
       " 1,\n",
       " 1,\n",
       " 1,\n",
       " 1,\n",
       " 0,\n",
       " 0,\n",
       " 1,\n",
       " 0,\n",
       " 0,\n",
       " 0,\n",
       " 1,\n",
       " 1,\n",
       " 1,\n",
       " 0,\n",
       " 1,\n",
       " 1,\n",
       " 0,\n",
       " 1,\n",
       " 1,\n",
       " 1,\n",
       " 1,\n",
       " 0,\n",
       " 0,\n",
       " 1,\n",
       " 1,\n",
       " 1,\n",
       " 0,\n",
       " 1,\n",
       " 1,\n",
       " 1,\n",
       " 0,\n",
       " 1,\n",
       " 0,\n",
       " 0,\n",
       " 1,\n",
       " 1,\n",
       " 1,\n",
       " 0,\n",
       " 1,\n",
       " 0,\n",
       " 1,\n",
       " 0,\n",
       " 1,\n",
       " 1,\n",
       " 1,\n",
       " 0,\n",
       " 1,\n",
       " 1,\n",
       " 1,\n",
       " 0,\n",
       " 1,\n",
       " 0,\n",
       " 1,\n",
       " 1,\n",
       " 1,\n",
       " 0,\n",
       " 1,\n",
       " 0,\n",
       " 0,\n",
       " 1,\n",
       " 1,\n",
       " 1,\n",
       " 1,\n",
       " 1,\n",
       " 1,\n",
       " 0,\n",
       " 0,\n",
       " 0,\n",
       " 0,\n",
       " 0,\n",
       " 1,\n",
       " 1,\n",
       " 1,\n",
       " 1,\n",
       " 1,\n",
       " 1,\n",
       " 1,\n",
       " 0,\n",
       " 1,\n",
       " 0,\n",
       " 1,\n",
       " 1,\n",
       " 0,\n",
       " 1,\n",
       " 1,\n",
       " 1,\n",
       " 1,\n",
       " 0,\n",
       " 1,\n",
       " 0,\n",
       " 1,\n",
       " 1,\n",
       " 1,\n",
       " 0,\n",
       " 0,\n",
       " 1,\n",
       " 0,\n",
       " 1,\n",
       " 0,\n",
       " 0,\n",
       " 0,\n",
       " 1,\n",
       " 1,\n",
       " 0,\n",
       " 0,\n",
       " 1,\n",
       " 1,\n",
       " 1,\n",
       " 1,\n",
       " 1,\n",
       " 1,\n",
       " 1,\n",
       " 1,\n",
       " 1,\n",
       " 1,\n",
       " 0,\n",
       " 1,\n",
       " 0,\n",
       " 0,\n",
       " 0,\n",
       " 1,\n",
       " 0,\n",
       " 1,\n",
       " 1,\n",
       " 0,\n",
       " 1,\n",
       " 1,\n",
       " 1,\n",
       " 1,\n",
       " 1,\n",
       " 1,\n",
       " 1,\n",
       " 1,\n",
       " 1,\n",
       " 1,\n",
       " 1,\n",
       " 0,\n",
       " 1,\n",
       " 0,\n",
       " 1,\n",
       " 0,\n",
       " 1,\n",
       " 0,\n",
       " 1,\n",
       " 1,\n",
       " 0,\n",
       " 0,\n",
       " 1,\n",
       " 0,\n",
       " 1,\n",
       " 1,\n",
       " 1,\n",
       " 0,\n",
       " 1,\n",
       " 0,\n",
       " 1,\n",
       " 0,\n",
       " 0,\n",
       " 1,\n",
       " 1,\n",
       " 1,\n",
       " 0,\n",
       " 0,\n",
       " 0,\n",
       " 1,\n",
       " 0,\n",
       " 1,\n",
       " 0,\n",
       " 1,\n",
       " 0,\n",
       " 0,\n",
       " 0,\n",
       " 1,\n",
       " 0,\n",
       " 1,\n",
       " 0,\n",
       " 0,\n",
       " 0,\n",
       " 0,\n",
       " 1,\n",
       " 0,\n",
       " 0,\n",
       " 0,\n",
       " 0,\n",
       " 1,\n",
       " 0,\n",
       " 1,\n",
       " 1,\n",
       " 0,\n",
       " 1,\n",
       " 0,\n",
       " 0,\n",
       " 0,\n",
       " 0,\n",
       " 1,\n",
       " 0,\n",
       " 0,\n",
       " 1,\n",
       " 1,\n",
       " 0,\n",
       " 1,\n",
       " 0,\n",
       " 1,\n",
       " 1,\n",
       " 1,\n",
       " 1,\n",
       " 0,\n",
       " 1,\n",
       " 1,\n",
       " 1,\n",
       " 0,\n",
       " 0,\n",
       " 0,\n",
       " 0,\n",
       " 1,\n",
       " 1,\n",
       " 0,\n",
       " 1,\n",
       " 0,\n",
       " 1,\n",
       " 0,\n",
       " 1,\n",
       " 0,\n",
       " 1,\n",
       " 1,\n",
       " 1,\n",
       " 1,\n",
       " 1,\n",
       " 0,\n",
       " 1,\n",
       " 0,\n",
       " 0,\n",
       " 1,\n",
       " 1,\n",
       " 0,\n",
       " 0,\n",
       " 0,\n",
       " 0,\n",
       " 0,\n",
       " 0,\n",
       " 0,\n",
       " 1,\n",
       " 1,\n",
       " 1,\n",
       " 0,\n",
       " 1,\n",
       " 1,\n",
       " 1,\n",
       " 0,\n",
       " 1,\n",
       " 0,\n",
       " 1,\n",
       " 1,\n",
       " 1,\n",
       " 0,\n",
       " 0,\n",
       " 0,\n",
       " 1,\n",
       " 0,\n",
       " 1,\n",
       " 1,\n",
       " 0,\n",
       " 1,\n",
       " 0,\n",
       " 0,\n",
       " 1,\n",
       " 0,\n",
       " 0,\n",
       " 0,\n",
       " 1,\n",
       " 1,\n",
       " 1,\n",
       " 0,\n",
       " 1,\n",
       " 0,\n",
       " 1,\n",
       " 1,\n",
       " 1,\n",
       " 1,\n",
       " 0,\n",
       " 1,\n",
       " 1,\n",
       " 0,\n",
       " 1,\n",
       " 1,\n",
       " 1,\n",
       " 1,\n",
       " 0,\n",
       " 0,\n",
       " 0,\n",
       " 1,\n",
       " 0,\n",
       " 1,\n",
       " 0,\n",
       " 0,\n",
       " 1,\n",
       " 1,\n",
       " 1,\n",
       " 1,\n",
       " 0,\n",
       " 1,\n",
       " 1,\n",
       " 0,\n",
       " 1,\n",
       " 0,\n",
       " 0,\n",
       " 1,\n",
       " 1,\n",
       " 0,\n",
       " 1,\n",
       " 1,\n",
       " 1,\n",
       " 1,\n",
       " 1,\n",
       " 1,\n",
       " 0,\n",
       " 1,\n",
       " 1,\n",
       " 1,\n",
       " 1,\n",
       " 0,\n",
       " 0,\n",
       " 1,\n",
       " 0,\n",
       " 1,\n",
       " 1,\n",
       " 0,\n",
       " 1,\n",
       " 0,\n",
       " 0,\n",
       " 1,\n",
       " 0,\n",
       " 1,\n",
       " 1,\n",
       " 1,\n",
       " 0,\n",
       " 0,\n",
       " 0,\n",
       " 0,\n",
       " 1,\n",
       " 1,\n",
       " 0,\n",
       " 1,\n",
       " 0,\n",
       " 0,\n",
       " 1,\n",
       " 0,\n",
       " 1,\n",
       " 1,\n",
       " 1,\n",
       " 0,\n",
       " 1,\n",
       " 1,\n",
       " 0,\n",
       " 1,\n",
       " 0,\n",
       " 1,\n",
       " 0,\n",
       " 0,\n",
       " 0,\n",
       " 0,\n",
       " 1,\n",
       " 1,\n",
       " 1,\n",
       " 0,\n",
       " 0,\n",
       " 0,\n",
       " 1,\n",
       " 0,\n",
       " 1,\n",
       " 1,\n",
       " 1,\n",
       " 1,\n",
       " 1,\n",
       " 1,\n",
       " 0,\n",
       " 1,\n",
       " 0,\n",
       " 1,\n",
       " 1,\n",
       " 0,\n",
       " 1,\n",
       " 0,\n",
       " 0,\n",
       " 0,\n",
       " 1,\n",
       " 0,\n",
       " 1,\n",
       " 0,\n",
       " 0,\n",
       " 0,\n",
       " 1,\n",
       " 1,\n",
       " 1,\n",
       " 0,\n",
       " 1,\n",
       " 1,\n",
       " 1,\n",
       " 0,\n",
       " 1,\n",
       " 1,\n",
       " 1,\n",
       " 1,\n",
       " 1,\n",
       " 1,\n",
       " 1,\n",
       " 1,\n",
       " 0,\n",
       " 1,\n",
       " 1,\n",
       " 1,\n",
       " 0,\n",
       " 1,\n",
       " 0,\n",
       " 0,\n",
       " 0,\n",
       " 1,\n",
       " 0,\n",
       " 1,\n",
       " 1,\n",
       " 1,\n",
       " 0,\n",
       " 1,\n",
       " 1,\n",
       " 1,\n",
       " 0,\n",
       " 0,\n",
       " 1,\n",
       " 0,\n",
       " 0,\n",
       " 0,\n",
       " 1,\n",
       " 1,\n",
       " 1,\n",
       " 0,\n",
       " 0,\n",
       " 0,\n",
       " 1,\n",
       " 1,\n",
       " 1,\n",
       " 0,\n",
       " 1,\n",
       " 1,\n",
       " 1,\n",
       " 1,\n",
       " 0,\n",
       " 1,\n",
       " 1,\n",
       " 1,\n",
       " 0,\n",
       " 1,\n",
       " 1,\n",
       " 1,\n",
       " 1,\n",
       " 1,\n",
       " 1,\n",
       " 1,\n",
       " 1,\n",
       " 0,\n",
       " 1,\n",
       " 1,\n",
       " 0,\n",
       " 1,\n",
       " 1,\n",
       " 0,\n",
       " 0,\n",
       " 0,\n",
       " 1,\n",
       " 0,\n",
       " 0,\n",
       " 1,\n",
       " 1,\n",
       " 1,\n",
       " 1,\n",
       " 1,\n",
       " 1,\n",
       " 1,\n",
       " 1,\n",
       " 0,\n",
       " 0,\n",
       " 1,\n",
       " 1,\n",
       " 1,\n",
       " 1,\n",
       " 1,\n",
       " 1,\n",
       " 1,\n",
       " 1,\n",
       " 1,\n",
       " 1,\n",
       " 0,\n",
       " 0,\n",
       " 0,\n",
       " 1,\n",
       " 1,\n",
       " 1,\n",
       " 1,\n",
       " 0,\n",
       " 0,\n",
       " 0,\n",
       " 1,\n",
       " 1,\n",
       " 1,\n",
       " 0,\n",
       " 0,\n",
       " 0,\n",
       " 0,\n",
       " 0,\n",
       " 0,\n",
       " 1,\n",
       " 0,\n",
       " 1,\n",
       " 1,\n",
       " 0,\n",
       " 1,\n",
       " 0,\n",
       " 1,\n",
       " 1,\n",
       " 0,\n",
       " 1,\n",
       " 0,\n",
       " 0,\n",
       " 0,\n",
       " 1,\n",
       " 1,\n",
       " 0,\n",
       " 1,\n",
       " 1,\n",
       " 1,\n",
       " 1,\n",
       " 0,\n",
       " 1,\n",
       " 1,\n",
       " 1,\n",
       " 0,\n",
       " 1,\n",
       " 1,\n",
       " 1,\n",
       " 0,\n",
       " 1,\n",
       " 1,\n",
       " 1,\n",
       " 1,\n",
       " 1,\n",
       " 1,\n",
       " 0,\n",
       " 0,\n",
       " 1,\n",
       " 1,\n",
       " 1,\n",
       " 1,\n",
       " 1,\n",
       " 0,\n",
       " 1,\n",
       " 0,\n",
       " 0,\n",
       " 0,\n",
       " 0,\n",
       " 1,\n",
       " 1,\n",
       " 1,\n",
       " 0,\n",
       " 0,\n",
       " 1,\n",
       " 1,\n",
       " 0,\n",
       " 1,\n",
       " 0,\n",
       " 0,\n",
       " 1,\n",
       " 1,\n",
       " 0,\n",
       " 1,\n",
       " 1,\n",
       " 1,\n",
       " 1,\n",
       " 0,\n",
       " 0,\n",
       " 1,\n",
       " 0,\n",
       " 1,\n",
       " 1,\n",
       " 1,\n",
       " 0,\n",
       " 0,\n",
       " 1,\n",
       " 0,\n",
       " 0,\n",
       " 0,\n",
       " 1,\n",
       " 1,\n",
       " 0,\n",
       " 0,\n",
       " 1,\n",
       " 1,\n",
       " 0,\n",
       " 0,\n",
       " 0,\n",
       " 0,\n",
       " 1,\n",
       " 0,\n",
       " 1,\n",
       " 0,\n",
       " 0,\n",
       " 0,\n",
       " 1,\n",
       " 1,\n",
       " 0,\n",
       " 0,\n",
       " 1,\n",
       " 1,\n",
       " 0,\n",
       " 1,\n",
       " 1,\n",
       " 0,\n",
       " 1,\n",
       " 0,\n",
       " 0,\n",
       " 1,\n",
       " 1,\n",
       " 1,\n",
       " 0,\n",
       " 0,\n",
       " 0,\n",
       " 1,\n",
       " 0,\n",
       " 0,\n",
       " 0,\n",
       " 1,\n",
       " 0,\n",
       " 1,\n",
       " 0,\n",
       " 0,\n",
       " 1,\n",
       " 0,\n",
       " 1,\n",
       " 1,\n",
       " 1,\n",
       " 0,\n",
       " 1,\n",
       " 0,\n",
       " 1,\n",
       " 1,\n",
       " 1,\n",
       " 1,\n",
       " 1,\n",
       " 0,\n",
       " 0,\n",
       " 1,\n",
       " 1,\n",
       " 1,\n",
       " 1,\n",
       " 1,\n",
       " 0,\n",
       " 0,\n",
       " 1,\n",
       " 1,\n",
       " 0,\n",
       " 1,\n",
       " 0,\n",
       " 1,\n",
       " 0,\n",
       " 0,\n",
       " 1,\n",
       " 1,\n",
       " 1,\n",
       " 1,\n",
       " 0,\n",
       " 1,\n",
       " 0,\n",
       " 1,\n",
       " 1,\n",
       " 1,\n",
       " 0,\n",
       " 0,\n",
       " 0,\n",
       " 0,\n",
       " ...]"
      ]
     },
     "execution_count": 34,
     "metadata": {},
     "output_type": "execute_result"
    }
   ],
   "source": [
    "y_unseen_binary"
   ]
  },
  {
   "cell_type": "code",
   "execution_count": 36,
   "metadata": {},
   "outputs": [],
   "source": [
    "x_unseen_disaster = []\n",
    "\n",
    "for i in range(len(x_unseen)):\n",
    "    if (y_unseen_binary[i] == 1):\n",
    "        x_unseen_disaster.append(x_unseen[i])"
   ]
  },
  {
   "cell_type": "code",
   "execution_count": 37,
   "metadata": {},
   "outputs": [
    {
     "data": {
      "text/plain": [
       "47668"
      ]
     },
     "execution_count": 37,
     "metadata": {},
     "output_type": "execute_result"
    }
   ],
   "source": [
    "len(x_unseen_disaster)"
   ]
  },
  {
   "cell_type": "markdown",
   "metadata": {},
   "source": [
    "# Multi classfn"
   ]
  },
  {
   "cell_type": "code",
   "execution_count": 43,
   "metadata": {
    "collapsed": true
   },
   "outputs": [],
   "source": [
    "model_multi = load_model('multi_classification.h5')"
   ]
  },
  {
   "cell_type": "code",
   "execution_count": 44,
   "metadata": {
    "collapsed": true
   },
   "outputs": [],
   "source": [
    "x = label_data['tweet_text']"
   ]
  },
  {
   "cell_type": "code",
   "execution_count": 45,
   "metadata": {
    "collapsed": true
   },
   "outputs": [],
   "source": [
    "#Pre-processing\n",
    "import re\n",
    "x = x.apply(lambda z: re.sub(u'http\\S+', u'', z)) \n",
    "x = x.apply(lambda z: re.sub(u'(\\s)@\\w+', u'', z))\n",
    "x = x.apply(lambda z: re.sub(u'#', u'', z))\n",
    "x = x.apply(lambda z: re.sub(u'RT', u'', z))"
   ]
  },
  {
   "cell_type": "code",
   "execution_count": 46,
   "metadata": {},
   "outputs": [
    {
     "data": {
      "text/plain": [
       "TfidfVectorizer(analyzer='word', binary=False, decode_error='strict',\n",
       "        dtype=<class 'numpy.int64'>, encoding='utf-8', input='content',\n",
       "        lowercase=True, max_df=1.0, max_features=1000, min_df=1,\n",
       "        ngram_range=(1, 3), norm='l2', preprocessor=None, smooth_idf=True,\n",
       "        stop_words='english', strip_accents=None, sublinear_tf=False,\n",
       "        token_pattern='(?u)\\\\b\\\\w\\\\w+\\\\b', tokenizer=None, use_idf=True,\n",
       "        vocabulary=None)"
      ]
     },
     "execution_count": 46,
     "metadata": {},
     "output_type": "execute_result"
    }
   ],
   "source": [
    "tvec2 = TfidfVectorizer(max_features=1000,ngram_range=(1, 3),analyzer='word',norm='l2',stop_words='english')\n",
    "tvec2.fit(x)"
   ]
  },
  {
   "cell_type": "code",
   "execution_count": 47,
   "metadata": {
    "collapsed": true
   },
   "outputs": [],
   "source": [
    "x_unseen_disaster_tfidf = tvec2.transform(x_unseen_disaster)"
   ]
  },
  {
   "cell_type": "code",
   "execution_count": 49,
   "metadata": {
    "collapsed": true
   },
   "outputs": [],
   "source": [
    "y_unseen_multi_one_hot = model_multi.predict(x_unseen_disaster_tfidf, batch_size=256, verbose=0, steps=None)"
   ]
  },
  {
   "cell_type": "code",
   "execution_count": 52,
   "metadata": {},
   "outputs": [],
   "source": [
    "y_unseen_multi = np.argmax(y_unseen_multi_one_hot , axis=1)"
   ]
  },
  {
   "cell_type": "code",
   "execution_count": 56,
   "metadata": {},
   "outputs": [],
   "source": [
    "#Converting predicted classes back into pandas dataframe:\n",
    "\n",
    "columns=['tweet_text']\n",
    "\n",
    "#x_unseen_disaster_transpose =x_unseen_disaster.reshape(-1)\n",
    "y_unseen_multi_transpose = y_unseen_multi.reshape(-1)\n",
    "\n",
    "unseen_data = pd.DataFrame(data = x_unseen_disaster, columns=columns)\n",
    "\n",
    "unseen_data['label_n'] = y_unseen_multi_transpose\n"
   ]
  },
  {
   "cell_type": "code",
   "execution_count": 58,
   "metadata": {},
   "outputs": [],
   "source": [
    "cat0 = []\n",
    "cat1 = []\n",
    "cat2 = []\n",
    "cat3 = []"
   ]
  },
  {
   "cell_type": "code",
   "execution_count": 59,
   "metadata": {
    "collapsed": true
   },
   "outputs": [],
   "source": [
    "for i in range(len(unseen_data)):\n",
    "  \n",
    "  if (unseen_data['label_n'][i] == 0):\n",
    "    cat0.append(unseen_data['tweet_text'][i])\n",
    "    \n",
    "  if (unseen_data['label_n'][i] == 1):\n",
    "    cat1.append(unseen_data['tweet_text'][i])\n",
    "    \n",
    "  if (unseen_data['label_n'][i] == 2):\n",
    "    cat2.append(unseen_data['tweet_text'][i])\n",
    "    \n",
    "  if (unseen_data['label_n'][i] == 3):\n",
    "    cat3.append(unseen_data['tweet_text'][i])\n",
    "    "
   ]
  },
  {
   "cell_type": "code",
   "execution_count": 60,
   "metadata": {},
   "outputs": [
    {
     "data": {
      "text/plain": [
       "47668"
      ]
     },
     "execution_count": 60,
     "metadata": {},
     "output_type": "execute_result"
    }
   ],
   "source": [
    "len(unseen_data)"
   ]
  },
  {
   "cell_type": "code",
   "execution_count": 61,
   "metadata": {},
   "outputs": [
    {
     "data": {
      "text/plain": [
       "160"
      ]
     },
     "execution_count": 61,
     "metadata": {},
     "output_type": "execute_result"
    }
   ],
   "source": [
    "len(cat0)"
   ]
  },
  {
   "cell_type": "code",
   "execution_count": 62,
   "metadata": {},
   "outputs": [
    {
     "data": {
      "text/plain": [
       "26"
      ]
     },
     "execution_count": 62,
     "metadata": {},
     "output_type": "execute_result"
    }
   ],
   "source": [
    "len(cat1)"
   ]
  },
  {
   "cell_type": "code",
   "execution_count": 63,
   "metadata": {},
   "outputs": [
    {
     "data": {
      "text/plain": [
       "4767"
      ]
     },
     "execution_count": 63,
     "metadata": {},
     "output_type": "execute_result"
    }
   ],
   "source": [
    "len(cat2)"
   ]
  },
  {
   "cell_type": "code",
   "execution_count": 64,
   "metadata": {},
   "outputs": [
    {
     "data": {
      "text/plain": [
       "42715"
      ]
     },
     "execution_count": 64,
     "metadata": {},
     "output_type": "execute_result"
    }
   ],
   "source": [
    "len(cat3)"
   ]
  },
  {
   "cell_type": "markdown",
   "metadata": {},
   "source": [
    "# Summarizing"
   ]
  },
  {
   "cell_type": "code",
   "execution_count": 87,
   "metadata": {},
   "outputs": [],
   "source": [
    "from __future__ import division\n",
    "\n",
    "import spacy\n",
    "from spacy.tokens.doc import Doc\n",
    "import inspect\n",
    "\n",
    "from textacy.vsm import Vectorizer\n",
    "import textacy.vsm\n",
    "\n",
    "import scipy.sparse as sp\n",
    "\n",
    "from tqdm import *\n",
    "\n",
    "from pymprog import *"
   ]
  },
  {
   "cell_type": "code",
   "execution_count": 75,
   "metadata": {
    "collapsed": true
   },
   "outputs": [],
   "source": [
    "main_words = [u'earthquake', u'killed', u'injured', u'stranded', u'wounded', u'hurt', u'helpless', u'wrecked', u'richter', u'numbers', u'emergency', u'blood', u'donations', u'volunteer']"
   ]
  },
  {
   "cell_type": "code",
   "execution_count": 76,
   "metadata": {
    "collapsed": true
   },
   "outputs": [],
   "source": [
    "useful_entities = [u'NORP', u'FACILITY', u'ORG', u'GPE', u'LOC', u'EVENT', u'DATE', u'TIME']"
   ]
  },
  {
   "cell_type": "code",
   "execution_count": 126,
   "metadata": {
    "collapsed": true
   },
   "outputs": [],
   "source": [
    "def content_words(i):\n",
    "    '''Given a tweet index i (for x[i]), this method will return the indices of the words in the \n",
    "    content_vocab[] array\n",
    "    Note: these indices are the same as for the y variable\n",
    "    '''\n",
    "    tweet = spacy_tweets[i]\n",
    "    content_indices = []\n",
    "    \n",
    "    for token in tweet:\n",
    "        if token.lemma_ in content_vocab:\n",
    "            content_indices.append(content_vocab.index(token.lemma_))\n",
    "    return content_indices"
   ]
  },
  {
   "cell_type": "code",
   "execution_count": 127,
   "metadata": {
    "collapsed": true
   },
   "outputs": [],
   "source": [
    "def tweets_with_content_words(j):\n",
    "    '''Given the index j of some content word (for content_vocab[j] or y[j])\n",
    "    this method will return the indices of all tweets which contain this content word\n",
    "    '''\n",
    "    content_word = content_vocab[j]\n",
    "    \n",
    "    index_in_term_matrix = vectorizer.vocabulary_terms[content_word]\n",
    "    \n",
    "    matrix_column = np_matrix[:, index_in_term_matrix]\n",
    "    \n",
    "    return np.nonzero(matrix_column)[0]"
   ]
  },
  {
   "cell_type": "markdown",
   "metadata": {},
   "source": [
    "CAT 0"
   ]
  },
  {
   "cell_type": "code",
   "execution_count": 107,
   "metadata": {
    "collapsed": true
   },
   "outputs": [],
   "source": [
    "columns = ['tweet_texts']\n",
    "cat0_df = pd.DataFrame(data = cat0, columns=columns)\n",
    "# removing URLS\n",
    "cat0_df.tweet_texts = cat0_df.tweet_texts.apply(lambda x: re.sub(u'http\\S+', u'', x))   \n",
    "\n",
    "# removing @... \n",
    "cat0_df.tweet_texts = cat0_df.tweet_texts.apply(lambda x: re.sub(u'(\\s)@\\w+', u'', x))\n",
    "\n",
    "# removing hashtags\n",
    "cat0_df.tweet_texts = cat0_df.tweet_texts.apply(lambda x: re.sub(u'#', u'', x))\n",
    "\n",
    "cat0_df.tweet_texts = cat0_df.tweet_texts.apply(lambda x: x.replace(u'RT:', u''))"
   ]
  },
  {
   "cell_type": "code",
   "execution_count": 108,
   "metadata": {
    "collapsed": true
   },
   "outputs": [],
   "source": [
    "nlp = spacy.load('en')"
   ]
  },
  {
   "cell_type": "code",
   "execution_count": 109,
   "metadata": {
    "collapsed": true
   },
   "outputs": [],
   "source": [
    "spacy_tweets = []\n",
    "\n",
    "for doc in nlp.pipe(cat0_df.tweet_texts, n_threads = -1):\n",
    "    spacy_tweets.append(doc)"
   ]
  },
  {
   "cell_type": "code",
   "execution_count": 111,
   "metadata": {},
   "outputs": [
    {
     "name": "stderr",
     "output_type": "stream",
     "text": [
      "100%|█████████████████████████████████████████████████████████████████████████████| 160/160 [00:00<00:00, 40069.78it/s]\n"
     ]
    }
   ],
   "source": [
    "content_tweets = []\n",
    "for single_tweet in tqdm(spacy_tweets):\n",
    "    single_tweet_content = []\n",
    "    for token in single_tweet: \n",
    "        if ((token.ent_type_ in useful_entities)  \n",
    "            or (token.pos_ == u'NUM') \n",
    "            or (token.lower_ in main_words)):\n",
    "            single_tweet_content.append(token)\n",
    "    content_tweets.append(single_tweet_content)"
   ]
  },
  {
   "cell_type": "code",
   "execution_count": 117,
   "metadata": {},
   "outputs": [],
   "source": [
    "vectorizer = textacy.Vectorizer(tf_type='linear', apply_idf=True, idf_type='smooth') \n",
    "#Maybe wrong, coz documnetation of textacy not updated "
   ]
  },
  {
   "cell_type": "code",
   "execution_count": 118,
   "metadata": {
    "collapsed": true
   },
   "outputs": [],
   "source": [
    "term_matrix = vectorizer.fit_transform([tok.lemma_ for tok in doc] for doc in spacy_tweets)"
   ]
  },
  {
   "cell_type": "code",
   "execution_count": 119,
   "metadata": {
    "collapsed": true
   },
   "outputs": [],
   "source": [
    "np_matrix = term_matrix.todense()"
   ]
  },
  {
   "cell_type": "code",
   "execution_count": 120,
   "metadata": {},
   "outputs": [],
   "source": [
    "tfidf_dict = {}\n",
    "content_vocab = []\n",
    "for tweet in content_tweets: \n",
    "    for token in tweet: \n",
    "        if token.lemma_ not in tfidf_dict: \n",
    "            content_vocab.append(token.lemma_)\n",
    "            tfidf_dict[token.lemma_] = np.max(np_matrix[:,vectorizer.vocabulary_terms[token.lemma_]])"
   ]
  },
  {
   "cell_type": "code",
   "execution_count": 121,
   "metadata": {},
   "outputs": [
    {
     "data": {
      "text/plain": [
       "model('COWTS') is the default model."
      ]
     },
     "execution_count": 121,
     "metadata": {},
     "output_type": "execute_result"
    }
   ],
   "source": [
    "begin('COWTS')"
   ]
  },
  {
   "cell_type": "code",
   "execution_count": 122,
   "metadata": {
    "collapsed": true
   },
   "outputs": [],
   "source": [
    "# Defining my first variable, x \n",
    "# This defines whether or not a tweet is selected\n",
    "x = var('x', len(spacy_tweets), bool)"
   ]
  },
  {
   "cell_type": "code",
   "execution_count": 123,
   "metadata": {
    "collapsed": true
   },
   "outputs": [],
   "source": [
    "# Also defining the second variable, which defines\n",
    "# whether or not a content word is chosen\n",
    "y = var('y', len(content_vocab), bool)"
   ]
  },
  {
   "cell_type": "code",
   "execution_count": 124,
   "metadata": {
    "collapsed": true
   },
   "outputs": [
    {
     "data": {
      "text/plain": [
       "Max : x[0] + x[1] + x[2] + x[3] + x[4] + x[5] + x[6] + x[7] + x[8] + x[9] + x[10] + x[11] + x[12] + x[13] + x[14] + x[15] + x[16] + x[17] + x[18] + x[19] + x[20] + x[21] + x[22] + x[23] + x[24] + x[25] + x[26] + x[27] + x[28] + x[29] + x[30] + x[31] + x[32] + x[33] + x[34] + x[35] + x[36] + x[37] + x[38] + x[39] + x[40] + x[41] + x[42] + x[43] + x[44] + x[45] + x[46] + x[47] + x[48] + x[49] + x[50] + x[51] + x[52] + x[53] + x[54] + x[55] + x[56] + x[57] + x[58] + x[59] + x[60] + x[61] + x[62] + x[63] + x[64] + x[65] + x[66] + x[67] + x[68] + x[69] + x[70] + x[71] + x[72] + x[73] + x[74] + x[75] + x[76] + x[77] + x[78] + x[79] + x[80] + x[81] + x[82] + x[83] + x[84] + x[85] + x[86] + x[87] + x[88] + x[89] + x[90] + x[91] + x[92] + x[93] + x[94] + x[95] + x[96] + x[97] + x[98] + x[99] + x[100] + x[101] + x[102] + x[103] + x[104] + x[105] + x[106] + x[107] + x[108] + x[109] + x[110] + x[111] + x[112] + x[113] + x[114] + x[115] + x[116] + x[117] + x[118] + x[119] + x[120] + x[121] + x[122] + x[123] + x[124] + x[125] + x[126] + x[127] + x[128] + x[129] + x[130] + x[131] + x[132] + x[133] + x[134] + x[135] + x[136] + x[137] + x[138] + x[139] + x[140] + x[141] + x[142] + x[143] + x[144] + x[145] + x[146] + x[147] + x[148] + x[149] + x[150] + x[151] + x[152] + x[153] + x[154] + x[155] + x[156] + x[157] + x[158] + x[159] + 3.5164550075229264 * y[0] + 3.5164550075229264 * y[1] + 10.555562257161705 * y[2] + 3.5164550075229264 * y[3] + 4.744784083962594 * y[4] + 3.373354163882253 * y[5] + 5.980723823252294 * y[6] + 2.1693813595563167 * y[7] + 4.379168133747672 * y[8] + 4.148142359503984 * y[9] + 6.07376385452208 * y[10] + 5.725057080232524 * y[11] + 3.5164550075229264 * y[12] + 3.5164550075229264 * y[13] + 3.4423470353692043 * y[14] + 3.5164550075229264 * y[15] + 3.03688192726104 * y[16] + 3.7788192719904172 * y[17] + 5.388257184424518 * y[18] + 4.001962823304627 * y[19] + 5.388257184424518 * y[20] + 5.388257184424518 * y[21] + 5.388257184424518 * y[22] + 4.471966452550363 * y[23] + 8.003925646609254 * y[24] + 3.7788192719904172 * y[25] + 4.695110003864572 * y[26] + 14.085330011593717 * y[27] + 4.001962823304627 * y[28] + 2.417842718854817 * y[29] + 4.13549421592915 * y[30] + 5.388257184424518 * y[31] + 4.695110003864572 * y[32] + 4.982792076316353 * y[33] + 4.982792076316353 * y[34] + 4.982792076316353 * y[35] + 4.982792076316353 * y[36] + 4.982792076316353 * y[37] + 2.823307826962981 * y[38] + 2.862528540116262 * y[39] + 2.714108534997989 * y[40] + 4.695110003864572 * y[41] + 5.388257184424518 * y[42] + 5.388257184424518 * y[43] + 5.388257184424518 * y[44] + 5.388257184424518 * y[45] + 5.388257184424518 * y[46] + 5.388257184424518 * y[47] + 5.388257184424518 * y[48] + 8.587585620348786 * y[49] + 9.965584152632706 * y[50] + 10.776514368849035 * y[51] + 5.388257184424518 * y[52] + 5.388257184424518 * y[53] + 2.9459101490553135 * y[54] + 4.982792076316353 * y[55] + 15.047051125820959 * y[56] + 4.982792076316353 * y[57] + 4.13549421592915 * y[58] + 4.471966452550363 * y[59] + 4.982792076316353 * y[60] + 4.982792076316353 * y[61] + 5.388257184424518 * y[62] + 5.388257184424518 * y[63] + 5.388257184424518 * y[64] + 5.388257184424518 * y[65] + 5.388257184424518 * y[66] + 4.982792076316353 * y[67] + 5.388257184424518 * y[68] + 4.982792076316353 * y[69] + 4.982792076316353 * y[70] + 9.390220007729145 * y[71] + 4.982792076316353 * y[72] + 10.776514368849035 * y[73] + 8.003925646609254 * y[74] + 9.965584152632706 * y[75] + 12.406482647787449 * y[76] + 4.695110003864572 * y[77] + 4.695110003864572 * y[78] + 2.9033505346365174 * y[79] + 4.982792076316353 * y[80] + 5.388257184424518 * y[81] + 5.388257184424518 * y[82] + 8.943932905100725 * y[83] + 4.982792076316353 * y[84] + 4.695110003864572 * y[85] + 5.388257184424518 * y[86] + 5.388257184424518 * y[87] + 5.388257184424518 * y[88] + 5.388257184424518 * y[89] + 5.388257184424518 * y[90] + 4.13549421592915 * y[91] + 4.13549421592915 * y[92] + 5.388257184424518 * y[93] + 5.388257184424518 * y[94] + 5.388257184424518 * y[95] + 5.388257184424518 * y[96] + 5.388257184424518 * y[97] + 4.695110003864572 * y[98] + 4.695110003864572 * y[99] + 4.982792076316353 * y[100] + 5.388257184424518 * y[101] + 5.388257184424518 * y[102] + 5.388257184424518 * y[103] + 5.388257184424518 * y[104] + 5.388257184424518 * y[105] + 5.388257184424518 * y[106] + 5.388257184424518 * y[107] + 5.806701069273035 * y[108] + 5.388257184424518 * y[109] + 5.388257184424518 * y[110] + 9.965584152632706 * y[111] + 9.965584152632706 * y[112] + 5.388257184424518 * y[113] + 5.388257184424518 * y[114] + 9.965584152632706 * y[115] + 4.982792076316353 * y[116] + 4.471966452550363 * y[117] + 4.982792076316353 * y[118] + 4.471966452550363 * y[119] + 3.6835090921860925 * y[120] + 5.388257184424518 * y[121] + 5.388257184424518 * y[122] + 4.982792076316353 * y[123] + 4.695110003864572 * y[124] + 5.388257184424518 * y[125] + 4.13549421592915 * y[126] + 5.388257184424518 * y[127] + 5.388257184424518 * y[128] + 5.388257184424518 * y[129] + 5.388257184424518 * y[130] + 4.995770853056706 * y[131] + 5.209123487491735 * y[132] + 5.388257184424518 * y[133] + 4.982792076316353 * y[134] + 10.776514368849035 * y[135] + 4.471966452550363 * y[136] + 5.388257184424518 * y[137] + 5.388257184424518 * y[138] + 4.695110003864572 * y[139] + 5.388257184424518 * y[140] + 5.388257184424518 * y[141] + 5.388257184424518 * y[142] + 4.982792076316353 * y[143] + 4.982792076316353 * y[144] + 4.982792076316353 * y[145] + 4.982792076316353 * y[146] + 4.695110003864572 * y[147] + 4.695110003864572 * y[148] + 5.388257184424518 * y[149] + 4.695110003864572 * y[150] + 4.982792076316353 * y[151] + 4.982792076316353 * y[152] + 5.388257184424518 * y[153] + 5.388257184424518 * y[154] + 5.388257184424518 * y[155] + 5.388257184424518 * y[156] + 10.776514368849035 * y[157] + 8.579289791512817 * y[158] + 10.776514368849035 * y[159] + 6.273930771636045 * y[160] + 5.388257184424518 * y[161] + 4.982792076316353 * y[162] + 5.388257184424518 * y[163] + 5.388257184424518 * y[164] + 4.982792076316353 * y[165] + 4.982792076316353 * y[166] + 5.388257184424518 * y[167] + 5.388257184424518 * y[168] + 5.388257184424518 * y[169] + 5.388257184424518 * y[170] + 5.388257184424518 * y[171] + 5.388257184424518 * y[172] + 5.388257184424518 * y[173] + 4.982792076316353 * y[174] + 9.965584152632706 * y[175] + 5.388257184424518 * y[176] + 5.388257184424518 * y[177] + 16.5419768637166 * y[178] + 10.776514368849035 * y[179] + 5.388257184424518 * y[180] + 5.388257184424518 * y[181] + 9.965584152632706 * y[182] + 5.388257184424518 * y[183] + 5.388257184424518 * y[184] + 5.388257184424518 * y[185] + 5.388257184424518 * y[186] + 5.388257184424518 * y[187] + 5.388257184424518 * y[188] + 5.388257184424518 * y[189] + 5.388257184424518 * y[190] + 5.388257184424518 * y[191] + 5.388257184424518 * y[192] + 5.388257184424518 * y[193]"
      ]
     },
     "execution_count": 124,
     "metadata": {},
     "output_type": "execute_result"
    }
   ],
   "source": [
    "maximize(sum(x) + sum([tfidf_dict[content_vocab[j]]*y[j] for j in range(len(y))]))"
   ]
  },
  {
   "cell_type": "code",
   "execution_count": 125,
   "metadata": {
    "collapsed": true
   },
   "outputs": [
    {
     "data": {
      "text/plain": [
       "R1: x[0] * 41 + x[1] * 22 + x[2] * 27 + x[3] * 22 + x[4] * 8 + x[5] * 8 + x[6] * 41 + x[7] * 8 + x[8] * 8 + x[9] * 8 + x[10] * 25 + x[11] * 8 + x[12] * 37 + x[13] * 41 + x[14] * 41 + x[15] * 8 + x[16] * 8 + x[17] * 41 + x[18] * 8 + x[19] * 41 + x[20] * 8 + x[21] * 37 + x[22] * 8 + x[23] * 8 + x[24] * 37 + x[25] * 8 + x[26] * 8 + x[27] * 20 + x[28] * 41 + x[29] * 28 + x[30] * 19 + x[31] * 22 + x[32] * 8 + x[33] * 8 + x[34] * 10 + x[35] * 8 + x[36] * 25 + x[37] * 8 + x[38] * 8 + x[39] * 26 + x[40] * 8 + x[41] * 41 + x[42] * 18 + x[43] * 18 + x[44] * 26 + x[45] * 21 + x[46] * 34 + x[47] * 32 + x[48] * 21 + x[49] * 8 + x[50] * 21 + x[51] * 8 + x[52] * 20 + x[53] * 26 + x[54] * 23 + x[55] * 21 + x[56] * 8 + x[57] * 22 + x[58] * 8 + x[59] * 26 + x[60] * 22 + x[61] * 25 + x[62] * 25 + x[63] * 17 + x[64] * 9 + x[65] * 3 + x[66] * 19 + x[67] * 7 + x[68] * 22 + x[69] * 22 + x[70] * 24 + x[71] * 24 + x[72] * 24 + x[73] * 24 + x[74] * 10 + x[75] * 18 + x[76] * 23 + x[77] * 23 + x[78] * 6 + x[79] * 7 + x[80] * 23 + x[81] * 22 + x[82] * 22 + x[83] * 41 + x[84] * 28 + x[85] * 31 + x[86] * 20 + x[87] * 20 + x[88] * 21 + x[89] * 22 + x[90] * 20 + x[91] * 11 + x[92] * 10 + x[93] * 27 + x[94] * 23 + x[95] * 21 + x[96] * 29 + x[97] * 17 + x[98] * 22 + x[99] * 22 + x[100] * 22 + x[101] * 23 + x[102] * 23 + x[103] * 13 + x[104] * 8 + x[105] * 7 + x[106] * 8 + x[107] * 19 + x[108] * 16 + x[109] * 8 + x[110] * 24 + x[111] * 6 + x[112] * 36 + x[113] * 22 + x[114] * 8 + x[115] * 23 + x[116] * 23 + x[117] * 8 + x[118] * 16 + x[119] * 8 + x[120] * 8 + x[121] * 8 + x[122] * 8 + x[123] * 15 + x[124] * 21 + x[125] * 8 + x[126] * 10 + x[127] * 9 + x[128] * 16 + x[129] * 18 + x[130] * 29 + x[131] * 10 + x[132] * 35 + x[133] * 8 + x[134] * 8 + x[135] * 26 + x[136] * 17 + x[137] * 8 + x[138] * 24 + x[139] * 24 + x[140] * 13 + x[141] * 21 + x[142] * 8 + x[143] * 10 + x[144] * 8 + x[145] * 8 + x[146] * 20 + x[147] * 28 + x[148] * 32 + x[149] * 27 + x[150] * 8 + x[151] * 9 + x[152] * 8 + x[153] * 13 + x[154] * 25 + x[155] * 26 + x[156] * 34 + x[157] * 17 + x[158] * 17 + x[159] * 21 <= 1000"
      ]
     },
     "execution_count": 125,
     "metadata": {},
     "output_type": "execute_result"
    }
   ],
   "source": [
    "## Maximum length of the entire tweet summary\n",
    "\n",
    "# Was 150 for the tweet summary, \n",
    "# But generated a 1000 word summary for CONABS\n",
    "L = 1000\n",
    "\n",
    "# hiding the output of this line since its a very long sum \n",
    "sum([x[i]*len(spacy_tweets[i]) for i in range(len(x))]) <= L"
   ]
  },
  {
   "cell_type": "code",
   "execution_count": 128,
   "metadata": {
    "collapsed": true
   },
   "outputs": [],
   "source": [
    "for j in range(len(y)):\n",
    "    sum([x[i] for i in tweets_with_content_words(j)])>= y[j]"
   ]
  },
  {
   "cell_type": "code",
   "execution_count": 129,
   "metadata": {
    "collapsed": true
   },
   "outputs": [],
   "source": [
    "for i in range(len(x)):\n",
    "    sum(y[j] for j in content_words(i)) >= len(content_words(i))*x[i]"
   ]
  },
  {
   "cell_type": "code",
   "execution_count": 130,
   "metadata": {},
   "outputs": [
    {
     "data": {
      "text/plain": [
       "(0,\n",
       " 'The MIP problem instance has been successfully solved. (This code\\ndoes {\\\\it not} necessarily mean that the solver has found optimal\\nsolution. It only means that the solution process was successful.)')"
      ]
     },
     "execution_count": 130,
     "metadata": {},
     "output_type": "execute_result"
    }
   ],
   "source": [
    "solve()"
   ]
  },
  {
   "cell_type": "code",
   "execution_count": 131,
   "metadata": {
    "collapsed": true
   },
   "outputs": [],
   "source": [
    "result_x =  [value.primal for value in x]\n",
    "result_y = [value.primal for value in y]"
   ]
  },
  {
   "cell_type": "code",
   "execution_count": 132,
   "metadata": {},
   "outputs": [
    {
     "data": {
      "text/plain": [
       "model('COWTS') is not the default model."
      ]
     },
     "execution_count": 132,
     "metadata": {},
     "output_type": "execute_result"
    }
   ],
   "source": [
    "end()"
   ]
  },
  {
   "cell_type": "code",
   "execution_count": 133,
   "metadata": {
    "collapsed": true
   },
   "outputs": [],
   "source": [
    "chosen_tweets = np.nonzero(result_x)\n",
    "chosen_words = np.nonzero(result_y)"
   ]
  },
  {
   "cell_type": "code",
   "execution_count": 134,
   "metadata": {},
   "outputs": [
    {
     "data": {
      "text/plain": [
       "(49, 184)"
      ]
     },
     "execution_count": 134,
     "metadata": {},
     "output_type": "execute_result"
    }
   ],
   "source": [
    "len(chosen_tweets[0]), len(chosen_words[0])"
   ]
  },
  {
   "cell_type": "code",
   "execution_count": 135,
   "metadata": {},
   "outputs": [
    {
     "name": "stdout",
     "output_type": "stream",
     "text": [
      "--------------\n",
      ": UWI, SRC - Automatic Earthquake Location\n",
      "\n",
      "DATE AND TIME:\n",
      "2018-10-21 12:35 pm (Local Time)\n",
      "2018-10-21 16:35 (UTC)\n",
      "\n",
      "MAGNITUDE:\n",
      "5…\n",
      "--------------\n",
      "CIVG COMMUNITY INVT GRP PNK USA \n",
      "read here: 👉   💱\n",
      "  AHAP.JK PT Asuransi Harta Aman Pratama T… \n",
      "--------------\n",
      "The death toll from the earthquake that struck Indonesia's Central Sulawesi province last month has reached more th… \n",
      "--------------\n",
      ": Site of 510 MW, $ 1.6 B dam in Batang Toru rainforest on Sumatra island is  d only known habitat of Tapanuli orangutan,…\n",
      "--------------\n",
      ": Last month was Santorini and this month is Bali 🤔🤔🤔 what travel agency infiltrated Twitter???? \n",
      "--------------\n",
      ": 【地震情報】 2018年10月21日 18時19分\n",
      "\n",
      "駿河湾 でM3.0の地震。  震源 34.8N 138.6E  深さ 240.4km  静岡市から 27.8km 地震 地殻変動 earthquake \n",
      "--------------\n",
      "Earthquake:  mb 4.1 TAJIKISTAN: Magnitude   mb 4.1 Region   TAJIKISTAN Date time   2018-10-21 16:25:52.2 UTC Locati… \n",
      "--------------\n",
      "M5.2 - 80km E of Roxborough, Trinidad and Tobago\n",
      "Mag: 5.2\n",
      "Depth: 18.08km\n",
      "Date-Time: 2018-10-21  16:35:11 UTC… \n",
      "--------------\n",
      "M4.3 - 197km SE of Tabiauan, Philippines\n",
      "Mag: 4.3\n",
      "Depth: 584.87km\n",
      "Date-Time: 2018-10-21  16:38:53 UTC… \n",
      "--------------\n",
      ": Gw fokus sama tujuan yg lbh besar &amp; mulia yaitu universal health coverage dimana seluruh rakyat Indonesi…\n",
      "--------------\n",
      ": As the death toll mounts from the earthquake and tsunami that struck Palu on 28th September we ask: what went wrong in I…\n",
      "--------------\n",
      "In California they are asking for 30 dollars a month donation for an Earthquake that has yet to and might never hap… \n",
      "--------------\n",
      "Earthquake:  mb 4.2 NEW BRITAIN REGION, P.N.G.: Magnitude   mb 4.2 Region   NEW BRITAIN REGION, P.N.G. Date time   … \n",
      "--------------\n",
      ": EarthquakePH EarthquakeBatangas\n",
      "Earthquake Information No. 1\n",
      "Date and Time: 22 October 2018 - 03:39 AM\n",
      "Magnitude = 2.5…\n",
      "--------------\n",
      "From Australia. Rare but true. snake huge monstersize monster newzealand asia china japan singapore… \n",
      "--------------\n",
      "Island of Flores \n",
      "--------------\n",
      "3.0 earthquake close to Chōshi-shi, Chiba-ken, Japan at 20:00 UTC! earthquake Chōshishi \n",
      "--------------\n",
      "EarthquakePH EarthquakeEasternSamar\n",
      "Earthquake Information No. 1\n",
      "Date and Time: 22 October 2018 - 04:10 AM\n",
      "Magnit… \n",
      "--------------\n",
      "17:27:44 Shiga Kyoto Osaka Nara Estimated seismic intensity 0 Earthquake\n",
      "--------------\n",
      "@MadeleinaKay It was an earthquake. 700,000 active on the streets represents 1000 each marcher non acti… \n",
      "--------------\n",
      ": EarthquakePH EarthquakeSouthernLeyte\n",
      "Earthquake Information No. 1\n",
      "Date and Time: 22 October 2018 - 04:20 AM\n",
      "Magnitude…\n",
      "--------------\n",
      "This how we livin next month\n",
      "--------------\n",
      "Sportbike Owners 250 Community\n",
      "\n",
      "List active HondaBikersDay di Pangandaran 17 November 2018\n",
      "Tikum : TBA\n",
      "Jam : 23.00… \n",
      "--------------\n",
      ": Today marks the 10th anniversary of the Great California ShakeOut earthquake drill! California is long overdue for a maj…\n",
      "--------------\n",
      "Earthquake:  M 5.0 ECUADOR: Magnitude   M 5.0 Region   ECUADOR Date time   2018-10-21 21:09:00.7 UTC Location   1.7… \n",
      "--------------\n",
      "trinidadandtobago earthquake flooding the entire Caribbean community is with you....\n",
      "\n",
      ".\n",
      ".\n",
      "news web sportsnews… \n",
      "--------------\n",
      ": NEW: FIFTH earthquake has been registered near Preston new road fracking site.\n",
      "\n",
      "Full thread above ☝️\n",
      "\n",
      "\n",
      "--------------\n",
      "Trinidad has an earthquake earlier today too.\n",
      "--------------\n",
      " LastQuake \"Map of the testimonies received so far following the earthquake M5.1 in Ecuador 1hr 0min ago \n",
      "--------------\n",
      "October 13, 2018: Landslide kills 27 people including 12 school children in Sumnatra  \n",
      "--------------\n",
      "Another earthquake in Jamaica today...again!\n",
      "--------------\n",
      ": Konstruksi Makassar New Port ini dimulai sejak Juni 2015\n",
      "Daaaan Makassar New Port ini bakal jadi yang PALING MODERN di In…\n",
      "--------------\n",
      ": Selamat Hari Pemberantasan Kemiskinan Sedunia 2018! Melalui Community Development, turut berkontribusi mengu…\n",
      "--------------\n",
      "5.9 earthquake! Sun Oct 21 10:40:37 GMT+09:00 2018 near Southwest Indian Ridge  earthquake\n",
      "--------------\n",
      "5.0 earthquake! Sun Oct 21 21:29:52 GMT+09:00 2018 near 30km S of Kokopo, Papua New Guinea  earthquake\n",
      "--------------\n",
      "Pree seh Trinidad experienced a 5.1 earthquake today. 🤨\n",
      "--------------\n",
      "Earthquake Warning 24-27 October 2018 - YouTube \n",
      "--------------\n",
      "Treasure Island Adventure begins now!! 😁🌴🌤🏄🏝 pulosaiji  PuloSaiji Waterpark Serpong… \n",
      "--------------\n",
      "Earthquake:  M 4.1 GULF OF CALIFORNIA: Magnitude    M 4.1 Region   GULF OF CALIFORNIA Date time   2018-10-21 23:40:… \n",
      "--------------\n",
      "After the earthquake, Sean Penn brought Britney Spears at 55 to the people of Haiti.\n",
      "--------------\n",
      ": EarthquakePH EarthquakeMaguindanao\n",
      "Earthquake Information No. 1\n",
      "Date and Time: 22 October 2018 - 08:00 AM\n",
      "Magnitude =…\n",
      "--------------\n",
      "Mengerikan, sama saja Rezim ini menghabiskan pelan2 satu generasi selama 2015 -2019\n",
      "--------------\n",
      "Community and Localization Executive - XII BRAVES PTE LTD - \n",
      "--------------\n",
      "M4.4 - 63km ESE of Shizunai, Japan\n",
      "Mag: 4.4\n",
      "Depth: 67.26km\n",
      "Date-Time: 2018-10-21  23:48:26 UTC… \n",
      "--------------\n",
      "Earthquake:  mb 4.4 HOKKAIDO, JAPAN REGION: Magnitude   mb 4.4 Region   HOKKAIDO, JAPAN REGION Date time   2018-10-… \n",
      "--------------\n",
      "This and every Sunday on a island near you\n",
      "--------------\n",
      "M4.5 - 189km ESE of Kimbe, Papua New Guinea\n",
      "Mag: 4.5\n",
      "Depth: 35km\n",
      "Date-Time: 2018-10-22  00:53:04 UTC… \n",
      "--------------\n",
      "Wkt debat Capres/Wapres Jkw jelas ngomong itu lalu dituangkan dlm RPJM 2015-2019.\n",
      "--------------\n",
      "Meet one of IDEAFEST2018 speaker, he is Aries Lukman, the founder of the first mobilephotography community in Indo… \n"
     ]
    }
   ],
   "source": [
    "for i in chosen_tweets[0]:\n",
    "    print ('--------------')\n",
    "    print (spacy_tweets[i])    "
   ]
  },
  {
   "cell_type": "code",
   "execution_count": 136,
   "metadata": {
    "collapsed": true
   },
   "outputs": [],
   "source": []
  },
  {
   "cell_type": "markdown",
   "metadata": {},
   "source": [
    "CAT 2"
   ]
  },
  {
   "cell_type": "code",
   "execution_count": 68,
   "metadata": {
    "collapsed": true
   },
   "outputs": [],
   "source": [
    "columns = ['tweet_texts']\n",
    "cat2_df = pd.DataFrame(data = cat2, columns=columns)\n",
    "# removing URLS\n",
    "cat2_df.tweet_texts = cat2_df.tweet_texts.apply(lambda x: re.sub(u'http\\S+', u'', x))   \n",
    "\n",
    "# removing @... \n",
    "cat2_df.tweet_texts = cat2_df.tweet_texts.apply(lambda x: re.sub(u'(\\s)@\\w+', u'', x))\n",
    "\n",
    "# removing hashtags\n",
    "cat2_df.tweet_texts = cat2_df.tweet_texts.apply(lambda x: re.sub(u'#', u'', x))\n",
    "\n",
    "cat2_df.tweet_texts = cat2_df.tweet_texts.apply(lambda x: x.replace(u'RT:', u''))"
   ]
  },
  {
   "cell_type": "code",
   "execution_count": 73,
   "metadata": {},
   "outputs": [],
   "source": [
    "nlp = spacy.load('en')"
   ]
  },
  {
   "cell_type": "code",
   "execution_count": 74,
   "metadata": {
    "collapsed": true
   },
   "outputs": [],
   "source": [
    "spacy_tweets = []\n",
    "\n",
    "for doc in nlp.pipe(cat2_df.tweet_texts, n_threads = -1):\n",
    "    spacy_tweets.append(doc)"
   ]
  },
  {
   "cell_type": "code",
   "execution_count": 77,
   "metadata": {},
   "outputs": [
    {
     "name": "stderr",
     "output_type": "stream",
     "text": [
      "100%|███████████████████████████████████████████████████████████████████████████| 4767/4767 [00:00<00:00, 30591.19it/s]\n"
     ]
    }
   ],
   "source": [
    "content_tweets = []\n",
    "for single_tweet in tqdm(spacy_tweets):\n",
    "    single_tweet_content = []\n",
    "    for token in single_tweet: \n",
    "        if ((token.ent_type_ in useful_entities)  \n",
    "            or (token.pos_ == u'NUM') \n",
    "            or (token.lower_ in main_words)):\n",
    "            single_tweet_content.append(token)\n",
    "    content_tweets.append(single_tweet_content)"
   ]
  },
  {
   "cell_type": "code",
   "execution_count": 82,
   "metadata": {
    "collapsed": true
   },
   "outputs": [],
   "source": [
    "term_matrix = vectorizer.fit_transform([tok.lemma_ for tok in doc] for doc in spacy_tweets)"
   ]
  },
  {
   "cell_type": "code",
   "execution_count": 83,
   "metadata": {
    "collapsed": true
   },
   "outputs": [],
   "source": [
    "np_matrix = term_matrix.todense()"
   ]
  },
  {
   "cell_type": "code",
   "execution_count": 85,
   "metadata": {},
   "outputs": [],
   "source": [
    "tfidf_dict = {}\n",
    "content_vocab = []\n",
    "for tweet in content_tweets: \n",
    "    for token in tweet: \n",
    "        if token.lemma_ not in tfidf_dict: \n",
    "            content_vocab.append(token.lemma_)\n",
    "            tfidf_dict[token.lemma_] = np.max(np_matrix[:,vectorizer.vocabulary_terms[token.lemma_]])"
   ]
  },
  {
   "cell_type": "code",
   "execution_count": 88,
   "metadata": {},
   "outputs": [
    {
     "data": {
      "text/plain": [
       "model('COWTS') is the default model."
      ]
     },
     "execution_count": 88,
     "metadata": {},
     "output_type": "execute_result"
    }
   ],
   "source": [
    "begin('COWTS')"
   ]
  },
  {
   "cell_type": "code",
   "execution_count": 89,
   "metadata": {
    "collapsed": true
   },
   "outputs": [],
   "source": [
    "# Defining my first variable, x \n",
    "# This defines whether or not a tweet is selected\n",
    "x = var('x', len(spacy_tweets), bool)"
   ]
  },
  {
   "cell_type": "code",
   "execution_count": 91,
   "metadata": {},
   "outputs": [],
   "source": [
    "# Also defining the second variable, which defines\n",
    "# whether or not a content word is chosen\n",
    "y = var('y', len(content_vocab), bool)"
   ]
  },
  {
   "cell_type": "code",
   "execution_count": 92,
   "metadata": {
    "collapsed": true
   },
   "outputs": [
    {
     "data": {
      "text/plain": [
       "Max : x[0] + x[1] + x[2] + x[3] + x[4] + x[5] + x[6] + x[7] + x[8] + x[9] + x[10] + x[11] + x[12] + x[13] + x[14] + x[15] + x[16] + x[17] + x[18] + x[19] + x[20] + x[21] + x[22] + x[23] + x[24] + x[25] + x[26] + x[27] + x[28] + x[29] + x[30] + x[31] + x[32] + x[33] + x[34] + x[35] + x[36] + x[37] + x[38] + x[39] + x[40] + x[41] + x[42] + x[43] + x[44] + x[45] + x[46] + x[47] + x[48] + x[49] + x[50] + x[51] + x[52] + x[53] + x[54] + x[55] + x[56] + x[57] + x[58] + x[59] + x[60] + x[61] + x[62] + x[63] + x[64] + x[65] + x[66] + x[67] + x[68] + x[69] + x[70] + x[71] + x[72] + x[73] + x[74] + x[75] + x[76] + x[77] + x[78] + x[79] + x[80] + x[81] + x[82] + x[83] + x[84] + x[85] + x[86] + x[87] + x[88] + x[89] + x[90] + x[91] + x[92] + x[93] + x[94] + x[95] + x[96] + x[97] + x[98] + x[99] + x[100] + x[101] + x[102] + x[103] + x[104] + x[105] + x[106] + x[107] + x[108] + x[109] + x[110] + x[111] + x[112] + x[113] + x[114] + x[115] + x[116] + x[117] + x[118] + x[119] + x[120] + x[121] + x[122] + x[123] + x[124] + x[125] + x[126] + x[127] + x[128] + x[129] + x[130] + x[131] + x[132] + x[133] + x[134] + x[135] + x[136] + x[137] + x[138] + x[139] + x[140] + x[141] + x[142] + x[143] + x[144] + x[145] + x[146] + x[147] + x[148] + x[149] + x[150] + x[151] + x[152] + x[153] + x[154] + x[155] + x[156] + x[157] + x[158] + x[159] + x[160] + x[161] + x[162] + x[163] + x[164] + x[165] + x[166] + x[167] + x[168] + x[169] + x[170] + x[171] + x[172] + x[173] + x[174] + x[175] + x[176] + x[177] + x[178] + x[179] + x[180] + x[181] + x[182] + x[183] + x[184] + x[185] + x[186] + x[187] + x[188] + x[189] + x[190] + x[191] + x[192] + x[193] + x[194] + x[195] + x[196] + x[197] + x[198] + x[199] + x[200] + x[201] + x[202] + x[203] + x[204] + x[205] + x[206] + x[207] + x[208] + x[209] + x[210] + x[211] + x[212] + x[213] + x[214] + x[215] + x[216] + x[217] + x[218] + x[219] + x[220] + x[221] + x[222] + x[223] + x[224] + x[225] + x[226] + x[227] + x[228] + x[229] + x[230] + x[231] + x[232] + x[233] + x[234] + x[235] + x[236] + x[237] + x[238] + x[239] + x[240] + x[241] + x[242] + x[243] + x[244] + x[245] + x[246] + x[247] + x[248] + x[249] + x[250] + x[251] + x[252] + x[253] + x[254] + x[255] + x[256] + x[257] + x[258] + x[259] + x[260] + x[261] + x[262] + x[263] + x[264] + x[265] + x[266] + x[267] + x[268] + x[269] + x[270] + x[271] + x[272] + x[273] + x[274] + x[275] + x[276] + x[277] + x[278] + x[279] + x[280] + x[281] + x[282] + x[283] + x[284] + x[285] + x[286] + x[287] + x[288] + x[289] + x[290] + x[291] + x[292] + x[293] + x[294] + x[295] + x[296] + x[297] + x[298] + x[299] + x[300] + x[301] + x[302] + x[303] + x[304] + x[305] + x[306] + x[307] + x[308] + x[309] + x[310] + x[311] + x[312] + x[313] + x[314] + x[315] + x[316] + x[317] + x[318] + x[319] + x[320] + x[321] + x[322] + x[323] + x[324] + x[325] + x[326] + x[327] + x[328] + x[329] + x[330] + x[331] + x[332] + x[333] + x[334] + x[335] + x[336] + x[337] + x[338] + x[339] + x[340] + x[341] + x[342] + x[343] + x[344] + x[345] + x[346] + x[347] + x[348] + x[349] + x[350] + x[351] + x[352] + x[353] + x[354] + x[355] + x[356] + x[357] + x[358] + x[359] + x[360] + x[361] + x[362] + x[363] + x[364] + x[365] + x[366] + x[367] + x[368] + x[369] + x[370] + x[371] + x[372] + x[373] + x[374] + x[375] + x[376] + x[377] + x[378] + x[379] + x[380] + x[381] + x[382] + x[383] + x[384] + x[385] + x[386] + x[387] + x[388] + x[389] + x[390] + x[391] + x[392] + x[393] + x[394] + x[395] + x[396] + x[397] + x[398] + x[399] + x[400] + x[401] + x[402] + x[403] + x[404] + x[405] + x[406] + x[407] + x[408] + x[409] + x[410] + x[411] + x[412] + x[413] + x[414] + x[415] + x[416] + x[417] + x[418] + x[419] + x[420] + x[421] + x[422] + x[423] + x[424] + x[425] + x[426] + x[427] + x[428] + x[429] + x[430] + x[431] + x[432] + x[433] + x[434] + x[435] + x[436] + x[437] + x[438] + x[439] + x[440] + x[441] + x[442] + x[443] + x[444] + x[445] + x[446] + x[447] + x[448] + x[449] + x[450] + x[451] + x[452] + x[453] + x[454] + x[455] + x[456] + x[457] + x[458] + x[459] + x[460] + x[461] + x[462] + x[463] + x[464] + x[465] + x[466] + x[467] + x[468] + x[469] + x[470] + x[471] + x[472] + x[473] + x[474] + x[475] + x[476] + x[477] + x[478] + x[479] + x[480] + x[481] + x[482] + x[483] + x[484] + x[485] + x[486] + x[487] + x[488] + x[489] + x[490] + x[491] + x[492] + x[493] + x[494] + x[495] + x[496] + x[497] + x[498] + x[499] + x[500] + x[501] + x[502] + x[503] + x[504] + x[505] + x[506] + x[507] + x[508] + x[509] + x[510] + x[511] + x[512] + x[513] + x[514] + x[515] + x[516] + x[517] + x[518] + x[519] + x[520] + x[521] + x[522] + x[523] + x[524] + x[525] + x[526] + x[527] + x[528] + x[529] + x[530] + x[531] + x[532] + x[533] + x[534] + x[535] + x[536] + x[537] + x[538] + x[539] + x[540] + x[541] + x[542] + x[543] + x[544] + x[545] + x[546] + x[547] + x[548] + x[549] + x[550] + x[551] + x[552] + x[553] + x[554] + x[555] + x[556] + x[557] + x[558] + x[559] + x[560] + x[561] + x[562] + x[563] + x[564] + x[565] + x[566] + x[567] + x[568] + x[569] + x[570] + x[571] + x[572] + x[573] + x[574] + x[575] + x[576] + x[577] + x[578] + x[579] + x[580] + x[581] + x[582] + x[583] + x[584] + x[585] + x[586] + x[587] + x[588] + x[589] + x[590] + x[591] + x[592] + x[593] + x[594] + x[595] + x[596] + x[597] + x[598] + x[599] + x[600] + x[601] + x[602] + x[603] + x[604] + x[605] + x[606] + x[607] + x[608] + x[609] + x[610] + x[611] + x[612] + x[613] + x[614] + x[615] + x[616] + x[617] + x[618] + x[619] + x[620] + x[621] + x[622] + x[623] + x[624] + x[625] + x[626] + x[627] + x[628] + x[629] + x[630] + x[631] + x[632] + x[633] + x[634] + x[635] + x[636] + x[637] + x[638] + x[639] + x[640] + x[641] + x[642] + x[643] + x[644] + x[645] + x[646] + x[647] + x[648] + x[649] + x[650] + x[651] + x[652] + x[653] + x[654] + x[655] + x[656] + x[657] + x[658] + x[659] + x[660] + x[661] + x[662] + x[663] + x[664] + x[665] + x[666] + x[667] + x[668] + x[669] + x[670] + x[671] + x[672] + x[673] + x[674] + x[675] + x[676] + x[677] + x[678] + x[679] + x[680] + x[681] + x[682] + x[683] + x[684] + x[685] + x[686] + x[687] + x[688] + x[689] + x[690] + x[691] + x[692] + x[693] + x[694] + x[695] + x[696] + x[697] + x[698] + x[699] + x[700] + x[701] + x[702] + x[703] + x[704] + x[705] + x[706] + x[707] + x[708] + x[709] + x[710] + x[711] + x[712] + x[713] + x[714] + x[715] + x[716] + x[717] + x[718] + x[719] + x[720] + x[721] + x[722] + x[723] + x[724] + x[725] + x[726] + x[727] + x[728] + x[729] + x[730] + x[731] + x[732] + x[733] + x[734] + x[735] + x[736] + x[737] + x[738] + x[739] + x[740] + x[741] + x[742] + x[743] + x[744] + x[745] + x[746] + x[747] + x[748] + x[749] + x[750] + x[751] + x[752] + x[753] + x[754] + x[755] + x[756] + x[757] + x[758] + x[759] + x[760] + x[761] + x[762] + x[763] + x[764] + x[765] + x[766] + x[767] + x[768] + x[769] + x[770] + x[771] + x[772] + x[773] + x[774] + x[775] + x[776] + x[777] + x[778] + x[779] + x[780] + x[781] + x[782] + x[783] + x[784] + x[785] + x[786] + x[787] + x[788] + x[789] + x[790] + x[791] + x[792] + x[793] + x[794] + x[795] + x[796] + x[797] + x[798] + x[799] + x[800] + x[801] + x[802] + x[803] + x[804] + x[805] + x[806] + x[807] + x[808] + x[809] + x[810] + x[811] + x[812] + x[813] + x[814] + x[815] + x[816] + x[817] + x[818] + x[819] + x[820] + x[821] + x[822] + x[823] + x[824] + x[825] + x[826] + x[827] + x[828] + x[829] + x[830] + x[831] + x[832] + x[833] + x[834] + x[835] + x[836] + x[837] + x[838] + x[839] + x[840] + x[841] + x[842] + x[843] + x[844] + x[845] + x[846] + x[847] + x[848] + x[849] + x[850] + x[851] + x[852] + x[853] + x[854] + x[855] + x[856] + x[857] + x[858] + x[859] + x[860] + x[861] + x[862] + x[863] + x[864] + x[865] + x[866] + x[867] + x[868] + x[869] + x[870] + x[871] + x[872] + x[873] + x[874] + x[875] + x[876] + x[877] + x[878] + x[879] + x[880] + x[881] + x[882] + x[883] + x[884] + x[885] + x[886] + x[887] + x[888] + x[889] + x[890] + x[891] + x[892] + x[893] + x[894] + x[895] + x[896] + x[897] + x[898] + x[899] + x[900] + x[901] + x[902] + x[903] + x[904] + x[905] + x[906] + x[907] + x[908] + x[909] + x[910] + x[911] + x[912] + x[913] + x[914] + x[915] + x[916] + x[917] + x[918] + x[919] + x[920] + x[921] + x[922] + x[923] + x[924] + x[925] + x[926] + x[927] + x[928] + x[929] + x[930] + x[931] + x[932] + x[933] + x[934] + x[935] + x[936] + x[937] + x[938] + x[939] + x[940] + x[941] + x[942] + x[943] + x[944] + x[945] + x[946] + x[947] + x[948] + x[949] + x[950] + x[951] + x[952] + x[953] + x[954] + x[955] + x[956] + x[957] + x[958] + x[959] + x[960] + x[961] + x[962] + x[963] + x[964] + x[965] + x[966] + x[967] + x[968] + x[969] + x[970] + x[971] + x[972] + x[973] + x[974] + x[975] + x[976] + x[977] + x[978] + x[979] + x[980] + x[981] + x[982] + x[983] + x[984] + x[985] + x[986] + x[987] + x[988] + x[989] + x[990] + x[991] + x[992] + x[993] + x[994] + x[995] + x[996] + x[997] + x[998] + x[999] + x[1000] + x[1001] + x[1002] + x[1003] + x[1004] + x[1005] + x[1006] + x[1007] + x[1008] + x[1009] + x[1010] + x[1011] + x[1012] + x[1013] + x[1014] + x[1015] + x[1016] + x[1017] + x[1018] + x[1019] + x[1020] + x[1021] + x[1022] + x[1023] + x[1024] + x[1025] + x[1026] + x[1027] + x[1028] + x[1029] + x[1030] + x[1031] + x[1032] + x[1033] + x[1034] + x[1035] + x[1036] + x[1037] + x[1038] + x[1039] + x[1040] + x[1041] + x[1042] + x[1043] + x[1044] + x[1045] + x[1046] + x[1047] + x[1048] + x[1049] + x[1050] + x[1051] + x[1052] + x[1053] + x[1054] + x[1055] + x[1056] + x[1057] + x[1058] + x[1059] + x[1060] + x[1061] + x[1062] + x[1063] + x[1064] + x[1065] + x[1066] + x[1067] + x[1068] + x[1069] + x[1070] + x[1071] + x[1072] + x[1073] + x[1074] + x[1075] + x[1076] + x[1077] + x[1078] + x[1079] + x[1080] + x[1081] + x[1082] + x[1083] + x[1084] + x[1085] + x[1086] + x[1087] + x[1088] + x[1089] + x[1090] + x[1091] + x[1092] + x[1093] + x[1094] + x[1095] + x[1096] + x[1097] + x[1098] + x[1099] + x[1100] + x[1101] + x[1102] + x[1103] + x[1104] + x[1105] + x[1106] + x[1107] + x[1108] + x[1109] + x[1110] + x[1111] + x[1112] + x[1113] + x[1114] + x[1115] + x[1116] + x[1117] + x[1118] + x[1119] + x[1120] + x[1121] + x[1122] + x[1123] + x[1124] + x[1125] + x[1126] + x[1127] + x[1128] + x[1129] + x[1130] + x[1131] + x[1132] + x[1133] + x[1134] + x[1135] + x[1136] + x[1137] + x[1138] + x[1139] + x[1140] + x[1141] + x[1142] + x[1143] + x[1144] + x[1145] + x[1146] + x[1147] + x[1148] + x[1149] + x[1150] + x[1151] + x[1152] + x[1153] + x[1154] + x[1155] + x[1156] + x[1157] + x[1158] + x[1159] + x[1160] + x[1161] + x[1162] + x[1163] + x[1164] + x[1165] + x[1166] + x[1167] + x[1168] + x[1169] + x[1170] + x[1171] + x[1172] + x[1173] + x[1174] + x[1175] + x[1176] + x[1177] + x[1178] + x[1179] + x[1180] + x[1181] + x[1182] + x[1183] + x[1184] + x[1185] + x[1186] + x[1187] + x[1188] + x[1189] + x[1190] + x[1191] + x[1192] + x[1193] + x[1194] + x[1195] + x[1196] + x[1197] + x[1198] + x[1199] + x[1200] + x[1201] + x[1202] + x[1203] + x[1204] + x[1205] + x[1206] + x[1207] + x[1208] + x[1209] + x[1210] + x[1211] + x[1212] + x[1213] + x[1214] + x[1215] + x[1216] + x[1217] + x[1218] + x[1219] + x[1220] + x[1221] + x[1222] + x[1223] + x[1224] + x[1225] + x[1226] + x[1227] + x[1228] + x[1229] + x[1230] + x[1231] + x[1232] + x[1233] + x[1234] + x[1235] + x[1236] + x[1237] + x[1238] + x[1239] + x[1240] + x[1241] + x[1242] + x[1243] + x[1244] + x[1245] + x[1246] + x[1247] + x[1248] + x[1249] + x[1250] + x[1251] + x[1252] + x[1253] + x[1254] + x[1255] + x[1256] + x[1257] + x[1258] + x[1259] + x[1260] + x[1261] + x[1262] + x[1263] + x[1264] + x[1265] + x[1266] + x[1267] + x[1268] + x[1269] + x[1270] + x[1271] + x[1272] + x[1273] + x[1274] + x[1275] + x[1276] + x[1277] + x[1278] + x[1279] + x[1280] + x[1281] + x[1282] + x[1283] + x[1284] + x[1285] + x[1286] + x[1287] + x[1288] + x[1289] + x[1290] + x[1291] + x[1292] + x[1293] + x[1294] + x[1295] + x[1296] + x[1297] + x[1298] + x[1299] + x[1300] + x[1301] + x[1302] + x[1303] + x[1304] + x[1305] + x[1306] + x[1307] + x[1308] + x[1309] + x[1310] + x[1311] + x[1312] + x[1313] + x[1314] + x[1315] + x[1316] + x[1317] + x[1318] + x[1319] + x[1320] + x[1321] + x[1322] + x[1323] + x[1324] + x[1325] + x[1326] + x[1327] + x[1328] + x[1329] + x[1330] + x[1331] + x[1332] + x[1333] + x[1334] + x[1335] + x[1336] + x[1337] + x[1338] + x[1339] + x[1340] + x[1341] + x[1342] + x[1343] + x[1344] + x[1345] + x[1346] + x[1347] + x[1348] + x[1349] + x[1350] + x[1351] + x[1352] + x[1353] + x[1354] + x[1355] + x[1356] + x[1357] + x[1358] + x[1359] + x[1360] + x[1361] + x[1362] + x[1363] + x[1364] + x[1365] + x[1366] + x[1367] + x[1368] + x[1369] + x[1370] + x[1371] + x[1372] + x[1373] + x[1374] + x[1375] + x[1376] + x[1377] + x[1378] + x[1379] + x[1380] + x[1381] + x[1382] + x[1383] + x[1384] + x[1385] + x[1386] + x[1387] + x[1388] + x[1389] + x[1390] + x[1391] + x[1392] + x[1393] + x[1394] + x[1395] + x[1396] + x[1397] + x[1398] + x[1399] + x[1400] + x[1401] + x[1402] + x[1403] + x[1404] + x[1405] + x[1406] + x[1407] + x[1408] + x[1409] + x[1410] + x[1411] + x[1412] + x[1413] + x[1414] + x[1415] + x[1416] + x[1417] + x[1418] + x[1419] + x[1420] + x[1421] + x[1422] + x[1423] + x[1424] + x[1425] + x[1426] + x[1427] + x[1428] + x[1429] + x[1430] + x[1431] + x[1432] + x[1433] + x[1434] + x[1435] + x[1436] + x[1437] + x[1438] + x[1439] + x[1440] + x[1441] + x[1442] + x[1443] + x[1444] + x[1445] + x[1446] + x[1447] + x[1448] + x[1449] + x[1450] + x[1451] + x[1452] + x[1453] + x[1454] + x[1455] + x[1456] + x[1457] + x[1458] + x[1459] + x[1460] + x[1461] + x[1462] + x[1463] + x[1464] + x[1465] + x[1466] + x[1467] + x[1468] + x[1469] + x[1470] + x[1471] + x[1472] + x[1473] + x[1474] + x[1475] + x[1476] + x[1477] + x[1478] + x[1479] + x[1480] + x[1481] + x[1482] + x[1483] + x[1484] + x[1485] + x[1486] + x[1487] + x[1488] + x[1489] + x[1490] + x[1491] + x[1492] + x[1493] + x[1494] + x[1495] + x[1496] + x[1497] + x[1498] + x[1499] + x[1500] + x[1501] + x[1502] + x[1503] + x[1504] + x[1505] + x[1506] + x[1507] + x[1508] + x[1509] + x[1510] + x[1511] + x[1512] + x[1513] + x[1514] + x[1515] + x[1516] + x[1517] + x[1518] + x[1519] + x[1520] + x[1521] + x[1522] + x[1523] + x[1524] + x[1525] + x[1526] + x[1527] + x[1528] + x[1529] + x[1530] + x[1531] + x[1532] + x[1533] + x[1534] + x[1535] + x[1536] + x[1537] + x[1538] + x[1539] + x[1540] + x[1541] + x[1542] + x[1543] + x[1544] + x[1545] + x[1546] + x[1547] + x[1548] + x[1549] + x[1550] + x[1551] + x[1552] + x[1553] + x[1554] + x[1555] + x[1556] + x[1557] + x[1558] + x[1559] + x[1560] + x[1561] + x[1562] + x[1563] + x[1564] + x[1565] + x[1566] + x[1567] + x[1568] + x[1569] + x[1570] + x[1571] + x[1572] + x[1573] + x[1574] + x[1575] + x[1576] + x[1577] + x[1578] + x[1579] + x[1580] + x[1581] + x[1582] + x[1583] + x[1584] + x[1585] + x[1586] + x[1587] + x[1588] + x[1589] + x[1590] + x[1591] + x[1592] + x[1593] + x[1594] + x[1595] + x[1596] + x[1597] + x[1598] + x[1599] + x[1600] + x[1601] + x[1602] + x[1603] + x[1604] + x[1605] + x[1606] + x[1607] + x[1608] + x[1609] + x[1610] + x[1611] + x[1612] + x[1613] + x[1614] + x[1615] + x[1616] + x[1617] + x[1618] + x[1619] + x[1620] + x[1621] + x[1622] + x[1623] + x[1624] + x[1625] + x[1626] + x[1627] + x[1628] + x[1629] + x[1630] + x[1631] + x[1632] + x[1633] + x[1634] + x[1635] + x[1636] + x[1637] + x[1638] + x[1639] + x[1640] + x[1641] + x[1642] + x[1643] + x[1644] + x[1645] + x[1646] + x[1647] + x[1648] + x[1649] + x[1650] + x[1651] + x[1652] + x[1653] + x[1654] + x[1655] + x[1656] + x[1657] + x[1658] + x[1659] + x[1660] + x[1661] + x[1662] + x[1663] + x[1664] + x[1665] + x[1666] + x[1667] + x[1668] + x[1669] + x[1670] + x[1671] + x[1672] + x[1673] + x[1674] + x[1675] + x[1676] + x[1677] + x[1678] + x[1679] + x[1680] + x[1681] + x[1682] + x[1683] + x[1684] + x[1685] + x[1686] + x[1687] + x[1688] + x[1689] + x[1690] + x[1691] + x[1692] + x[1693] + x[1694] + x[1695] + x[1696] + x[1697] + x[1698] + x[1699] + x[1700] + x[1701] + x[1702] + x[1703] + x[1704] + x[1705] + x[1706] + x[1707] + x[1708] + x[1709] + x[1710] + x[1711] + x[1712] + x[1713] + x[1714] + x[1715] + x[1716] + x[1717] + x[1718] + x[1719] + x[1720] + x[1721] + x[1722] + x[1723] + x[1724] + x[1725] + x[1726] + x[1727] + x[1728] + x[1729] + x[1730] + x[1731] + x[1732] + x[1733] + x[1734] + x[1735] + x[1736] + x[1737] + x[1738] + x[1739] + x[1740] + x[1741] + x[1742] + x[1743] + x[1744] + x[1745] + x[1746] + x[1747] + x[1748] + x[1749] + x[1750] + x[1751] + x[1752] + x[1753] + x[1754] + x[1755] + x[1756] + x[1757] + x[1758] + x[1759] + x[1760] + x[1761] + x[1762] + x[1763] + x[1764] + x[1765] + x[1766] + x[1767] + x[1768] + x[1769] + x[1770] + x[1771] + x[1772] + x[1773] + x[1774] + x[1775] + x[1776] + x[1777] + x[1778] + x[1779] + x[1780] + x[1781] + x[1782] + x[1783] + x[1784] + x[1785] + x[1786] + x[1787] + x[1788] + x[1789] + x[1790] + x[1791] + x[1792] + x[1793] + x[1794] + x[1795] + x[1796] + x[1797] + x[1798] + x[1799] + x[1800] + x[1801] + x[1802] + x[1803] + x[1804] + x[1805] + x[1806] + x[1807] + x[1808] + x[1809] + x[1810] + x[1811] + x[1812] + x[1813] + x[1814] + x[1815] + x[1816] + x[1817] + x[1818] + x[1819] + x[1820] + x[1821] + x[1822] + x[1823] + x[1824] + x[1825] + x[1826] + x[1827] + x[1828] + x[1829] + x[1830] + x[1831] + x[1832] + x[1833] + x[1834] + x[1835] + x[1836] + x[1837] + x[1838] + x[1839] + x[1840] + x[1841] + x[1842] + x[1843] + x[1844] + x[1845] + x[1846] + x[1847] + x[1848] + x[1849] + x[1850] + x[1851] + x[1852] + x[1853] + x[1854] + x[1855] + x[1856] + x[1857] + x[1858] + x[1859] + x[1860] + x[1861] + x[1862] + x[1863] + x[1864] + x[1865] + x[1866] + x[1867] + x[1868] + x[1869] + x[1870] + x[1871] + x[1872] + x[1873] + x[1874] + x[1875] + x[1876] + x[1877] + x[1878] + x[1879] + x[1880] + x[1881] + x[1882] + x[1883] + x[1884] + x[1885] + x[1886] + x[1887] + x[1888] + x[1889] + x[1890] + x[1891] + x[1892] + x[1893] + x[1894] + x[1895] + x[1896] + x[1897] + x[1898] + x[1899] + x[1900] + x[1901] + x[1902] + x[1903] + x[1904] + x[1905] + x[1906] + x[1907] + x[1908] + x[1909] + x[1910] + x[1911] + x[1912] + x[1913] + x[1914] + x[1915] + x[1916] + x[1917] + x[1918] + x[1919] + x[1920] + x[1921] + x[1922] + x[1923] + x[1924] + x[1925] + x[1926] + x[1927] + x[1928] + x[1929] + x[1930] + x[1931] + x[1932] + x[1933] + x[1934] + x[1935] + x[1936] + x[1937] + x[1938] + x[1939] + x[1940] + x[1941] + x[1942] + x[1943] + x[1944] + x[1945] + x[1946] + x[1947] + x[1948] + x[1949] + x[1950] + x[1951] + x[1952] + x[1953] + x[1954] + x[1955] + x[1956] + x[1957] + x[1958] + x[1959] + x[1960] + x[1961] + x[1962] + x[1963] + x[1964] + x[1965] + x[1966] + x[1967] + x[1968] + x[1969] + x[1970] + x[1971] + x[1972] + x[1973] + x[1974] + x[1975] + x[1976] + x[1977] + x[1978] + x[1979] + x[1980] + x[1981] + x[1982] + x[1983] + x[1984] + x[1985] + x[1986] + x[1987] + x[1988] + x[1989] + x[1990] + x[1991] + x[1992] + x[1993] + x[1994] + x[1995] + x[1996] + x[1997] + x[1998] + x[1999] + x[2000] + x[2001] + x[2002] + x[2003] + x[2004] + x[2005] + x[2006] + x[2007] + x[2008] + x[2009] + x[2010] + x[2011] + x[2012] + x[2013] + x[2014] + x[2015] + x[2016] + x[2017] + x[2018] + x[2019] + x[2020] + x[2021] + x[2022] + x[2023] + x[2024] + x[2025] + x[2026] + x[2027] + x[2028] + x[2029] + x[2030] + x[2031] + x[2032] + x[2033] + x[2034] + x[2035] + x[2036] + x[2037] + x[2038] + x[2039] + x[2040] + x[2041] + x[2042] + x[2043] + x[2044] + x[2045] + x[2046] + x[2047] + x[2048] + x[2049] + x[2050] + x[2051] + x[2052] + x[2053] + x[2054] + x[2055] + x[2056] + x[2057] + x[2058] + x[2059] + x[2060] + x[2061] + x[2062] + x[2063] + x[2064] + x[2065] + x[2066] + x[2067] + x[2068] + x[2069] + x[2070] + x[2071] + x[2072] + x[2073] + x[2074] + x[2075] + x[2076] + x[2077] + x[2078] + x[2079] + x[2080] + x[2081] + x[2082] + x[2083] + x[2084] + x[2085] + x[2086] + x[2087] + x[2088] + x[2089] + x[2090] + x[2091] + x[2092] + x[2093] + x[2094] + x[2095] + x[2096] + x[2097] + x[2098] + x[2099] + x[2100] + x[2101] + x[2102] + x[2103] + x[2104] + x[2105] + x[2106] + x[2107] + x[2108] + x[2109] + x[2110] + x[2111] + x[2112] + x[2113] + x[2114] + x[2115] + x[2116] + x[2117] + x[2118] + x[2119] + x[2120] + x[2121] + x[2122] + x[2123] + x[2124] + x[2125] + x[2126] + x[2127] + x[2128] + x[2129] + x[2130] + x[2131] + x[2132] + x[2133] + x[2134] + x[2135] + x[2136] + x[2137] + x[2138] + x[2139] + x[2140] + x[2141] + x[2142] + x[2143] + x[2144] + x[2145] + x[2146] + x[2147] + x[2148] + x[2149] + x[2150] + x[2151] + x[2152] + x[2153] + x[2154] + x[2155] + x[2156] + x[2157] + x[2158] + x[2159] + x[2160] + x[2161] + x[2162] + x[2163] + x[2164] + x[2165] + x[2166] + x[2167] + x[2168] + x[2169] + x[2170] + x[2171] + x[2172] + x[2173] + x[2174] + x[2175] + x[2176] + x[2177] + x[2178] + x[2179] + x[2180] + x[2181] + x[2182] + x[2183] + x[2184] + x[2185] + x[2186] + x[2187] + x[2188] + x[2189] + x[2190] + x[2191] + x[2192] + x[2193] + x[2194] + x[2195] + x[2196] + x[2197] + x[2198] + x[2199] + x[2200] + x[2201] + x[2202] + x[2203] + x[2204] + x[2205] + x[2206] + x[2207] + x[2208] + x[2209] + x[2210] + x[2211] + x[2212] + x[2213] + x[2214] + x[2215] + x[2216] + x[2217] + x[2218] + x[2219] + x[2220] + x[2221] + x[2222] + x[2223] + x[2224] + x[2225] + x[2226] + x[2227] + x[2228] + x[2229] + x[2230] + x[2231] + x[2232] + x[2233] + x[2234] + x[2235] + x[2236] + x[2237] + x[2238] + x[2239] + x[2240] + x[2241] + x[2242] + x[2243] + x[2244] + x[2245] + x[2246] + x[2247] + x[2248] + x[2249] + x[2250] + x[2251] + x[2252] + x[2253] + x[2254] + x[2255] + x[2256] + x[2257] + x[2258] + x[2259] + x[2260] + x[2261] + x[2262] + x[2263] + x[2264] + x[2265] + x[2266] + x[2267] + x[2268] + x[2269] + x[2270] + x[2271] + x[2272] + x[2273] + x[2274] + x[2275] + x[2276] + x[2277] + x[2278] + x[2279] + x[2280] + x[2281] + x[2282] + x[2283] + x[2284] + x[2285] + x[2286] + x[2287] + x[2288] + x[2289] + x[2290] + x[2291] + x[2292] + x[2293] + x[2294] + x[2295] + x[2296] + x[2297] + x[2298] + x[2299] + x[2300] + x[2301] + x[2302] + x[2303] + x[2304] + x[2305] + x[2306] + x[2307] + x[2308] + x[2309] + x[2310] + x[2311] + x[2312] + x[2313] + x[2314] + x[2315] + x[2316] + x[2317] + x[2318] + x[2319] + x[2320] + x[2321] + x[2322] + x[2323] + x[2324] + x[2325] + x[2326] + x[2327] + x[2328] + x[2329] + x[2330] + x[2331] + x[2332] + x[2333] + x[2334] + x[2335] + x[2336] + x[2337] + x[2338] + x[2339] + x[2340] + x[2341] + x[2342] + x[2343] + x[2344] + x[2345] + x[2346] + x[2347] + x[2348] + x[2349] + x[2350] + x[2351] + x[2352] + x[2353] + x[2354] + x[2355] + x[2356] + x[2357] + x[2358] + x[2359] + x[2360] + x[2361] + x[2362] + x[2363] + x[2364] + x[2365] + x[2366] + x[2367] + x[2368] + x[2369] + x[2370] + x[2371] + x[2372] + x[2373] + x[2374] + x[2375] + x[2376] + x[2377] + x[2378] + x[2379] + x[2380] + x[2381] + x[2382] + x[2383] + x[2384] + x[2385] + x[2386] + x[2387] + x[2388] + x[2389] + x[2390] + x[2391] + x[2392] + x[2393] + x[2394] + x[2395] + x[2396] + x[2397] + x[2398] + x[2399] + x[2400] + x[2401] + x[2402] + x[2403] + x[2404] + x[2405] + x[2406] + x[2407] + x[2408] + x[2409] + x[2410] + x[2411] + x[2412] + x[2413] + x[2414] + x[2415] + x[2416] + x[2417] + x[2418] + x[2419] + x[2420] + x[2421] + x[2422] + x[2423] + x[2424] + x[2425] + x[2426] + x[2427] + x[2428] + x[2429] + x[2430] + x[2431] + x[2432] + x[2433] + x[2434] + x[2435] + x[2436] + x[2437] + x[2438] + x[2439] + x[2440] + x[2441] + x[2442] + x[2443] + x[2444] + x[2445] + x[2446] + x[2447] + x[2448] + x[2449] + x[2450] + x[2451] + x[2452] + x[2453] + x[2454] + x[2455] + x[2456] + x[2457] + x[2458] + x[2459] + x[2460] + x[2461] + x[2462] + x[2463] + x[2464] + x[2465] + x[2466] + x[2467] + x[2468] + x[2469] + x[2470] + x[2471] + x[2472] + x[2473] + x[2474] + x[2475] + x[2476] + x[2477] + x[2478] + x[2479] + x[2480] + x[2481] + x[2482] + x[2483] + x[2484] + x[2485] + x[2486] + x[2487] + x[2488] + x[2489] + x[2490] + x[2491] + x[2492] + x[2493] + x[2494] + x[2495] + x[2496] + x[2497] + x[2498] + x[2499] + x[2500] + x[2501] + x[2502] + x[2503] + x[2504] + x[2505] + x[2506] + x[2507] + x[2508] + x[2509] + x[2510] + x[2511] + x[2512] + x[2513] + x[2514] + x[2515] + x[2516] + x[2517] + x[2518] + x[2519] + x[2520] + x[2521] + x[2522] + x[2523] + x[2524] + x[2525] + x[2526] + x[2527] + x[2528] + x[2529] + x[2530] + x[2531] + x[2532] + x[2533] + x[2534] + x[2535] + x[2536] + x[2537] + x[2538] + x[2539] + x[2540] + x[2541] + x[2542] + x[2543] + x[2544] + x[2545] + x[2546] + x[2547] + x[2548] + x[2549] + x[2550] + x[2551] + x[2552] + x[2553] + x[2554] + x[2555] + x[2556] + x[2557] + x[2558] + x[2559] + x[2560] + x[2561] + x[2562] + x[2563] + x[2564] + x[2565] + x[2566] + x[2567] + x[2568] + x[2569] + x[2570] + x[2571] + x[2572] + x[2573] + x[2574] + x[2575] + x[2576] + x[2577] + x[2578] + x[2579] + x[2580] + x[2581] + x[2582] + x[2583] + x[2584] + x[2585] + x[2586] + x[2587] + x[2588] + x[2589] + x[2590] + x[2591] + x[2592] + x[2593] + x[2594] + x[2595] + x[2596] + x[2597] + x[2598] + x[2599] + x[2600] + x[2601] + x[2602] + x[2603] + x[2604] + x[2605] + x[2606] + x[2607] + x[2608] + x[2609] + x[2610] + x[2611] + x[2612] + x[2613] + x[2614] + x[2615] + x[2616] + x[2617] + x[2618] + x[2619] + x[2620] + x[2621] + x[2622] + x[2623] + x[2624] + x[2625] + x[2626] + x[2627] + x[2628] + x[2629] + x[2630] + x[2631] + x[2632] + x[2633] + x[2634] + x[2635] + x[2636] + x[2637] + x[2638] + x[2639] + x[2640] + x[2641] + x[2642] + x[2643] + x[2644] + x[2645] + x[2646] + x[2647] + x[2648] + x[2649] + x[2650] + x[2651] + x[2652] + x[2653] + x[2654] + x[2655] + x[2656] + x[2657] + x[2658] + x[2659] + x[2660] + x[2661] + x[2662] + x[2663] + x[2664] + x[2665] + x[2666] + x[2667] + x[2668] + x[2669] + x[2670] + x[2671] + x[2672] + x[2673] + x[2674] + x[2675] + x[2676] + x[2677] + x[2678] + x[2679] + x[2680] + x[2681] + x[2682] + x[2683] + x[2684] + x[2685] + x[2686] + x[2687] + x[2688] + x[2689] + x[2690] + x[2691] + x[2692] + x[2693] + x[2694] + x[2695] + x[2696] + x[2697] + x[2698] + x[2699] + x[2700] + x[2701] + x[2702] + x[2703] + x[2704] + x[2705] + x[2706] + x[2707] + x[2708] + x[2709] + x[2710] + x[2711] + x[2712] + x[2713] + x[2714] + x[2715] + x[2716] + x[2717] + x[2718] + x[2719] + x[2720] + x[2721] + x[2722] + x[2723] + x[2724] + x[2725] + x[2726] + x[2727] + x[2728] + x[2729] + x[2730] + x[2731] + x[2732] + x[2733] + x[2734] + x[2735] + x[2736] + x[2737] + x[2738] + x[2739] + x[2740] + x[2741] + x[2742] + x[2743] + x[2744] + x[2745] + x[2746] + x[2747] + x[2748] + x[2749] + x[2750] + x[2751] + x[2752] + x[2753] + x[2754] + x[2755] + x[2756] + x[2757] + x[2758] + x[2759] + x[2760] + x[2761] + x[2762] + x[2763] + x[2764] + x[2765] + x[2766] + x[2767] + x[2768] + x[2769] + x[2770] + x[2771] + x[2772] + x[2773] + x[2774] + x[2775] + x[2776] + x[2777] + x[2778] + x[2779] + x[2780] + x[2781] + x[2782] + x[2783] + x[2784] + x[2785] + x[2786] + x[2787] + x[2788] + x[2789] + x[2790] + x[2791] + x[2792] + x[2793] + x[2794] + x[2795] + x[2796] + x[2797] + x[2798] + x[2799] + x[2800] + x[2801] + x[2802] + x[2803] + x[2804] + x[2805] + x[2806] + x[2807] + x[2808] + x[2809] + x[2810] + x[2811] + x[2812] + x[2813] + x[2814] + x[2815] + x[2816] + x[2817] + x[2818] + x[2819] + x[2820] + x[2821] + x[2822] + x[2823] + x[2824] + x[2825] + x[2826] + x[2827] + x[2828] + x[2829] + x[2830] + x[2831] + x[2832] + x[2833] + x[2834] + x[2835] + x[2836] + x[2837] + x[2838] + x[2839] + x[2840] + x[2841] + x[2842] + x[2843] + x[2844] + x[2845] + x[2846] + x[2847] + x[2848] + x[2849] + x[2850] + x[2851] + x[2852] + x[2853] + x[2854] + x[2855] + x[2856] + x[2857] + x[2858] + x[2859] + x[2860] + x[2861] + x[2862] + x[2863] + x[2864] + x[2865] + x[2866] + x[2867] + x[2868] + x[2869] + x[2870] + x[2871] + x[2872] + x[2873] + x[2874] + x[2875] + x[2876] + x[2877] + x[2878] + x[2879] + x[2880] + x[2881] + x[2882] + x[2883] + x[2884] + x[2885] + x[2886] + x[2887] + x[2888] + x[2889] + x[2890] + x[2891] + x[2892] + x[2893] + x[2894] + x[2895] + x[2896] + x[2897] + x[2898] + x[2899] + x[2900] + x[2901] + x[2902] + x[2903] + x[2904] + x[2905] + x[2906] + x[2907] + x[2908] + x[2909] + x[2910] + x[2911] + x[2912] + x[2913] + x[2914] + x[2915] + x[2916] + x[2917] + x[2918] + x[2919] + x[2920] + x[2921] + x[2922] + x[2923] + x[2924] + x[2925] + x[2926] + x[2927] + x[2928] + x[2929] + x[2930] + x[2931] + x[2932] + x[2933] + x[2934] + x[2935] + x[2936] + x[2937] + x[2938] + x[2939] + x[2940] + x[2941] + x[2942] + x[2943] + x[2944] + x[2945] + x[2946] + x[2947] + x[2948] + x[2949] + x[2950] + x[2951] + x[2952] + x[2953] + x[2954] + x[2955] + x[2956] + x[2957] + x[2958] + x[2959] + x[2960] + x[2961] + x[2962] + x[2963] + x[2964] + x[2965] + x[2966] + x[2967] + x[2968] + x[2969] + x[2970] + x[2971] + x[2972] + x[2973] + x[2974] + x[2975] + x[2976] + x[2977] + x[2978] + x[2979] + x[2980] + x[2981] + x[2982] + x[2983] + x[2984] + x[2985] + x[2986] + x[2987] + x[2988] + x[2989] + x[2990] + x[2991] + x[2992] + x[2993] + x[2994] + x[2995] + x[2996] + x[2997] + x[2998] + x[2999] + x[3000] + x[3001] + x[3002] + x[3003] + x[3004] + x[3005] + x[3006] + x[3007] + x[3008] + x[3009] + x[3010] + x[3011] + x[3012] + x[3013] + x[3014] + x[3015] + x[3016] + x[3017] + x[3018] + x[3019] + x[3020] + x[3021] + x[3022] + x[3023] + x[3024] + x[3025] + x[3026] + x[3027] + x[3028] + x[3029] + x[3030] + x[3031] + x[3032] + x[3033] + x[3034] + x[3035] + x[3036] + x[3037] + x[3038] + x[3039] + x[3040] + x[3041] + x[3042] + x[3043] + x[3044] + x[3045] + x[3046] + x[3047] + x[3048] + x[3049] + x[3050] + x[3051] + x[3052] + x[3053] + x[3054] + x[3055] + x[3056] + x[3057] + x[3058] + x[3059] + x[3060] + x[3061] + x[3062] + x[3063] + x[3064] + x[3065] + x[3066] + x[3067] + x[3068] + x[3069] + x[3070] + x[3071] + x[3072] + x[3073] + x[3074] + x[3075] + x[3076] + x[3077] + x[3078] + x[3079] + x[3080] + x[3081] + x[3082] + x[3083] + x[3084] + x[3085] + x[3086] + x[3087] + x[3088] + x[3089] + x[3090] + x[3091] + x[3092] + x[3093] + x[3094] + x[3095] + x[3096] + x[3097] + x[3098] + x[3099] + x[3100] + x[3101] + x[3102] + x[3103] + x[3104] + x[3105] + x[3106] + x[3107] + x[3108] + x[3109] + x[3110] + x[3111] + x[3112] + x[3113] + x[3114] + x[3115] + x[3116] + x[3117] + x[3118] + x[3119] + x[3120] + x[3121] + x[3122] + x[3123] + x[3124] + x[3125] + x[3126] + x[3127] + x[3128] + x[3129] + x[3130] + x[3131] + x[3132] + x[3133] + x[3134] + x[3135] + x[3136] + x[3137] + x[3138] + x[3139] + x[3140] + x[3141] + x[3142] + x[3143] + x[3144] + x[3145] + x[3146] + x[3147] + x[3148] + x[3149] + x[3150] + x[3151] + x[3152] + x[3153] + x[3154] + x[3155] + x[3156] + x[3157] + x[3158] + x[3159] + x[3160] + x[3161] + x[3162] + x[3163] + x[3164] + x[3165] + x[3166] + x[3167] + x[3168] + x[3169] + x[3170] + x[3171] + x[3172] + x[3173] + x[3174] + x[3175] + x[3176] + x[3177] + x[3178] + x[3179] + x[3180] + x[3181] + x[3182] + x[3183] + x[3184] + x[3185] + x[3186] + x[3187] + x[3188] + x[3189] + x[3190] + x[3191] + x[3192] + x[3193] + x[3194] + x[3195] + x[3196] + x[3197] + x[3198] + x[3199] + x[3200] + x[3201] + x[3202] + x[3203] + x[3204] + x[3205] + x[3206] + x[3207] + x[3208] + x[3209] + x[3210] + x[3211] + x[3212] + x[3213] + x[3214] + x[3215] + x[3216] + x[3217] + x[3218] + x[3219] + x[3220] + x[3221] + x[3222] + x[3223] + x[3224] + x[3225] + x[3226] + x[3227] + x[3228] + x[3229] + x[3230] + x[3231] + x[3232] + x[3233] + x[3234] + x[3235] + x[3236] + x[3237] + x[3238] + x[3239] + x[3240] + x[3241] + x[3242] + x[3243] + x[3244] + x[3245] + x[3246] + x[3247] + x[3248] + x[3249] + x[3250] + x[3251] + x[3252] + x[3253] + x[3254] + x[3255] + x[3256] + x[3257] + x[3258] + x[3259] + x[3260] + x[3261] + x[3262] + x[3263] + x[3264] + x[3265] + x[3266] + x[3267] + x[3268] + x[3269] + x[3270] + x[3271] + x[3272] + x[3273] + x[3274] + x[3275] + x[3276] + x[3277] + x[3278] + x[3279] + x[3280] + x[3281] + x[3282] + x[3283] + x[3284] + x[3285] + x[3286] + x[3287] + x[3288] + x[3289] + x[3290] + x[3291] + x[3292] + x[3293] + x[3294] + x[3295] + x[3296] + x[3297] + x[3298] + x[3299] + x[3300] + x[3301] + x[3302] + x[3303] + x[3304] + x[3305] + x[3306] + x[3307] + x[3308] + x[3309] + x[3310] + x[3311] + x[3312] + x[3313] + x[3314] + x[3315] + x[3316] + x[3317] + x[3318] + x[3319] + x[3320] + x[3321] + x[3322] + x[3323] + x[3324] + x[3325] + x[3326] + x[3327] + x[3328] + x[3329] + x[3330] + x[3331] + x[3332] + x[3333] + x[3334] + x[3335] + x[3336] + x[3337] + x[3338] + x[3339] + x[3340] + x[3341] + x[3342] + x[3343] + x[3344] + x[3345] + x[3346] + x[3347] + x[3348] + x[3349] + x[3350] + x[3351] + x[3352] + x[3353] + x[3354] + x[3355] + x[3356] + x[3357] + x[3358] + x[3359] + x[3360] + x[3361] + x[3362] + x[3363] + x[3364] + x[3365] + x[3366] + x[3367] + x[3368] + x[3369] + x[3370] + x[3371] + x[3372] + x[3373] + x[3374] + x[3375] + x[3376] + x[3377] + x[3378] + x[3379] + x[3380] + x[3381] + x[3382] + x[3383] + x[3384] + x[3385] + x[3386] + x[3387] + x[3388] + x[3389] + x[3390] + x[3391] + x[3392] + x[3393] + x[3394] + x[3395] + x[3396] + x[3397] + x[3398] + x[3399] + x[3400] + x[3401] + x[3402] + x[3403] + x[3404] + x[3405] + x[3406] + x[3407] + x[3408] + x[3409] + x[3410] + x[3411] + x[3412] + x[3413] + x[3414] + x[3415] + x[3416] + x[3417] + x[3418] + x[3419] + x[3420] + x[3421] + x[3422] + x[3423] + x[3424] + x[3425] + x[3426] + x[3427] + x[3428] + x[3429] + x[3430] + x[3431] + x[3432] + x[3433] + x[3434] + x[3435] + x[3436] + x[3437] + x[3438] + x[3439] + x[3440] + x[3441] + x[3442] + x[3443] + x[3444] + x[3445] + x[3446] + x[3447] + x[3448] + x[3449] + x[3450] + x[3451] + x[3452] + x[3453] + x[3454] + x[3455] + x[3456] + x[3457] + x[3458] + x[3459] + x[3460] + x[3461] + x[3462] + x[3463] + x[3464] + x[3465] + x[3466] + x[3467] + x[3468] + x[3469] + x[3470] + x[3471] + x[3472] + x[3473] + x[3474] + x[3475] + x[3476] + x[3477] + x[3478] + x[3479] + x[3480] + x[3481] + x[3482] + x[3483] + x[3484] + x[3485] + x[3486] + x[3487] + x[3488] + x[3489] + x[3490] + x[3491] + x[3492] + x[3493] + x[3494] + x[3495] + x[3496] + x[3497] + x[3498] + x[3499] + x[3500] + x[3501] + x[3502] + x[3503] + x[3504] + x[3505] + x[3506] + x[3507] + x[3508] + x[3509] + x[3510] + x[3511] + x[3512] + x[3513] + x[3514] + x[3515] + x[3516] + x[3517] + x[3518] + x[3519] + x[3520] + x[3521] + x[3522] + x[3523] + x[3524] + x[3525] + x[3526] + x[3527] + x[3528] + x[3529] + x[3530] + x[3531] + x[3532] + x[3533] + x[3534] + x[3535] + x[3536] + x[3537] + x[3538] + x[3539] + x[3540] + x[3541] + x[3542] + x[3543] + x[3544] + x[3545] + x[3546] + x[3547] + x[3548] + x[3549] + x[3550] + x[3551] + x[3552] + x[3553] + x[3554] + x[3555] + x[3556] + x[3557] + x[3558] + x[3559] + x[3560] + x[3561] + x[3562] + x[3563] + x[3564] + x[3565] + x[3566] + x[3567] + x[3568] + x[3569] + x[3570] + x[3571] + x[3572] + x[3573] + x[3574] + x[3575] + x[3576] + x[3577] + x[3578] + x[3579] + x[3580] + x[3581] + x[3582] + x[3583] + x[3584] + x[3585] + x[3586] + x[3587] + x[3588] + x[3589] + x[3590] + x[3591] + x[3592] + x[3593] + x[3594] + x[3595] + x[3596] + x[3597] + x[3598] + x[3599] + x[3600] + x[3601] + x[3602] + x[3603] + x[3604] + x[3605] + x[3606] + x[3607] + x[3608] + x[3609] + x[3610] + x[3611] + x[3612] + x[3613] + x[3614] + x[3615] + x[3616] + x[3617] + x[3618] + x[3619] + x[3620] + x[3621] + x[3622] + x[3623] + x[3624] + x[3625] + x[3626] + x[3627] + x[3628] + x[3629] + x[3630] + x[3631] + x[3632] + x[3633] + x[3634] + x[3635] + x[3636] + x[3637] + x[3638] + x[3639] + x[3640] + x[3641] + x[3642] + x[3643] + x[3644] + x[3645] + x[3646] + x[3647] + x[3648] + x[3649] + x[3650] + x[3651] + x[3652] + x[3653] + x[3654] + x[3655] + x[3656] + x[3657] + x[3658] + x[3659] + x[3660] + x[3661] + x[3662] + x[3663] + x[3664] + x[3665] + x[3666] + x[3667] + x[3668] + x[3669] + x[3670] + x[3671] + x[3672] + x[3673] + x[3674] + x[3675] + x[3676] + x[3677] + x[3678] + x[3679] + x[3680] + x[3681] + x[3682] + x[3683] + x[3684] + x[3685] + x[3686] + x[3687] + x[3688] + x[3689] + x[3690] + x[3691] + x[3692] + x[3693] + x[3694] + x[3695] + x[3696] + x[3697] + x[3698] + x[3699] + x[3700] + x[3701] + x[3702] + x[3703] + x[3704] + x[3705] + x[3706] + x[3707] + x[3708] + x[3709] + x[3710] + x[3711] + x[3712] + x[3713] + x[3714] + x[3715] + x[3716] + x[3717] + x[3718] + x[3719] + x[3720] + x[3721] + x[3722] + x[3723] + x[3724] + x[3725] + x[3726] + x[3727] + x[3728] + x[3729] + x[3730] + x[3731] + x[3732] + x[3733] + x[3734] + x[3735] + x[3736] + x[3737] + x[3738] + x[3739] + x[3740] + x[3741] + x[3742] + x[3743] + x[3744] + x[3745] + x[3746] + x[3747] + x[3748] + x[3749] + x[3750] + x[3751] + x[3752] + x[3753] + x[3754] + x[3755] + x[3756] + x[3757] + x[3758] + x[3759] + x[3760] + x[3761] + x[3762] + x[3763] + x[3764] + x[3765] + x[3766] + x[3767] + x[3768] + x[3769] + x[3770] + x[3771] + x[3772] + x[3773] + x[3774] + x[3775] + x[3776] + x[3777] + x[3778] + x[3779] + x[3780] + x[3781] + x[3782] + x[3783] + x[3784] + x[3785] + x[3786] + x[3787] + x[3788] + x[3789] + x[3790] + x[3791] + x[3792] + x[3793] + x[3794] + x[3795] + x[3796] + x[3797] + x[3798] + x[3799] + x[3800] + x[3801] + x[3802] + x[3803] + x[3804] + x[3805] + x[3806] + x[3807] + x[3808] + x[3809] + x[3810] + x[3811] + x[3812] + x[3813] + x[3814] + x[3815] + x[3816] + x[3817] + x[3818] + x[3819] + x[3820] + x[3821] + x[3822] + x[3823] + x[3824] + x[3825] + x[3826] + x[3827] + x[3828] + x[3829] + x[3830] + x[3831] + x[3832] + x[3833] + x[3834] + x[3835] + x[3836] + x[3837] + x[3838] + x[3839] + x[3840] + x[3841] + x[3842] + x[3843] + x[3844] + x[3845] + x[3846] + x[3847] + x[3848] + x[3849] + x[3850] + x[3851] + x[3852] + x[3853] + x[3854] + x[3855] + x[3856] + x[3857] + x[3858] + x[3859] + x[3860] + x[3861] + x[3862] + x[3863] + x[3864] + x[3865] + x[3866] + x[3867] + x[3868] + x[3869] + x[3870] + x[3871] + x[3872] + x[3873] + x[3874] + x[3875] + x[3876] + x[3877] + x[3878] + x[3879] + x[3880] + x[3881] + x[3882] + x[3883] + x[3884] + x[3885] + x[3886] + x[3887] + x[3888] + x[3889] + x[3890] + x[3891] + x[3892] + x[3893] + x[3894] + x[3895] + x[3896] + x[3897] + x[3898] + x[3899] + x[3900] + x[3901] + x[3902] + x[3903] + x[3904] + x[3905] + x[3906] + x[3907] + x[3908] + x[3909] + x[3910] + x[3911] + x[3912] + x[3913] + x[3914] + x[3915] + x[3916] + x[3917] + x[3918] + x[3919] + x[3920] + x[3921] + x[3922] + x[3923] + x[3924] + x[3925] + x[3926] + x[3927] + x[3928] + x[3929] + x[3930] + x[3931] + x[3932] + x[3933] + x[3934] + x[3935] + x[3936] + x[3937] + x[3938] + x[3939] + x[3940] + x[3941] + x[3942] + x[3943] + x[3944] + x[3945] + x[3946] + x[3947] + x[3948] + x[3949] + x[3950] + x[3951] + x[3952] + x[3953] + x[3954] + x[3955] + x[3956] + x[3957] + x[3958] + x[3959] + x[3960] + x[3961] + x[3962] + x[3963] + x[3964] + x[3965] + x[3966] + x[3967] + x[3968] + x[3969] + x[3970] + x[3971] + x[3972] + x[3973] + x[3974] + x[3975] + x[3976] + x[3977] + x[3978] + x[3979] + x[3980] + x[3981] + x[3982] + x[3983] + x[3984] + x[3985] + x[3986] + x[3987] + x[3988] + x[3989] + x[3990] + x[3991] + x[3992] + x[3993] + x[3994] + x[3995] + x[3996] + x[3997] + x[3998] + x[3999] + x[4000] + x[4001] + x[4002] + x[4003] + x[4004] + x[4005] + x[4006] + x[4007] + x[4008] + x[4009] + x[4010] + x[4011] + x[4012] + x[4013] + x[4014] + x[4015] + x[4016] + x[4017] + x[4018] + x[4019] + x[4020] + x[4021] + x[4022] + x[4023] + x[4024] + x[4025] + x[4026] + x[4027] + x[4028] + x[4029] + x[4030] + x[4031] + x[4032] + x[4033] + x[4034] + x[4035] + x[4036] + x[4037] + x[4038] + x[4039] + x[4040] + x[4041] + x[4042] + x[4043] + x[4044] + x[4045] + x[4046] + x[4047] + x[4048] + x[4049] + x[4050] + x[4051] + x[4052] + x[4053] + x[4054] + x[4055] + x[4056] + x[4057] + x[4058] + x[4059] + x[4060] + x[4061] + x[4062] + x[4063] + x[4064] + x[4065] + x[4066] + x[4067] + x[4068] + x[4069] + x[4070] + x[4071] + x[4072] + x[4073] + x[4074] + x[4075] + x[4076] + x[4077] + x[4078] + x[4079] + x[4080] + x[4081] + x[4082] + x[4083] + x[4084] + x[4085] + x[4086] + x[4087] + x[4088] + x[4089] + x[4090] + x[4091] + x[4092] + x[4093] + x[4094] + x[4095] + x[4096] + x[4097] + x[4098] + x[4099] + x[4100] + x[4101] + x[4102] + x[4103] + x[4104] + x[4105] + x[4106] + x[4107] + x[4108] + x[4109] + x[4110] + x[4111] + x[4112] + x[4113] + x[4114] + x[4115] + x[4116] + x[4117] + x[4118] + x[4119] + x[4120] + x[4121] + x[4122] + x[4123] + x[4124] + x[4125] + x[4126] + x[4127] + x[4128] + x[4129] + x[4130] + x[4131] + x[4132] + x[4133] + x[4134] + x[4135] + x[4136] + x[4137] + x[4138] + x[4139] + x[4140] + x[4141] + x[4142] + x[4143] + x[4144] + x[4145] + x[4146] + x[4147] + x[4148] + x[4149] + x[4150] + x[4151] + x[4152] + x[4153] + x[4154] + x[4155] + x[4156] + x[4157] + x[4158] + x[4159] + x[4160] + x[4161] + x[4162] + x[4163] + x[4164] + x[4165] + x[4166] + x[4167] + x[4168] + x[4169] + x[4170] + x[4171] + x[4172] + x[4173] + x[4174] + x[4175] + x[4176] + x[4177] + x[4178] + x[4179] + x[4180] + x[4181] + x[4182] + x[4183] + x[4184] + x[4185] + x[4186] + x[4187] + x[4188] + x[4189] + x[4190] + x[4191] + x[4192] + x[4193] + x[4194] + x[4195] + x[4196] + x[4197] + x[4198] + x[4199] + x[4200] + x[4201] + x[4202] + x[4203] + x[4204] + x[4205] + x[4206] + x[4207] + x[4208] + x[4209] + x[4210] + x[4211] + x[4212] + x[4213] + x[4214] + x[4215] + x[4216] + x[4217] + x[4218] + x[4219] + x[4220] + x[4221] + x[4222] + x[4223] + x[4224] + x[4225] + x[4226] + x[4227] + x[4228] + x[4229] + x[4230] + x[4231] + x[4232] + x[4233] + x[4234] + x[4235] + x[4236] + x[4237] + x[4238] + x[4239] + x[4240] + x[4241] + x[4242] + x[4243] + x[4244] + x[4245] + x[4246] + x[4247] + x[4248] + x[4249] + x[4250] + x[4251] + x[4252] + x[4253] + x[4254] + x[4255] + x[4256] + x[4257] + x[4258] + x[4259] + x[4260] + x[4261] + x[4262] + x[4263] + x[4264] + x[4265] + x[4266] + x[4267] + x[4268] + x[4269] + x[4270] + x[4271] + x[4272] + x[4273] + x[4274] + x[4275] + x[4276] + x[4277] + x[4278] + x[4279] + x[4280] + x[4281] + x[4282] + x[4283] + x[4284] + x[4285] + x[4286] + x[4287] + x[4288] + x[4289] + x[4290] + x[4291] + x[4292] + x[4293] + x[4294] + x[4295] + x[4296] + x[4297] + x[4298] + x[4299] + x[4300] + x[4301] + x[4302] + x[4303] + x[4304] + x[4305] + x[4306] + x[4307] + x[4308] + x[4309] + x[4310] + x[4311] + x[4312] + x[4313] + x[4314] + x[4315] + x[4316] + x[4317] + x[4318] + x[4319] + x[4320] + x[4321] + x[4322] + x[4323] + x[4324] + x[4325] + x[4326] + x[4327] + x[4328] + x[4329] + x[4330] + x[4331] + x[4332] + x[4333] + x[4334] + x[4335] + x[4336] + x[4337] + x[4338] + x[4339] + x[4340] + x[4341] + x[4342] + x[4343] + x[4344] + x[4345] + x[4346] + x[4347] + x[4348] + x[4349] + x[4350] + x[4351] + x[4352] + x[4353] + x[4354] + x[4355] + x[4356] + x[4357] + x[4358] + x[4359] + x[4360] + x[4361] + x[4362] + x[4363] + x[4364] + x[4365] + x[4366] + x[4367] + x[4368] + x[4369] + x[4370] + x[4371] + x[4372] + x[4373] + x[4374] + x[4375] + x[4376] + x[4377] + x[4378] + x[4379] + x[4380] + x[4381] + x[4382] + x[4383] + x[4384] + x[4385] + x[4386] + x[4387] + x[4388] + x[4389] + x[4390] + x[4391] + x[4392] + x[4393] + x[4394] + x[4395] + x[4396] + x[4397] + x[4398] + x[4399] + x[4400] + x[4401] + x[4402] + x[4403] + x[4404] + x[4405] + x[4406] + x[4407] + x[4408] + x[4409] + x[4410] + x[4411] + x[4412] + x[4413] + x[4414] + x[4415] + x[4416] + x[4417] + x[4418] + x[4419] + x[4420] + x[4421] + x[4422] + x[4423] + x[4424] + x[4425] + x[4426] + x[4427] + x[4428] + x[4429] + x[4430] + x[4431] + x[4432] + x[4433] + x[4434] + x[4435] + x[4436] + x[4437] + x[4438] + x[4439] + x[4440] + x[4441] + x[4442] + x[4443] + x[4444] + x[4445] + x[4446] + x[4447] + x[4448] + x[4449] + x[4450] + x[4451] + x[4452] + x[4453] + x[4454] + x[4455] + x[4456] + x[4457] + x[4458] + x[4459] + x[4460] + x[4461] + x[4462] + x[4463] + x[4464] + x[4465] + x[4466] + x[4467] + x[4468] + x[4469] + x[4470] + x[4471] + x[4472] + x[4473] + x[4474] + x[4475] + x[4476] + x[4477] + x[4478] + x[4479] + x[4480] + x[4481] + x[4482] + x[4483] + x[4484] + x[4485] + x[4486] + x[4487] + x[4488] + x[4489] + x[4490] + x[4491] + x[4492] + x[4493] + x[4494] + x[4495] + x[4496] + x[4497] + x[4498] + x[4499] + x[4500] + x[4501] + x[4502] + x[4503] + x[4504] + x[4505] + x[4506] + x[4507] + x[4508] + x[4509] + x[4510] + x[4511] + x[4512] + x[4513] + x[4514] + x[4515] + x[4516] + x[4517] + x[4518] + x[4519] + x[4520] + x[4521] + x[4522] + x[4523] + x[4524] + x[4525] + x[4526] + x[4527] + x[4528] + x[4529] + x[4530] + x[4531] + x[4532] + x[4533] + x[4534] + x[4535] + x[4536] + x[4537] + x[4538] + x[4539] + x[4540] + x[4541] + x[4542] + x[4543] + x[4544] + x[4545] + x[4546] + x[4547] + x[4548] + x[4549] + x[4550] + x[4551] + x[4552] + x[4553] + x[4554] + x[4555] + x[4556] + x[4557] + x[4558] + x[4559] + x[4560] + x[4561] + x[4562] + x[4563] + x[4564] + x[4565] + x[4566] + x[4567] + x[4568] + x[4569] + x[4570] + x[4571] + x[4572] + x[4573] + x[4574] + x[4575] + x[4576] + x[4577] + x[4578] + x[4579] + x[4580] + x[4581] + x[4582] + x[4583] + x[4584] + x[4585] + x[4586] + x[4587] + x[4588] + x[4589] + x[4590] + x[4591] + x[4592] + x[4593] + x[4594] + x[4595] + x[4596] + x[4597] + x[4598] + x[4599] + x[4600] + x[4601] + x[4602] + x[4603] + x[4604] + x[4605] + x[4606] + x[4607] + x[4608] + x[4609] + x[4610] + x[4611] + x[4612] + x[4613] + x[4614] + x[4615] + x[4616] + x[4617] + x[4618] + x[4619] + x[4620] + x[4621] + x[4622] + x[4623] + x[4624] + x[4625] + x[4626] + x[4627] + x[4628] + x[4629] + x[4630] + x[4631] + x[4632] + x[4633] + x[4634] + x[4635] + x[4636] + x[4637] + x[4638] + x[4639] + x[4640] + x[4641] + x[4642] + x[4643] + x[4644] + x[4645] + x[4646] + x[4647] + x[4648] + x[4649] + x[4650] + x[4651] + x[4652] + x[4653] + x[4654] + x[4655] + x[4656] + x[4657] + x[4658] + x[4659] + x[4660] + x[4661] + x[4662] + x[4663] + x[4664] + x[4665] + x[4666] + x[4667] + x[4668] + x[4669] + x[4670] + x[4671] + x[4672] + x[4673] + x[4674] + x[4675] + x[4676] + x[4677] + x[4678] + x[4679] + x[4680] + x[4681] + x[4682] + x[4683] + x[4684] + x[4685] + x[4686] + x[4687] + x[4688] + x[4689] + x[4690] + x[4691] + x[4692] + x[4693] + x[4694] + x[4695] + x[4696] + x[4697] + x[4698] + x[4699] + x[4700] + x[4701] + x[4702] + x[4703] + x[4704] + x[4705] + x[4706] + x[4707] + x[4708] + x[4709] + x[4710] + x[4711] + x[4712] + x[4713] + x[4714] + x[4715] + x[4716] + x[4717] + x[4718] + x[4719] + x[4720] + x[4721] + x[4722] + x[4723] + x[4724] + x[4725] + x[4726] + x[4727] + x[4728] + x[4729] + x[4730] + x[4731] + x[4732] + x[4733] + x[4734] + x[4735] + x[4736] + x[4737] + x[4738] + x[4739] + x[4740] + x[4741] + x[4742] + x[4743] + x[4744] + x[4745] + x[4746] + x[4747] + x[4748] + x[4749] + x[4750] + x[4751] + x[4752] + x[4753] + x[4754] + x[4755] + x[4756] + x[4757] + x[4758] + x[4759] + x[4760] + x[4761] + x[4762] + x[4763] + x[4764] + x[4765] + x[4766] + 3.221310457987296 * y[0] + 3.9167226238235684 * y[1] + 6.29162837839724 * y[2] + 8.632781228494814 * y[3] + 8.814174351436439 * y[4] + 10.309787960839152 * y[5] + 28.159218198104128 * y[6] + 11.704013114952266 * y[7] + 7.676940853847641 * y[8] + 6.425159771021763 * y[9] + 6.003946305945459 * y[10] + 4.260196055903765 * y[11] + 3.8032555206327534 * y[12] + 6.473949935191195 * y[13] + 5.8320960490188 * y[14] + 7.7874662111977395 * y[15] + 3.382907481832879 * y[16] + 6.774926596737479 * y[17] + 6.825796391033122 * y[18] + 3.4082252898171688 * y[19] + 3.431811288823048 * y[20] + 3.431811288823048 * y[21] + 3.4058970000575775 * y[22] + 6.4317067943394255 * y[23] + 6.8164505796343375 * y[24] + 12.510243160096136 * y[25] + 12.50320709847542 * y[26] + 7.39024066706535 * y[27] + 6.830624879129927 * y[28] + 14.33419423150228 * y[29] + 3.860210413560226 * y[30] + 5.100234356278164 * y[31] + 7.16709711575114 * y[32] + 5.7808027546312495 * y[33] + 8.083387847625296 * y[34] + 7.677922739517131 * y[35] + 9.266800603587416 * y[36] + 7.860244296311086 * y[37] + 8.77653502818524 * y[38] + 7.523772059689873 * y[39] + 8.644375463863465 * y[40] + 8.77653502818524 * y[41] + 8.77653502818524 * y[42] + 4.864512022757094 * y[43] + 7.61344345721848 * y[44] + 7.39024066706535 * y[45] + 8.77653502818524 * y[46] + 8.77653502818524 * y[47] + 6.250806383876985 * y[48] + 7.523772059689873 * y[49] + 13.39418697301081 * y[50] + 9.749124717221191 * y[51] + 9.83161063428929 * y[52] + 9.709123383807853 * y[53] + 7.511898806471633 * y[54] + 4.382085873512802 * y[55] + 4.369815780920987 * y[56] + 6.63646886468897 * y[57] + 6.761632007642976 * y[58] + 6.761632007642976 * y[59] + 6.761632007642976 * y[60] + 6.37863975538687 * y[61] + 6.761632007642976 * y[62] + 5.685492574826925 * y[63] + 6.697093486505405 * y[64] + 19.74833086236772 * y[65] + 6.29162837839724 * y[66] + 6.761632007642976 * y[67] + 6.761632007642976 * y[68] + 6.37863975538687 * y[69] + 5.806120562615539 * y[70] + 4.844709395460915 * y[71] + 5.499390295193064 * y[72] + 5.075233054072747 * y[73] + 5.499390295193064 * y[74] + 8.77653502818524 * y[75] + 10.590589877699097 * y[76] + 7.523772059689873 * y[77] + 15.720488592622171 * y[78] + 6.401171850077849 * y[79] + 8.77653502818524 * y[80] + 7.677922739517131 * y[81] + 6.697093486505405 * y[82] + 6.579310450849021 * y[83] + 5.53785657602086 * y[84] + 7.860244296311086 * y[85] + 7.860244296311086 * y[86] + 14.143573871893631 * y[87] + 7.860244296311086 * y[88] + 7.860244296311086 * y[89] + 5.577861910634559 * y[90] + 12.334271511328447 * y[91] + 8.77653502818524 * y[92] + 7.523772059689873 * y[93] + 7.523772059689873 * y[94] + 6.697093486505405 * y[95] + 8.371069920077076 * y[96] + 8.083387847625296 * y[97] + 8.083387847625296 * y[98] + 7.272457631408966 * y[99] + 8.371069920077076 * y[100] + 15.720488592622171 * y[101] + 8.083387847625296 * y[102] + 7.860244296311086 * y[103] + 11.946349294557411 * y[104] + 5.806120562615539 * y[105] + 6.003946305945459 * y[106] + 6.525243229578745 * y[107] + 7.860244296311086 * y[108] + 5.375337646523085 * y[109] + 4.141806039955604 * y[110] + 6.579310450849021 * y[111] + 14.33419423150228 * y[112] + 7.523772059689873 * y[113] + 6.473949935191195 * y[114] + 8.77653502818524 * y[115] + 8.083387847625296 * y[116] + 8.371069920077076 * y[117] + 8.083387847625296 * y[118] + 6.37863975538687 * y[119] + 8.083387847625296 * y[120] + 8.083387847625296 * y[121] + 8.083387847625296 * y[122] + 7.523772059689873 * y[123] + 7.39024066706535 * y[124] + 6.334187992816036 * y[125] + 6.29162837839724 * y[126] + 5.2952949388495485 * y[127] + 5.8320960490188 * y[128] + 11.215993963851108 * y[129] + 5.53785657602086 * y[130] + 8.77653502818524 * y[131] + 8.371069920077076 * y[132] + 8.77653502818524 * y[133] + 11.326039437949731 * y[134] + 8.77653502818524 * y[135] + 5.462349023512715 * y[136] + 6.525243229578745 * y[137] + 8.77653502818524 * y[138] + 9.298801286280298 * y[139] + 14.544915262817932 * y[140] + 8.77653502818524 * y[141] + 8.77653502818524 * y[142] + 8.77653502818524 * y[143] + 6.63646886468897 * y[144] + 5.7808027546312495 * y[145] + 5.886163270289075 * y[146] + 8.371069920077076 * y[147] + 5.003774090090602 * y[148] + 10.225946764111187 * y[149] + 10.32443899671929 * y[150] + 4.806243114633118 * y[151] + 4.815721858587662 * y[152] + 23.41988509397787 * y[153] + 4.400778006524954 * y[154] + 6.579310450849021 * y[155] + 4.363736734844605 * y[156] + 4.8949712302418025 * y[157] + 7.860244296311086 * y[158] + 7.860244296311086 * y[159] + 8.371069920077076 * y[160] + 6.761632007642976 * y[161] + 8.371069920077076 * y[162] + 8.77653502818524 * y[163] + 7.860244296311086 * y[164] + 8.083387847625296 * y[165] + 6.579310450849021 * y[166] + 5.2952949388495485 * y[167] + 6.761632007642976 * y[168] + 6.761632007642976 * y[169] + 6.06848482708303 * y[170] + 5.602907920655564 * y[171] + 6.984775558957185 * y[172] + 8.77653502818524 * y[173] + 8.77653502818524 * y[174] + 10.961396324361823 * y[175] + 8.77653502818524 * y[176] + 8.77653502818524 * y[177] + 10.784289529678933 * y[178] + 8.77653502818524 * y[179] + 8.77653502818524 * y[180] + 7.39024066706535 * y[181] + 8.77653502818524 * y[182] + 8.371069920077076 * y[183] + 7.523772059689873 * y[184] + 7.860244296311086 * y[185] + 7.860244296311086 * y[186] + 8.77653502818524 * y[187] + 7.16709711575114 * y[188] + 8.77653502818524 * y[189] + 8.77653502818524 * y[190] + 10.52997917870844 * y[191] + 7.860244296311086 * y[192] + 8.77653502818524 * y[193] + 5.499390295193064 * y[194] + 5.914334147255772 * y[195] + 6.697093486505405 * y[196] + 8.77653502818524 * y[197] + 4.609869804383514 * y[198] + 6.697093486505405 * y[199] + 7.39024066706535 * y[200] + 6.904732851283649 * y[201] + 8.083387847625296 * y[202] + 5.250174503569079 * y[203] + 7.272457631408966 * y[204] + 16.166775695250593 * y[205] + 7.16709711575114 * y[206] + 11.239069214070254 * y[207] + 5.462349023512715 * y[208] + 6.473949935191195 * y[209] + 8.371069920077076 * y[210] + 8.77653502818524 * y[211] + 6.63646886468897 * y[212] + 7.39024066706535 * y[213] + 7.39024066706535 * y[214] + 7.39024066706535 * y[215] + 7.39024066706535 * y[216] + 7.39024066706535 * y[217] + 6.830624879129927 * y[218] + 8.371069920077076 * y[219] + 8.371069920077076 * y[220] + 8.371069920077076 * y[221] + 8.371069920077076 * y[222] + 8.371069920077076 * y[223] + 6.510148220645988 * y[224] + 8.371069920077076 * y[225] + 7.16709711575114 * y[226] + 7.677922739517131 * y[227] + 8.4139840396806 * y[228] + 17.55307005637048 * y[229] + 8.77653502818524 * y[230] + 17.55307005637048 * y[231] + 7.912506925160407 * y[232] + 17.55307005637048 * y[233] + 8.77653502818524 * y[234] + 7.272457631408966 * y[235] + 6.579310450849021 * y[236] + 7.272457631408966 * y[237] + 8.77653502818524 * y[238] + 7.272457631408966 * y[239] + 7.16709711575114 * y[240] + 7.523772059689873 * y[241] + 7.272457631408966 * y[242] + 8.371069920077076 * y[243] + 7.39024066706535 * y[244] + 6.63646886468897 * y[245] + 6.425159771021763 * y[246] + 7.16709711575114 * y[247] + 4.571842408794274 * y[248] + 10.471151408295853 * y[249] + 7.39024066706535 * y[250] + 6.904732851283649 * y[251] + 7.39024066706535 * y[252] + 11.828668294511544 * y[253] + 8.77653502818524 * y[254] + 8.77653502818524 * y[255] + 12.58325675679448 * y[256] + 7.272457631408966 * y[257] + 8.77653502818524 * y[258] + 6.03569500426004 * y[259] + 5.358808344571874 * y[260] + 4.571842408794274 * y[261] + 8.77653502818524 * y[262] + 8.77653502818524 * y[263] + 8.77653502818524 * y[264] + 8.77653502818524 * y[265] + 8.77653502818524 * y[266] + 7.523772059689873 * y[267] + 6.984775558957185 * y[268] + 7.860244296311086 * y[269] + 8.77653502818524 * y[270] + 8.77653502818524 * y[271] + 8.77653502818524 * y[272] + 5.499390295193064 * y[273] + 8.371069920077076 * y[274] + 8.371069920077076 * y[275] + 8.77653502818524 * y[276] + 7.677922739517131 * y[277] + 4.698997584279521 * y[278] + 4.884714730074614 * y[279] + 8.371069920077076 * y[280] + 7.677922739517131 * y[281] + 8.371069920077076 * y[282] + 8.371069920077076 * y[283] + 3.3190794402989066 * y[284] + 8.371069920077076 * y[285] + 7.0717869359468155 * y[286] + 15.047544119379745 * y[287] + 15.047544119379745 * y[288] + 6.37863975538687 * y[289] + 4.9588227022283355 * y[290] + 11.37098514965385 * y[291] + 5.943321684129025 * y[292] + 7.272457631408966 * y[293] + 7.272457631408966 * y[294] + 7.860244296311086 * y[295] + 7.677922739517131 * y[296] + 8.371069920077076 * y[297] + 8.77653502818524 * y[298] + 8.083387847625296 * y[299] + 8.77653502818524 * y[300] + 6.697093486505405 * y[301] + 8.77653502818524 * y[302] + 6.425159771021763 * y[303] + 7.272457631408966 * y[304] + 8.77653502818524 * y[305] + 7.16709711575114 * y[306] + 8.083387847625296 * y[307] + 8.77653502818524 * y[308] + 6.102386378758712 * y[309] + 8.77653502818524 * y[310] + 8.371069920077076 * y[311] + 7.39024066706535 * y[312] + 14.143573871893631 * y[313] + 8.77653502818524 * y[314] + 8.77653502818524 * y[315] + 7.0717869359468155 * y[316] + 8.77653502818524 * y[317] + 8.77653502818524 * y[318] + 8.77653502818524 * y[319] + 8.083387847625296 * y[320] + 12.204772757517423 * y[321] + 8.371069920077076 * y[322] + 12.75727951077374 * y[323] + 7.860244296311086 * y[324] + 8.77653502818524 * y[325] + 6.697093486505405 * y[326] + 7.860244296311086 * y[327] + 7.272457631408966 * y[328] + 6.984775558957185 * y[329] + 7.39024066706535 * y[330] + 8.083387847625296 * y[331] + 8.371069920077076 * y[332] + 8.77653502818524 * y[333] + 17.55307005637048 * y[334] + 15.720488592622171 * y[335] + 15.720488592622171 * y[336] + 8.371069920077076 * y[337] + 6.984775558957185 * y[338] + 14.143573871893631 * y[339] + 8.083387847625296 * y[340] + 8.77653502818524 * y[341] + 8.371069920077076 * y[342] + 13.446431113774402 * y[343] + 8.77653502818524 * y[344] + 9.789942460483605 * y[345] + 8.083387847625296 * y[346] + 8.77653502818524 * y[347] + 6.173845342740856 * y[348] + 8.77653502818524 * y[349] + 8.083387847625296 * y[350] + 8.371069920077076 * y[351] + 8.77653502818524 * y[352] + 8.371069920077076 * y[353] + 8.083387847625296 * y[354] + 6.425159771021763 * y[355] + 8.77653502818524 * y[356] + 7.523772059689873 * y[357] + 7.860244296311086 * y[358] + 7.860244296311086 * y[359] + 7.39024066706535 * y[360] + 7.39024066706535 * y[361] + 8.083387847625296 * y[362] + 4.375932007938424 * y[363] + 7.39024066706535 * y[364] + 6.761632007642976 * y[365] + 8.77653502818524 * y[366] + 8.77653502818524 * y[367] + 8.371069920077076 * y[368] + 7.39024066706535 * y[369] + 8.77653502818524 * y[370] + 8.77653502818524 * y[371] + 26.32960508455572 * y[372] + 6.697093486505405 * y[373] + 31.440977185244343 * y[374] + 8.371069920077076 * y[375] + 7.860244296311086 * y[376] + 8.371069920077076 * y[377] + 8.371069920077076 * y[378] + 8.77653502818524 * y[379] + 8.77653502818524 * y[380] + 8.77653502818524 * y[381] + 8.77653502818524 * y[382] + 7.523772059689873 * y[383] + 8.77653502818524 * y[384] + 8.77653502818524 * y[385] + 7.16709711575114 * y[386] + 8.77653502818524 * y[387] + 8.371069920077076 * y[388] + 8.77653502818524 * y[389] + 7.860244296311086 * y[390] + 36.63466464418745 * y[391] + 16.923122436768274 * y[392] + 7.523772059689873 * y[393] + 7.272457631408966 * y[394] + 7.523772059689873 * y[395] + 8.371069920077076 * y[396] + 8.083387847625296 * y[397] + 8.77653502818524 * y[398] + 7.272457631408966 * y[399] + 6.830624879129927 * y[400] + 8.371069920077076 * y[401] + 8.371069920077076 * y[402] + 8.371069920077076 * y[403] + 8.371069920077076 * y[404] + 8.679637919090883 * y[405] + 7.0717869359468155 * y[406] + 7.677922739517131 * y[407] + 6.37863975538687 * y[408] + 6.102386378758712 * y[409] + 7.523772059689873 * y[410] + 11.464025180923635 * y[411] + 3.4152428624758153 * y[412] + 8.77653502818524 * y[413] + 8.371069920077076 * y[414] + 8.656037304485052 * y[415] + 12.228163987178473 * y[416] + 8.083387847625296 * y[417] + 8.77653502818524 * y[418] + 8.77653502818524 * y[419] + 6.63646886468897 * y[420] + 7.860244296311086 * y[421] + 7.677922739517131 * y[422] + 11.561605509262499 * y[423] + 6.697093486505405 * y[424] + 6.761632007642976 * y[425] + 6.761632007642976 * y[426] + 6.761632007642976 * y[427] + 6.761632007642976 * y[428] + 6.761632007642976 * y[429] + 6.761632007642976 * y[430] + 6.761632007642976 * y[431] + 6.761632007642976 * y[432] + 6.173845342740856 * y[433] + 8.77653502818524 * y[434] + 8.083387847625296 * y[435] + 8.083387847625296 * y[436] + 8.083387847625296 * y[437] + 8.371069920077076 * y[438] + 6.830624879129927 * y[439] + 7.860244296311086 * y[440] + 7.860244296311086 * y[441] + 8.77653502818524 * y[442] + 8.371069920077076 * y[443] + 8.77653502818524 * y[444] + 7.39024066706535 * y[445] + 8.371069920077076 * y[446] + 8.77653502818524 * y[447] + 8.77653502818524 * y[448] + 7.272457631408966 * y[449] + 8.371069920077076 * y[450] + 7.39024066706535 * y[451] + 6.06848482708303 * y[452] + 8.77653502818524 * y[453] + 11.11531840663408 * y[454] + 8.083387847625296 * y[455] + 5.55765920331704 * y[456] + 6.525243229578745 * y[457] + 7.459778593131903 * y[458] + 15.338920146166782 * y[459] + 8.77653502818524 * y[460] + 10.75067529304617 * y[461] + 15.355845479034262 * y[462] + 7.677922739517131 * y[463] + 16.166775695250593 * y[464] + 14.7804813341307 * y[465] + 7.677922739517131 * y[466] + 8.77653502818524 * y[467] + 11.416964186103247 * y[468] + 11.828668294511544 * y[469] + 8.77653502818524 * y[470] + 7.0717869359468155 * y[471] + 16.567224159822416 * y[472] + 13.605624826843481 * y[473] + 5.641040812256091 * y[474] + 7.677922739517131 * y[475] + 7.860244296311086 * y[476] + 8.083387847625296 * y[477] + 8.77653502818524 * y[478] + 34.71175891559835 * y[479] + 4.5644074303067566 * y[480] + 8.371069920077076 * y[481] + 8.371069920077076 * y[482] + 5.756110142040878 * y[483] + 7.523772059689873 * y[484] + 8.083387847625296 * y[485] + 6.425159771021763 * y[486] + 5.641040812256091 * y[487] + 8.083387847625296 * y[488] + 7.677922739517131 * y[489] + 8.77653502818524 * y[490] + 6.904732851283649 * y[491] + 8.77653502818524 * y[492] + 8.371069920077076 * y[493] + 8.77653502818524 * y[494] + 8.77653502818524 * y[495] + 8.371069920077076 * y[496] + 8.77653502818524 * y[497] + 8.77653502818524 * y[498] + 8.77653502818524 * y[499] + 7.272457631408966 * y[500] + 8.77653502818524 * y[501] + 8.77653502818524 * y[502] + 8.77653502818524 * y[503] + 8.77653502818524 * y[504] + 8.77653502818524 * y[505] + 8.77653502818524 * y[506] + 8.371069920077076 * y[507] + 8.77653502818524 * y[508] + 8.77653502818524 * y[509] + 8.77653502818524 * y[510] + 7.677922739517131 * y[511] + 8.77653502818524 * y[512] + 8.77653502818524 * y[513] + 8.77653502818524 * y[514] + 8.77653502818524 * y[515] + 8.77653502818524 * y[516] + 7.860244296311086 * y[517] + 7.860244296311086 * y[518] + 15.047544119379745 * y[519] + 15.355845479034262 * y[520] + 6.984775558957185 * y[521] + 8.77653502818524 * y[522] + 5.3921447648394665 * y[523] + 7.860244296311086 * y[524] + 8.371069920077076 * y[525] + 8.371069920077076 * y[526] + 8.77653502818524 * y[527] + 6.984775558957185 * y[528] + 4.915805317144645 * y[529] + 7.523772059689873 * y[530] + 8.77653502818524 * y[531] + 8.77653502818524 * y[532] + 8.083387847625296 * y[533] + 8.77653502818524 * y[534] + 9.266800603587416 * y[535] + 8.371069920077076 * y[536] + 15.355845479034262 * y[537] + 7.272457631408966 * y[538] + 8.77653502818524 * y[539] + 8.77653502818524 * y[540] + 4.778334326516042 * y[541] + 8.371069920077076 * y[542] + 33.484279680308305 * y[543] + 26.32960508455572 * y[544] + 25.11320976023123 * y[545] + 8.77653502818524 * y[546] + 13.09295232380266 * y[547] + 5.619534607035127 * y[548] + 8.77653502818524 * y[549] + 6.8164505796343375 * y[550] + 8.77653502818524 * y[551] + 8.77653502818524 * y[552] + 8.371069920077076 * y[553] + 8.083387847625296 * y[554] + 7.523772059689873 * y[555] + 8.083387847625296 * y[556] + 10.75067529304617 * y[557] + 15.720488592622171 * y[558] + 8.083387847625296 * y[559] + 8.77653502818524 * y[560] + 6.984775558957185 * y[561] + 8.083387847625296 * y[562] + 8.77653502818524 * y[563] + 7.272457631408966 * y[564] + 8.77653502818524 * y[565] + 8.371069920077076 * y[566] + 8.371069920077076 * y[567] + 7.860244296311086 * y[568] + 8.371069920077076 * y[569] + 8.371069920077076 * y[570] + 7.677922739517131 * y[571] + 8.371069920077076 * y[572] + 8.371069920077076 * y[573] + 8.371069920077076 * y[574] + 8.371069920077076 * y[575] + 20.350622296285216 * y[576] + 8.371069920077076 * y[577] + 6.984775558957185 * y[578] + 8.77653502818524 * y[579] + 8.371069920077076 * y[580] + 8.972151174073698 * y[581] + 8.371069920077076 * y[582] + 8.77653502818524 * y[583] + 8.77653502818524 * y[584] + 7.0717869359468155 * y[585] + 8.371069920077076 * y[586] + 8.77653502818524 * y[587] + 17.55307005637048 * y[588] + 17.55307005637048 * y[589] + 8.77653502818524 * y[590] + 6.697093486505405 * y[591] + 17.55307005637048 * y[592] + 6.830624879129927 * y[593] + 7.677922739517131 * y[594] + 8.083387847625296 * y[595] + 8.083387847625296 * y[596] + 8.77653502818524 * y[597] + 8.77653502818524 * y[598] + 8.77653502818524 * y[599] + 15.355845479034262 * y[600] + 8.77653502818524 * y[601] + 7.0717869359468155 * y[602] + 8.77653502818524 * y[603] + 16.742139840154152 * y[604] + 8.371069920077076 * y[605] + 8.77653502818524 * y[606] + 8.77653502818524 * y[607] + 8.77653502818524 * y[608] + 8.083387847625296 * y[609] + 6.63646886468897 * y[610] + 6.63646886468897 * y[611] + 8.371069920077076 * y[612] + 13.661249758259855 * y[613] + 16.742139840154152 * y[614] + 8.77653502818524 * y[615] + 7.272457631408966 * y[616] + 8.77653502818524 * y[617] + 8.77653502818524 * y[618] + 8.371069920077076 * y[619] + 8.77653502818524 * y[620] + 8.77653502818524 * y[621] + 8.77653502818524 * y[622] + 8.77653502818524 * y[623] + 8.77653502818524 * y[624] + 7.860244296311086 * y[625] + 8.371069920077076 * y[626] + 7.677922739517131 * y[627] + 6.211585670723704 * y[628] + 7.860244296311086 * y[629] + 7.860244296311086 * y[630] + 13.27293772937794 * y[631] + 8.371069920077076 * y[632] + 8.77653502818524 * y[633] + 8.371069920077076 * y[634] + 8.371069920077076 * y[635] + 8.371069920077076 * y[636] + 7.860244296311086 * y[637] + 8.371069920077076 * y[638] + 6.37863975538687 * y[639] + 7.523772059689873 * y[640] + 6.525243229578745 * y[641] + 8.77653502818524 * y[642] + 8.77653502818524 * y[643] + 8.77653502818524 * y[644] + 8.371069920077076 * y[645] + 8.77653502818524 * y[646] + 8.77653502818524 * y[647] + 17.55307005637048 * y[648] + 17.55307005637048 * y[649] + 8.77653502818524 * y[650] + 8.77653502818524 * y[651] + 8.77653502818524 * y[652] + 7.16709711575114 * y[653] + 6.697093486505405 * y[654] + 8.083387847625296 * y[655] + 8.77653502818524 * y[656] + 11.561605509262499 * y[657] + 8.77653502818524 * y[658] + 8.77653502818524 * y[659] + 7.523772059689873 * y[660] + 8.77653502818524 * y[661] + 8.371069920077076 * y[662] + 8.77653502818524 * y[663] + 8.77653502818524 * y[664] + 8.77653502818524 * y[665] + 8.77653502818524 * y[666] + 8.77653502818524 * y[667] + 8.77653502818524 * y[668] + 12.75727951077374 * y[669] + 8.77653502818524 * y[670] + 8.77653502818524 * y[671] + 6.984775558957185 * y[672] + 8.77653502818524 * y[673] + 8.083387847625296 * y[674] + 8.083387847625296 * y[675] + 11.464025180923635 * y[676] + 8.371069920077076 * y[677] + 6.984775558957185 * y[678] + 8.083387847625296 * y[679] + 7.860244296311086 * y[680] + 6.63646886468897 * y[681] + 8.77653502818524 * y[682] + 8.083387847625296 * y[683] + 7.523772059689873 * y[684] + 6.37863975538687 * y[685] + 8.083387847625296 * y[686] + 8.77653502818524 * y[687] + 7.16709711575114 * y[688] + 7.16709711575114 * y[689] + 7.677922739517131 * y[690] + 8.77653502818524 * y[691] + 8.083387847625296 * y[692] + 8.083387847625296 * y[693] + 8.083387847625296 * y[694] + 8.77653502818524 * y[695] + 8.77653502818524 * y[696] + 8.371069920077076 * y[697] + 8.371069920077076 * y[698] + 8.77653502818524 * y[699] + 6.334187992816036 * y[700] + 8.77653502818524 * y[701] + 7.677922739517131 * y[702] + 8.77653502818524 * y[703] + 7.272457631408966 * y[704] + 8.77653502818524 * y[705] + 8.77653502818524 * y[706] + 8.77653502818524 * y[707] + 8.77653502818524 * y[708] + 15.159652795043922 * y[709] + 13.96955111791437 * y[710] + 8.77653502818524 * y[711] + 8.77653502818524 * y[712] + 15.322268753571722 * y[713] + 13.05048645915749 * y[714] + 7.860244296311086 * y[715] + 7.860244296311086 * y[716] + 3.429427497467772 * y[717] + 8.371069920077076 * y[718] + 8.77653502818524 * y[719] + 6.761632007642976 * y[720] + 8.77653502818524 * y[721] + 8.77653502818524 * y[722] + 6.904732851283649 * y[723] + 14.33419423150228 * y[724] + 8.77653502818524 * y[725] + 8.77653502818524 * y[726] + 8.77653502818524 * y[727] + 7.523772059689873 * y[728] + 11.19696239567459 * y[729] + 8.77653502818524 * y[730] + 4.864512022757094 * y[731] + 5.9731746472787055 * y[732] + 8.371069920077076 * y[733] + 9.331322328023859 * y[734] + 14.7804813341307 * y[735] + 8.77653502818524 * y[736] + 8.77653502818524 * y[737] + 6.830624879129927 * y[738] + 8.77653502818524 * y[739] + 8.371069920077076 * y[740] + 7.860244296311086 * y[741] + 8.77653502818524 * y[742] + 8.371069920077076 * y[743] + 8.371069920077076 * y[744] + 7.677922739517131 * y[745] + 8.083387847625296 * y[746] + 14.7804813341307 * y[747] + 8.371069920077076 * y[748] + 9.173591823105866 * y[749] + 6.984775558957185 * y[750] + 8.371069920077076 * y[751] + 8.371069920077076 * y[752] + 8.77653502818524 * y[753] + 7.860244296311086 * y[754] + 8.77653502818524 * y[755] + 8.77653502818524 * y[756] + 8.77653502818524 * y[757] + 8.77653502818524 * y[758] + 8.371069920077076 * y[759] + 8.77653502818524 * y[760] + 8.77653502818524 * y[761] + 8.77653502818524 * y[762] + 8.77653502818524 * y[763] + 8.77653502818524 * y[764] + 8.77653502818524 * y[765] + 7.272457631408966 * y[766] + 8.77653502818524 * y[767] + 8.77653502818524 * y[768] + 8.77653502818524 * y[769] + 8.77653502818524 * y[770] + 8.77653502818524 * y[771] + 8.371069920077076 * y[772] + 7.523772059689873 * y[773] + 8.77653502818524 * y[774] + 8.77653502818524 * y[775] + 7.860244296311086 * y[776] + 8.77653502818524 * y[777] + 8.371069920077076 * y[778] + 8.77653502818524 * y[779] + 8.77653502818524 * y[780] + 8.371069920077076 * y[781] + 7.677922739517131 * y[782] + 7.677922739517131 * y[783] + 8.77653502818524 * y[784] + 8.77653502818524 * y[785] + 8.77653502818524 * y[786] + 8.77653502818524 * y[787] + 8.77653502818524 * y[788] + 8.77653502818524 * y[789] + 7.860244296311086 * y[790] + 8.77653502818524 * y[791] + 7.16709711575114 * y[792] + 5.4443305180100365 * y[793] + 7.39024066706535 * y[794] + 8.371069920077076 * y[795] + 8.77653502818524 * y[796] + 8.77653502818524 * y[797] + 8.77653502818524 * y[798] + 8.77653502818524 * y[799] + 12.608725700651085 * y[800] + 26.32960508455572 * y[801] + 8.77653502818524 * y[802] + 8.77653502818524 * y[803] + 7.16709711575114 * y[804] + 9.852774852950365 * y[805] + 7.523772059689873 * y[806] + 10.464803992472115 * y[807] + 7.860244296311086 * y[808] + 8.77653502818524 * y[809] + 7.860244296311086 * y[810] + 8.083387847625296 * y[811] + 7.677922739517131 * y[812] + 8.77653502818524 * y[813] + 7.523772059689873 * y[814] + 17.55307005637048 * y[815] + 9.709123383807853 * y[816] + 8.77653502818524 * y[817] + 8.083387847625296 * y[818] + 7.523772059689873 * y[819] + 7.677922739517131 * y[820] + 6.984775558957185 * y[821] + 6.904732851283649 * y[822] + 16.166775695250593 * y[823] + 8.77653502818524 * y[824] + 8.371069920077076 * y[825] + 8.083387847625296 * y[826] + 8.083387847625296 * y[827] + 8.77653502818524 * y[828] + 8.77653502818524 * y[829] + 7.39024066706535 * y[830] + 8.77653502818524 * y[831] + 8.77653502818524 * y[832] + 8.77653502818524 * y[833] + 8.77653502818524 * y[834] + 7.677922739517131 * y[835] + 8.371069920077076 * y[836] + 8.083387847625296 * y[837] + 8.083387847625296 * y[838] + 8.371069920077076 * y[839] + 4.5644074303067566 * y[840] + 7.272457631408966 * y[841] + 8.083387847625296 * y[842] + 7.523772059689873 * y[843] + 5.619534607035127 * y[844] + 5.577861910634559 * y[845] + 5.619534607035127 * y[846] + 5.619534607035127 * y[847] + 5.619534607035127 * y[848] + 8.371069920077076 * y[849] + 7.677922739517131 * y[850] + 6.697093486505405 * y[851] + 6.63646886468897 * y[852] + 7.523772059689873 * y[853] + 8.77653502818524 * y[854] + 8.77653502818524 * y[855] + 8.77653502818524 * y[856] + 7.860244296311086 * y[857] + 7.860244296311086 * y[858] + 7.860244296311086 * y[859] + 7.860244296311086 * y[860] + 7.523772059689873 * y[861] + 7.523772059689873 * y[862] + 7.523772059689873 * y[863] + 8.77653502818524 * y[864] + 6.63646886468897 * y[865] + 11.946349294557411 * y[866] + 8.77653502818524 * y[867] + 8.77653502818524 * y[868] + 8.77653502818524 * y[869] + 8.77653502818524 * y[870] + 17.55307005637048 * y[871] + 4.778334326516042 * y[872] + 7.860244296311086 * y[873] + 8.77653502818524 * y[874] + 8.77653502818524 * y[875] + 8.77653502818524 * y[876] + 8.77653502818524 * y[877] + 8.77653502818524 * y[878] + 7.677922739517131 * y[879] + 8.083387847625296 * y[880] + 9.02771030228785 * y[881] + 8.083387847625296 * y[882] + 8.083387847625296 * y[883] + 8.083387847625296 * y[884] + 8.083387847625296 * y[885] + 8.371069920077076 * y[886] + 4.992345394266979 * y[887] + 8.77653502818524 * y[888] + 8.371069920077076 * y[889] + 8.77653502818524 * y[890] + 8.371069920077076 * y[891] + 8.371069920077076 * y[892] + 8.77653502818524 * y[893] + 8.77653502818524 * y[894] + 8.77653502818524 * y[895] + 8.77653502818524 * y[896] + 8.77653502818524 * y[897] + 8.77653502818524 * y[898] + 8.77653502818524 * y[899] + 8.77653502818524 * y[900] + 8.083387847625296 * y[901] + 8.77653502818524 * y[902] + 8.77653502818524 * y[903] + 8.77653502818524 * y[904] + 8.77653502818524 * y[905] + 8.77653502818524 * y[906] + 8.371069920077076 * y[907] + 8.77653502818524 * y[908] + 8.083387847625296 * y[909] + 7.860244296311086 * y[910] + 8.371069920077076 * y[911] + 8.083387847625296 * y[912] + 8.371069920077076 * y[913] + 8.77653502818524 * y[914] + 8.77653502818524 * y[915] + 8.77653502818524 * y[916] + 8.371069920077076 * y[917] + 7.272457631408966 * y[918] + 6.761632007642976 * y[919] + 8.371069920077076 * y[920] + 7.677922739517131 * y[921] + 8.752761839192267 * y[922] + 7.523772059689873 * y[923] + 7.39024066706535 * y[924] + 8.77653502818524 * y[925] + 8.77653502818524 * y[926] + 8.77653502818524 * y[927] + 8.77653502818524 * y[928] + 8.77653502818524 * y[929] + 7.52514388799262 * y[930] + 8.77653502818524 * y[931] + 8.77653502818524 * y[932] + 8.77653502818524 * y[933] + 8.77653502818524 * y[934] + 8.371069920077076 * y[935] + 6.211585670723704 * y[936] + 8.77653502818524 * y[937] + 8.77653502818524 * y[938] + 8.77653502818524 * y[939] + 8.77653502818524 * y[940] + 8.77653502818524 * y[941] + 8.77653502818524 * y[942] + 16.166775695250593 * y[943] + 8.083387847625296 * y[944] + 8.371069920077076 * y[945] + 4.96987253841492 * y[946] + 8.77653502818524 * y[947] + 8.77653502818524 * y[948] + 8.371069920077076 * y[949] + 12.58325675679448 * y[950] + 7.677922739517131 * y[951] + 8.371069920077076 * y[952] + 8.371069920077076 * y[953] + 8.371069920077076 * y[954] + 8.371069920077076 * y[955] + 8.77653502818524 * y[956] + 8.77653502818524 * y[957] + 7.272457631408966 * y[958] + 7.61344345721848 * y[959] + 6.579310450849021 * y[960] + 15.262966722213912 * y[961] + 8.77653502818524 * y[962] + 8.77653502818524 * y[963] + 6.63646886468897 * y[964] + 7.272457631408966 * y[965] + 8.083387847625296 * y[966] + 8.083387847625296 * y[967] + 7.860244296311086 * y[968] + 8.77653502818524 * y[969] + 8.083387847625296 * y[970] + 6.904732851283649 * y[971] + 7.860244296311086 * y[972] + 7.860244296311086 * y[973] + 7.860244296311086 * y[974] + 7.860244296311086 * y[975] + 11.155723821269119 * y[976] + 7.860244296311086 * y[977] + 8.371069920077076 * y[978] + 8.083387847625296 * y[979] + 7.860244296311086 * y[980] + 8.77653502818524 * y[981] + 8.77653502818524 * y[982] + 7.16709711575114 * y[983] + 8.77653502818524 * y[984] + 5.165617115541016 * y[985] + 7.523772059689873 * y[986] + 7.523772059689873 * y[987] + 7.39024066706535 * y[988] + 7.0717869359468155 * y[989] + 5.708482093051623 * y[990] + 8.77653502818524 * y[991] + 8.77653502818524 * y[992] + 8.083387847625296 * y[993] + 6.63646886468897 * y[994] + 8.371069920077076 * y[995] + 8.371069920077076 * y[996] + 6.425159771021763 * y[997] + 7.860244296311086 * y[998] + 8.77653502818524 * y[999] + 7.860244296311086 * y[1000] + 6.63646886468897 * y[1001] + 8.77653502818524 * y[1002] + 8.77653502818524 * y[1003] + 8.083387847625296 * y[1004] + 7.523772059689873 * y[1005] + 8.371069920077076 * y[1006] + 10.621598250771028 * y[1007] + 8.371069920077076 * y[1008] + 4.834953220515549 * y[1009] + 6.830624879129927 * y[1010] + 8.083387847625296 * y[1011] + 7.272457631408966 * y[1012] + 7.272457631408966 * y[1013] + 7.272457631408966 * y[1014] + 8.77653502818524 * y[1015] + 8.77653502818524 * y[1016] + 8.77653502818524 * y[1017] + 8.77653502818524 * y[1018] + 7.0717869359468155 * y[1019] + 8.77653502818524 * y[1020] + 8.77653502818524 * y[1021] + 8.371069920077076 * y[1022] + 6.8446200593978155 * y[1023] + 7.860244296311086 * y[1024] + 8.77653502818524 * y[1025] + 8.083387847625296 * y[1026] + 8.371069920077076 * y[1027] + 7.272457631408966 * y[1028] + 8.77653502818524 * y[1029] + 4.594484885544034 * y[1030] + 7.39024066706535 * y[1031] + 8.77653502818524 * y[1032] + 8.77653502818524 * y[1033] + 8.77653502818524 * y[1034] + 8.77653502818524 * y[1035] + 7.860244296311086 * y[1036] + 6.697093486505405 * y[1037] + 4.992345394266979 * y[1038] + 8.77653502818524 * y[1039] + 8.77653502818524 * y[1040] + 8.371069920077076 * y[1041] + 8.77653502818524 * y[1042] + 8.371069920077076 * y[1043] + 5.8320960490188 * y[1044] + 8.77653502818524 * y[1045] + 8.371069920077076 * y[1046] + 7.860244296311086 * y[1047] + 8.371069920077076 * y[1048] + 8.77653502818524 * y[1049] + 8.371069920077076 * y[1050] + 8.77653502818524 * y[1051] + 3.4657951416386465 * y[1052] + 8.371069920077076 * y[1053] + 8.77653502818524 * y[1054] + 8.371069920077076 * y[1055] + 8.77653502818524 * y[1056] + 8.371069920077076 * y[1057] + 8.77653502818524 * y[1058] + 8.77653502818524 * y[1059] + 8.77653502818524 * y[1060] + 8.77653502818524 * y[1061] + 6.904732851283649 * y[1062] + 8.77653502818524 * y[1063] + 8.77653502818524 * y[1064] + 8.083387847625296 * y[1065] + 8.083387847625296 * y[1066] + 8.371069920077076 * y[1067] + 7.677922739517131 * y[1068] + 8.371069920077076 * y[1069] + 8.77653502818524 * y[1070] + 7.523772059689873 * y[1071] + 8.371069920077076 * y[1072] + 8.77653502818524 * y[1073] + 8.77653502818524 * y[1074] + 8.77653502818524 * y[1075] + 4.8745623586105955 * y[1076] + 8.958499243932899 * y[1077] + 8.371069920077076 * y[1078] + 8.77653502818524 * y[1079] + 7.677922739517131 * y[1080] + 7.272457631408966 * y[1081] + 16.742139840154152 * y[1082] + 16.742139840154152 * y[1083] + 8.77653502818524 * y[1084] + 8.77653502818524 * y[1085] + 8.77653502818524 * y[1086] + 8.371069920077076 * y[1087] + 8.77653502818524 * y[1088] + 8.77653502818524 * y[1089] + 21.50129134725342 * y[1090] + 8.083387847625296 * y[1091] + 7.523772059689873 * y[1092] + 8.77653502818524 * y[1093] + 7.860244296311086 * y[1094] + 8.77653502818524 * y[1095] + 8.77653502818524 * y[1096] + 8.77653502818524 * y[1097] + 8.083387847625296 * y[1098] + 14.7804813341307 * y[1099] + 8.371069920077076 * y[1100] + 8.77653502818524 * y[1101] + 8.083387847625296 * y[1102] + 6.984775558957185 * y[1103] + 8.371069920077076 * y[1104] + 8.083387847625296 * y[1105] + 4.351688396328431 * y[1106] + 8.371069920077076 * y[1107] + 8.371069920077076 * y[1108] + 4.413436403396878 * y[1109] + 14.143573871893631 * y[1110] + 8.083387847625296 * y[1111] + 7.16709711575114 * y[1112] + 8.77653502818524 * y[1113] + 8.083387847625296 * y[1114] + 7.860244296311086 * y[1115] + 8.083387847625296 * y[1116] + 8.083387847625296 * y[1117] + 16.166775695250593 * y[1118] + 7.677922739517131 * y[1119] + 13.96955111791437 * y[1120] + 7.860244296311086 * y[1121] + 8.083387847625296 * y[1122] + 8.083387847625296 * y[1123] + 8.083387847625296 * y[1124] + 9.432184035277643 * y[1125] + 8.77653502818524 * y[1126] + 8.77653502818524 * y[1127] + 8.77653502818524 * y[1128] + 8.371069920077076 * y[1129] + 8.371069920077076 * y[1130] + 10.52997917870844 * y[1131] + 8.77653502818524 * y[1132] + 8.77653502818524 * y[1133] + 7.523772059689873 * y[1134] + 6.102386378758712 * y[1135] + 8.77653502818524 * y[1136] + 8.77653502818524 * y[1137] + 8.77653502818524 * y[1138] + 8.77653502818524 * y[1139] + 7.677922739517131 * y[1140] + 8.371069920077076 * y[1141] + 5.2355757041479265 * y[1142] + 7.757390456468658 * y[1143] + 14.143573871893631 * y[1144] + 17.55307005637048 * y[1145] + 16.166775695250593 * y[1146] + 6.334187992816036 * y[1147] + 5.663019718974866 * y[1148] + 5.55765920331704 * y[1149] + 7.272457631408966 * y[1150] + 8.77653502818524 * y[1151] + 8.77653502818524 * y[1152] + 8.77653502818524 * y[1153] + 8.77653502818524 * y[1154] + 4.926387426475182 * y[1155] + 14.544915262817932 * y[1156] + 8.083387847625296 * y[1157] + 8.77653502818524 * y[1158] + 8.371069920077076 * y[1159] + 8.77653502818524 * y[1160] + 8.77653502818524 * y[1161] + 8.77653502818524 * y[1162] + 8.77653502818524 * y[1163] + 8.77653502818524 * y[1164] + 8.77653502818524 * y[1165] + 8.77653502818524 * y[1166] + 8.77653502818524 * y[1167] + 7.677922739517131 * y[1168] + 8.371069920077076 * y[1169] + 8.77653502818524 * y[1170] + 15.047544119379745 * y[1171] + 7.0717869359468155 * y[1172] + 8.77653502818524 * y[1173] + 8.77653502818524 * y[1174] + 8.371069920077076 * y[1175] + 8.371069920077076 * y[1176] + 47.16146577786651 * y[1177] + 8.371069920077076 * y[1178] + 8.77653502818524 * y[1179] + 15.047544119379745 * y[1180] + 8.083387847625296 * y[1181] + 8.083387847625296 * y[1182] + 8.77653502818524 * y[1183] + 7.860244296311086 * y[1184] + 8.77653502818524 * y[1185] + 7.0717869359468155 * y[1186] + 7.0717869359468155 * y[1187] + 8.77653502818524 * y[1188] + 8.371069920077076 * y[1189] + 8.77653502818524 * y[1190] + 15.720488592622171 * y[1191] + 8.371069920077076 * y[1192] + 8.371069920077076 * y[1193] + 8.083387847625296 * y[1194] + 8.083387847625296 * y[1195] + 8.083387847625296 * y[1196] + 8.77653502818524 * y[1197] + 12.50161276775397 * y[1198] + 8.371069920077076 * y[1199] + 8.371069920077076 * y[1200] + 8.371069920077076 * y[1201] + 8.371069920077076 * y[1202] + 17.55307005637048 * y[1203] + 8.77653502818524 * y[1204] + 8.371069920077076 * y[1205] + 12.50161276775397 * y[1206] + 15.720488592622171 * y[1207] + 7.272457631408966 * y[1208] + 7.860244296311086 * y[1209] + 14.881156891347729 * y[1210] + 7.677922739517131 * y[1211] + 8.77653502818524 * y[1212] + 8.77653502818524 * y[1213] + 8.77653502818524 * y[1214] + 8.77653502818524 * y[1215] + 8.77653502818524 * y[1216] + 10.92469804702543 * y[1217] + 7.523772059689873 * y[1218] + 7.523772059689873 * y[1219] + 8.371069920077076 * y[1220] + 8.083387847625296 * y[1221] + 8.77653502818524 * y[1222] + 8.77653502818524 * y[1223] + 8.77653502818524 * y[1224] + 8.77653502818524 * y[1225] + 8.77653502818524 * y[1226] + 8.77653502818524 * y[1227] + 6.579310450849021 * y[1228] + 8.77653502818524 * y[1229] + 8.77653502818524 * y[1230] + 7.0717869359468155 * y[1231] + 6.984775558957185 * y[1232] + 8.371069920077076 * y[1233] + 22.412937571715823 * y[1234] + 8.371069920077076 * y[1235] + 4.787550981620965 * y[1236] + 8.77653502818524 * y[1237] + 8.77653502818524 * y[1238] + 8.77653502818524 * y[1239] + 8.083387847625296 * y[1240] + 6.984775558957185 * y[1241] + 7.272457631408966 * y[1242] + 8.371069920077076 * y[1243] + 6.984775558957185 * y[1244] + 8.371069920077076 * y[1245] + 8.77653502818524 * y[1246] + 8.083387847625296 * y[1247] + 8.77653502818524 * y[1248] + 8.77653502818524 * y[1249] + 6.63646886468897 * y[1250] + 8.083387847625296 * y[1251] + 8.083387847625296 * y[1252] + 7.272457631408966 * y[1253] + 8.77653502818524 * y[1254] + 7.677922739517131 * y[1255] + 6.984775558957185 * y[1256] + 8.083387847625296 * y[1257] + 8.371069920077076 * y[1258] + 8.77653502818524 * y[1259] + 8.77653502818524 * y[1260] + 8.083387847625296 * y[1261] + 8.77653502818524 * y[1262] + 8.77653502818524 * y[1263] + 16.166775695250593 * y[1264] + 8.083387847625296 * y[1265] + 23.580732888933255 * y[1266] + 8.77653502818524 * y[1267] + 8.371069920077076 * y[1268] + 7.272457631408966 * y[1269] + 8.371069920077076 * y[1270] + 8.77653502818524 * y[1271] + 8.371069920077076 * y[1272] + 8.083387847625296 * y[1273] + 8.083387847625296 * y[1274] + 8.371069920077076 * y[1275] + 8.083387847625296 * y[1276] + 8.77653502818524 * y[1277] + 8.371069920077076 * y[1278] + 8.371069920077076 * y[1279] + 8.083387847625296 * y[1280] + 8.77653502818524 * y[1281] + 8.083387847625296 * y[1282] + 8.77653502818524 * y[1283] + 8.371069920077076 * y[1284] + 8.77653502818524 * y[1285] + 8.77653502818524 * y[1286] + 8.083387847625296 * y[1287] + 8.77653502818524 * y[1288] + 4.586880286158815 * y[1289] + 8.77653502818524 * y[1290] + 8.77653502818524 * y[1291] + 8.77653502818524 * y[1292] + 6.63646886468897 * y[1293] + 7.39024066706535 * y[1294] + 8.083387847625296 * y[1295] + 8.77653502818524 * y[1296] + 8.371069920077076 * y[1297] + 8.77653502818524 * y[1298] + 8.77653502818524 * y[1299] + 7.523772059689873 * y[1300] + 7.16709711575114 * y[1301] + 7.860244296311086 * y[1302] + 8.371069920077076 * y[1303] + 8.77653502818524 * y[1304] + 8.77653502818524 * y[1305] + 7.39024066706535 * y[1306] + 7.860244296311086 * y[1307] + 3.403574118641438 * y[1308] + 7.677922739517131 * y[1309] + 7.677922739517131 * y[1310] + 8.77653502818524 * y[1311] + 7.677922739517131 * y[1312] + 8.371069920077076 * y[1313] + 8.371069920077076 * y[1314] + 8.77653502818524 * y[1315] + 8.083387847625296 * y[1316] + 8.77653502818524 * y[1317] + 4.260196055903765 * y[1318] + 8.77653502818524 * y[1319] + 8.371069920077076 * y[1320] + 8.371069920077076 * y[1321] + 7.860244296311086 * y[1322] + 7.860244296311086 * y[1323] + 8.77653502818524 * y[1324] + 7.523772059689873 * y[1325] + 8.77653502818524 * y[1326] + 7.16709711575114 * y[1327] + 8.77653502818524 * y[1328] + 8.77653502818524 * y[1329] + 8.77653502818524 * y[1330] + 8.77653502818524 * y[1331] + 8.77653502818524 * y[1332] + 8.371069920077076 * y[1333] + 8.77653502818524 * y[1334] + 7.860244296311086 * y[1335] + 7.39024066706535 * y[1336] + 7.523772059689873 * y[1337] + 7.39024066706535 * y[1338] + 7.39024066706535 * y[1339] + 7.16709711575114 * y[1340] + 8.77653502818524 * y[1341] + 7.676940853847641 * y[1342] + 8.77653502818524 * y[1343] + 8.083387847625296 * y[1344] + 8.083387847625296 * y[1345] + 7.677922739517131 * y[1346] + 8.371069920077076 * y[1347] + 8.371069920077076 * y[1348] + 8.371069920077076 * y[1349] + 8.083387847625296 * y[1350] + 8.371069920077076 * y[1351] + 8.371069920077076 * y[1352] + 8.77653502818524 * y[1353] + 8.77653502818524 * y[1354] + 8.371069920077076 * y[1355] + 7.523772059689873 * y[1356] + 8.77653502818524 * y[1357] + 8.77653502818524 * y[1358] + 8.77653502818524 * y[1359] + 7.16709711575114 * y[1360] + 8.77653502818524 * y[1361] + 8.77653502818524 * y[1362] + 8.371069920077076 * y[1363] + 8.77653502818524 * y[1364] + 8.77653502818524 * y[1365] + 8.77653502818524 * y[1366] + 8.77653502818524 * y[1367] + 7.677922739517131 * y[1368] + 8.77653502818524 * y[1369] + 8.77653502818524 * y[1370] + 8.77653502818524 * y[1371] + 8.77653502818524 * y[1372] + 13.760640858476444 * y[1373] + 5.015334912491678 * y[1374] + 17.55307005637048 * y[1375] + 6.579310450849021 * y[1376] + 6.525243229578745 * y[1377] + 8.77653502818524 * y[1378] + 7.272457631408966 * y[1379] + 8.77653502818524 * y[1380] + 8.77653502818524 * y[1381] + 8.083387847625296 * y[1382] + 8.083387847625296 * y[1383] + 7.16709711575114 * y[1384] + 7.16709711575114 * y[1385] + 7.523772059689873 * y[1386] + 8.77653502818524 * y[1387] + 8.77653502818524 * y[1388] + 8.371069920077076 * y[1389] + 8.371069920077076 * y[1390] + 7.16709711575114 * y[1391] + 8.77653502818524 * y[1392] + 7.0717869359468155 * y[1393] + 7.860244296311086 * y[1394] + 7.860244296311086 * y[1395] + 8.77653502818524 * y[1396] + 7.677922739517131 * y[1397] + 8.77653502818524 * y[1398] + 8.77653502818524 * y[1399] + 8.77653502818524 * y[1400] + 8.77653502818524 * y[1401] + 7.272457631408966 * y[1402] + 8.77653502818524 * y[1403] + 17.55307005637048 * y[1404] + 8.77653502818524 * y[1405] + 7.860244296311086 * y[1406] + 8.77653502818524 * y[1407] + 8.371069920077076 * y[1408] + 5.663019718974866 * y[1409] + 8.77653502818524 * y[1410] + 15.047544119379745 * y[1411] + 8.77653502818524 * y[1412] + 4.141806039955604 * y[1413] + 7.523772059689873 * y[1414] + 8.77653502818524 * y[1415] + 8.77653502818524 * y[1416] + 8.77653502818524 * y[1417] + 8.77653502818524 * y[1418] + 7.860244296311086 * y[1419] + 7.860244296311086 * y[1420] + 7.860244296311086 * y[1421] + 7.860244296311086 * y[1422] + 7.860244296311086 * y[1423] + 8.77653502818524 * y[1424] + 8.77653502818524 * y[1425] + 7.0717869359468155 * y[1426] + 8.77653502818524 * y[1427] + 8.77653502818524 * y[1428] + 8.77653502818524 * y[1429] + 8.77653502818524 * y[1430] + 8.77653502818524 * y[1431] + 8.77653502818524 * y[1432] + 13.05048645915749 * y[1433] + 8.77653502818524 * y[1434] + 26.32960508455572 * y[1435] + 8.77653502818524 * y[1436] + 8.371069920077076 * y[1437] + 8.77653502818524 * y[1438] + 8.77653502818524 * y[1439] + 8.77653502818524 * y[1440] + 7.860244296311086 * y[1441] + 8.371069920077076 * y[1442] + 17.55307005637048 * y[1443] + 8.77653502818524 * y[1444] + 7.39024066706535 * y[1445] + 8.371069920077076 * y[1446] + 8.371069920077076 * y[1447] + 8.371069920077076 * y[1448] + 8.77653502818524 * y[1449] + 8.77653502818524 * y[1450] + 8.77653502818524 * y[1451] + 8.77653502818524 * y[1452] + 8.371069920077076 * y[1453] + 8.77653502818524 * y[1454] + 8.371069920077076 * y[1455] + 6.984775558957185 * y[1456] + 8.77653502818524 * y[1457] + 8.77653502818524 * y[1458] + 7.39024066706535 * y[1459] + 6.830624879129927 * y[1460] + 8.083387847625296 * y[1461] + 8.77653502818524 * y[1462] + 7.523772059689873 * y[1463] + 8.77653502818524 * y[1464] + 8.77653502818524 * y[1465] + 8.77653502818524 * y[1466] + 8.77653502818524 * y[1467] + 8.77653502818524 * y[1468] + 8.371069920077076 * y[1469] + 8.371069920077076 * y[1470] + 8.77653502818524 * y[1471] + 8.77653502818524 * y[1472] + 8.77653502818524 * y[1473] + 8.77653502818524 * y[1474] + 24.25016354287589 * y[1475] + 8.77653502818524 * y[1476] + 8.77653502818524 * y[1477] + 8.77653502818524 * y[1478] + 8.77653502818524 * y[1479] + 8.77653502818524 * y[1480] + 8.77653502818524 * y[1481] + 8.77653502818524 * y[1482] + 8.77653502818524 * y[1483] + 15.720488592622171 * y[1484] + 8.371069920077076 * y[1485] + 8.77653502818524 * y[1486] + 8.77653502818524 * y[1487] + 8.77653502818524 * y[1488] + 6.904732851283649 * y[1489] + 8.77653502818524 * y[1490] + 8.77653502818524 * y[1491] + 8.77653502818524 * y[1492] + 8.77653502818524 * y[1493] + 8.77653502818524 * y[1494] + 8.77653502818524 * y[1495] + 8.371069920077076 * y[1496] + 8.77653502818524 * y[1497] + 8.77653502818524 * y[1498] + 8.77653502818524 * y[1499] + 8.77653502818524 * y[1500] + 8.77653502818524 * y[1501] + 6.579310450849021 * y[1502] + 8.083387847625296 * y[1503] + 8.371069920077076 * y[1504] + 7.860244296311086 * y[1505] + 7.39024066706535 * y[1506] + 7.860244296311086 * y[1507] + 8.77653502818524 * y[1508] + 7.860244296311086 * y[1509] + 17.55307005637048 * y[1510] + 8.77653502818524 * y[1511] + 8.77653502818524 * y[1512] + 8.77653502818524 * y[1513] + 15.355845479034262 * y[1514] + 6.697093486505405 * y[1515] + 4.217408780698555 * y[1516] + 8.083387847625296 * y[1517] + 8.083387847625296 * y[1518] + 8.77653502818524 * y[1519] + 8.77653502818524 * y[1520] + 22.17072200119605 * y[1521] + 5.806120562615539 * y[1522] + 8.77653502818524 * y[1523] + 7.860244296311086 * y[1524] + 8.083387847625296 * y[1525] + 8.77653502818524 * y[1526] + 8.77653502818524 * y[1527] + 8.77653502818524 * y[1528] + 8.77653502818524 * y[1529] + 8.371069920077076 * y[1530] + 7.272457631408966 * y[1531] + 8.77653502818524 * y[1532] + 8.77653502818524 * y[1533] + 8.77653502818524 * y[1534] + 8.77653502818524 * y[1535] + 6.473949935191195 * y[1536] + 8.083387847625296 * y[1537] + 21.215360807840447 * y[1538] + 8.77653502818524 * y[1539] + 7.16709711575114 * y[1540] + 7.39024066706535 * y[1541] + 6.904732851283649 * y[1542] + 8.77653502818524 * y[1543] + 7.860244296311086 * y[1544] + 7.677922739517131 * y[1545] + 8.77653502818524 * y[1546] + 8.77653502818524 * y[1547] + 8.77653502818524 * y[1548] + 17.55307005637048 * y[1549] + 8.371069920077076 * y[1550] + 8.77653502818524 * y[1551] + 8.77653502818524 * y[1552] + 9.28273694288577 * y[1553] + 8.77653502818524 * y[1554] + 6.984775558957185 * y[1555] + 7.860244296311086 * y[1556] + 6.250806383876985 * y[1557] + 8.77653502818524 * y[1558] + 8.77653502818524 * y[1559] + 8.083387847625296 * y[1560] + 8.083387847625296 * y[1561] + 8.77653502818524 * y[1562] + 8.77653502818524 * y[1563] + 8.77653502818524 * y[1564] + 16.742139840154152 * y[1565] + 8.77653502818524 * y[1566] + 8.77653502818524 * y[1567] + 8.371069920077076 * y[1568] + 8.77653502818524 * y[1569] + 8.77653502818524 * y[1570] + 8.77653502818524 * y[1571] + 8.77653502818524 * y[1572] + 8.371069920077076 * y[1573] + 8.371069920077076 * y[1574] + 16.166775695250593 * y[1575] + 8.77653502818524 * y[1576] + 8.77653502818524 * y[1577] + 8.77653502818524 * y[1578] + 8.77653502818524 * y[1579] + 8.371069920077076 * y[1580] + 8.77653502818524 * y[1581] + 8.77653502818524 * y[1582] + 8.371069920077076 * y[1583] + 8.77653502818524 * y[1584] + 11.88664336825805 * y[1585] + 8.77653502818524 * y[1586] + 15.720488592622171 * y[1587] + 8.77653502818524 * y[1588] + 8.77653502818524 * y[1589] + 8.77653502818524 * y[1590] + 8.77653502818524 * y[1591] + 8.77653502818524 * y[1592] + 8.77653502818524 * y[1593] + 8.77653502818524 * y[1594] + 8.77653502818524 * y[1595] + 8.77653502818524 * y[1596] + 8.77653502818524 * y[1597] + 8.77653502818524 * y[1598] + 8.77653502818524 * y[1599] + 8.77653502818524 * y[1600] + 8.371069920077076 * y[1601] + 8.77653502818524 * y[1602] + 8.77653502818524 * y[1603] + 17.55307005637048 * y[1604] + 7.16709711575114 * y[1605] + 6.250806383876985 * y[1606] + 8.77653502818524 * y[1607] + 8.77653502818524 * y[1608] + 8.77653502818524 * y[1609] + 8.77653502818524 * y[1610] + 8.083387847625296 * y[1611] + 8.083387847625296 * y[1612] + 8.083387847625296 * y[1613] + 8.083387847625296 * y[1614] + 8.083387847625296 * y[1615] + 8.371069920077076 * y[1616] + 8.77653502818524 * y[1617] + 8.77653502818524 * y[1618] + 7.523772059689873 * y[1619] + 8.083387847625296 * y[1620] + 8.77653502818524 * y[1621] + 7.860244296311086 * y[1622] + 8.77653502818524 * y[1623] + 8.77653502818524 * y[1624] + 8.77653502818524 * y[1625] + 8.77653502818524 * y[1626] + 8.77653502818524 * y[1627] + 8.371069920077076 * y[1628] + 8.77653502818524 * y[1629] + 8.77653502818524 * y[1630] + 8.77653502818524 * y[1631] + 8.77653502818524 * y[1632] + 8.77653502818524 * y[1633] + 7.16709711575114 * y[1634] + 8.77653502818524 * y[1635] + 8.77653502818524 * y[1636] + 8.371069920077076 * y[1637] + 8.77653502818524 * y[1638] + 11.11531840663408 * y[1639] + 7.677922739517131 * y[1640] + 6.63646886468897 * y[1641] + 6.63646886468897 * y[1642] + 8.371069920077076 * y[1643] + 8.77653502818524 * y[1644] + 8.371069920077076 * y[1645] + 8.77653502818524 * y[1646] + 8.77653502818524 * y[1647] + 8.77653502818524 * y[1648] + 8.371069920077076 * y[1649] + 8.77653502818524 * y[1650] + 8.77653502818524 * y[1651] + 10.41400466340774 * y[1652] + 8.77653502818524 * y[1653] + 8.371069920077076 * y[1654] + 8.77653502818524 * y[1655] + 8.77653502818524 * y[1656] + 11.282081624512182 * y[1657] + 7.860244296311086 * y[1658] + 8.77653502818524 * y[1659] + 8.77653502818524 * y[1660] + 12.274955397139964 * y[1661] + 8.083387847625296 * y[1662] + 8.77653502818524 * y[1663] + 16.742139840154152 * y[1664] + 8.77653502818524 * y[1665] + 8.77653502818524 * y[1666] + 8.77653502818524 * y[1667] + 8.371069920077076 * y[1668] + 8.77653502818524 * y[1669] + 8.77653502818524 * y[1670] + 5.685492574826925 * y[1671] + 8.77653502818524 * y[1672] + 6.761632007642976 * y[1673] + 8.77653502818524 * y[1674] + 8.77653502818524 * y[1675] + 8.083387847625296 * y[1676] + 8.083387847625296 * y[1677] + 8.77653502818524 * y[1678] + 8.77653502818524 * y[1679] + 8.77653502818524 * y[1680] + 8.77653502818524 * y[1681] + 8.77653502818524 * y[1682] + 8.77653502818524 * y[1683] + 8.77653502818524 * y[1684] + 8.371069920077076 * y[1685] + 8.371069920077076 * y[1686] + 8.77653502818524 * y[1687] + 7.735126775730969 * y[1688] + 5.480698162180912 * y[1689] + 8.083387847625296 * y[1690] + 8.083387847625296 * y[1691] + 8.77653502818524 * y[1692] + 8.77653502818524 * y[1693] + 6.137477698569982 * y[1694] + 8.77653502818524 * y[1695] + 8.77653502818524 * y[1696] + 6.697093486505405 * y[1697] + 7.272457631408966 * y[1698] + 8.77653502818524 * y[1699] + 8.77653502818524 * y[1700] + 7.272457631408966 * y[1701] + 8.77653502818524 * y[1702] + 6.984775558957185 * y[1703] + 8.77653502818524 * y[1704] + 17.55307005637048 * y[1705] + 8.77653502818524 * y[1706] + 8.77653502818524 * y[1707] + 8.77653502818524 * y[1708] + 8.083387847625296 * y[1709] + 8.371069920077076 * y[1710] + 8.371069920077076 * y[1711] + 8.371069920077076 * y[1712] + 8.371069920077076 * y[1713] + 8.371069920077076 * y[1714] + 8.371069920077076 * y[1715] + 8.77653502818524 * y[1716] + 8.77653502818524 * y[1717] + 8.77653502818524 * y[1718] + 8.77653502818524 * y[1719] + 7.272457631408966 * y[1720] + 8.77653502818524 * y[1721] + 8.77653502818524 * y[1722] + 8.77653502818524 * y[1723] + 8.77653502818524 * y[1724] + 8.77653502818524 * y[1725] + 8.083387847625296 * y[1726] + 8.77653502818524 * y[1727] + 5.886163270289075 * y[1728] + 6.29162837839724 * y[1729] + 8.77653502818524 * y[1730] + 8.77653502818524 * y[1731] + 8.77653502818524 * y[1732] + 8.77653502818524 * y[1733] + 8.77653502818524 * y[1734] + 8.77653502818524 * y[1735] + 8.77653502818524 * y[1736] + 8.77653502818524 * y[1737] + 8.77653502818524 * y[1738] + 8.77653502818524 * y[1739] + 7.860244296311086 * y[1740] + 8.77653502818524 * y[1741] + 8.77653502818524 * y[1742] + 8.371069920077076 * y[1743] + 8.371069920077076 * y[1744] + 8.371069920077076 * y[1745] + 8.77653502818524 * y[1746] + 8.77653502818524 * y[1747] + 8.77653502818524 * y[1748] + 8.77653502818524 * y[1749] + 8.77653502818524 * y[1750] + 8.77653502818524 * y[1751] + 8.77653502818524 * y[1752] + 8.77653502818524 * y[1753] + 8.77653502818524 * y[1754] + 8.083387847625296 * y[1755] + 8.77653502818524 * y[1756] + 8.77653502818524 * y[1757] + 16.742139840154152 * y[1758] + 8.371069920077076 * y[1759] + 9.48458878006569 * y[1760] + 7.677922739517131 * y[1761] + 8.77653502818524 * y[1762] + 8.77653502818524 * y[1763] + 8.371069920077076 * y[1764] + 8.77653502818524 * y[1765] + 8.77653502818524 * y[1766] + 8.77653502818524 * y[1767] + 8.77653502818524 * y[1768] + 8.371069920077076 * y[1769] + 8.77653502818524 * y[1770] + 8.371069920077076 * y[1771] + 8.77653502818524 * y[1772] + 8.77653502818524 * y[1773] + 8.77653502818524 * y[1774] + 8.77653502818524 * y[1775] + 8.77653502818524 * y[1776] + 8.77653502818524 * y[1777] + 8.77653502818524 * y[1778] + 8.77653502818524 * y[1779] + 8.77653502818524 * y[1780] + 8.77653502818524 * y[1781] + 8.77653502818524 * y[1782] + 5.641040812256091 * y[1783] + 17.55307005637048 * y[1784] + 7.677922739517131 * y[1785] + 8.77653502818524 * y[1786] + 8.77653502818524 * y[1787] + 8.77653502818524 * y[1788] + 8.77653502818524 * y[1789] + 17.55307005637048 * y[1790] + 8.77653502818524 * y[1791] + 8.083387847625296 * y[1792] + 6.250806383876985 * y[1793] + 8.77653502818524 * y[1794] + 8.083387847625296 * y[1795] + 8.77653502818524 * y[1796] + 8.77653502818524 * y[1797] + 20.954326676871556 * y[1798] + 6.211585670723704 * y[1799] + 8.77653502818524 * y[1800] + 8.77653502818524 * y[1801] + 8.77653502818524 * y[1802] + 8.77653502818524 * y[1803] + 8.77653502818524 * y[1804] + 8.083387847625296 * y[1805] + 8.77653502818524 * y[1806] + 8.77653502818524 * y[1807] + 6.63646886468897 * y[1808] + 7.39024066706535 * y[1809] + 16.166775695250593 * y[1810] + 8.77653502818524 * y[1811] + 8.77653502818524 * y[1812] + 8.77653502818524 * y[1813] + 8.083387847625296 * y[1814] + 7.39024066706535 * y[1815] + 8.77653502818524 * y[1816] + 8.371069920077076 * y[1817] + 8.77653502818524 * y[1818] + 8.371069920077076 * y[1819] + 8.77653502818524 * y[1820] + 8.77653502818524 * y[1821] + 8.77653502818524 * y[1822] + 8.77653502818524 * y[1823] + 14.33419423150228 * y[1824] + 8.77653502818524 * y[1825] + 8.77653502818524 * y[1826] + 8.77653502818524 * y[1827] + 8.77653502818524 * y[1828] + 8.77653502818524 * y[1829] + 8.77653502818524 * y[1830] + 8.77653502818524 * y[1831] + 8.77653502818524 * y[1832] + 8.77653502818524 * y[1833] + 8.77653502818524 * y[1834] + 8.083387847625296 * y[1835] + 8.77653502818524 * y[1836] + 8.371069920077076 * y[1837] + 8.77653502818524 * y[1838] + 15.537668302790383 * y[1839] + 8.77653502818524 * y[1840] + 6.525243229578745 * y[1841] + 8.77653502818524 * y[1842] + 8.77653502818524 * y[1843] + 6.904732851283649 * y[1844] + 8.77653502818524 * y[1845] + 8.371069920077076 * y[1846] + 8.371069920077076 * y[1847] + 8.77653502818524 * y[1848] + 8.77653502818524 * y[1849] + 16.742139840154152 * y[1850] + 8.371069920077076 * y[1851] + 8.083387847625296 * y[1852] + 8.77653502818524 * y[1853] + 8.371069920077076 * y[1854] + 8.77653502818524 * y[1855] + 8.77653502818524 * y[1856] + 8.77653502818524 * y[1857] + 8.77653502818524 * y[1858] + 8.77653502818524 * y[1859] + 8.77653502818524 * y[1860] + 8.77653502818524 * y[1861] + 8.77653502818524 * y[1862] + 8.77653502818524 * y[1863] + 8.77653502818524 * y[1864] + 8.77653502818524 * y[1865] + 8.77653502818524 * y[1866] + 8.77653502818524 * y[1867] + 8.77653502818524 * y[1868] + 8.77653502818524 * y[1869] + 8.77653502818524 * y[1870] + 8.77653502818524 * y[1871] + 7.860244296311086 * y[1872] + 8.77653502818524 * y[1873] + 8.77653502818524 * y[1874] + 8.77653502818524 * y[1875] + 8.77653502818524 * y[1876] + 8.083387847625296 * y[1877] + 8.083387847625296 * y[1878] + 5.598481197837295 * y[1879] + 8.083387847625296 * y[1880] + 8.083387847625296 * y[1881] + 7.272457631408966 * y[1882] + 7.677922739517131 * y[1883] + 17.55307005637048 * y[1884] + 8.371069920077076 * y[1885]"
      ]
     },
     "execution_count": 92,
     "metadata": {},
     "output_type": "execute_result"
    }
   ],
   "source": [
    "maximize(sum(x) + sum([tfidf_dict[content_vocab[j]]*y[j] for j in range(len(y))]))"
   ]
  },
  {
   "cell_type": "code",
   "execution_count": 93,
   "metadata": {
    "collapsed": true
   },
   "outputs": [
    {
     "data": {
      "text/plain": [
       "R1: x[0] * 24 + x[1] * 32 + x[2] * 26 + x[3] * 41 + x[4] * 39 + x[5] * 43 + x[6] * 26 + x[7] * 41 + x[8] * 39 + x[9] * 14 + x[10] * 20 + x[11] * 41 + x[12] * 41 + x[13] * 28 + x[14] * 41 + x[15] * 31 + x[16] * 14 + x[17] * 20 + x[18] * 25 + x[19] * 41 + x[20] * 41 + x[21] * 41 + x[22] * 24 + x[23] * 35 + x[24] * 31 + x[25] * 29 + x[26] * 24 + x[27] * 25 + x[28] * 41 + x[29] * 10 + x[30] * 24 + x[31] * 26 + x[32] * 41 + x[33] * 35 + x[34] * 12 + x[35] * 14 + x[36] * 41 + x[37] * 23 + x[38] * 41 + x[39] * 22 + x[40] * 41 + x[41] * 8 + x[42] * 41 + x[43] * 12 + x[44] * 41 + x[45] * 41 + x[46] * 15 + x[47] * 4 + x[48] * 26 + x[49] * 23 + x[50] * 41 + x[51] * 41 + x[52] * 25 + x[53] * 41 + x[54] * 27 + x[55] * 35 + x[56] * 41 + x[57] * 26 + x[58] * 6 + x[59] * 24 + x[60] * 41 + x[61] * 22 + x[62] * 41 + x[63] * 23 + x[64] * 41 + x[65] * 25 + x[66] * 29 + x[67] * 41 + x[68] * 41 + x[69] * 29 + x[70] * 41 + x[71] * 5 + x[72] * 30 + x[73] * 41 + x[74] * 41 + x[75] * 26 + x[76] * 24 + x[77] * 41 + x[78] * 26 + x[79] * 15 + x[80] * 4 + x[81] * 41 + x[82] * 35 + x[83] * 41 + x[84] * 23 + x[85] * 6 + x[86] * 24 + x[87] * 24 + x[88] * 41 + x[89] * 41 + x[90] * 15 + x[91] * 15 + x[92] * 35 + x[93] * 7 + x[94] * 27 + x[95] * 25 + x[96] * 20 + x[97] * 29 + x[98] * 29 + x[99] * 18 + x[100] * 41 + x[101] * 41 + x[102] * 17 + x[103] * 31 + x[104] * 26 + x[105] * 29 + x[106] * 34 + x[107] * 13 + x[108] * 15 + x[109] * 18 + x[110] * 24 + x[111] * 11 + x[112] * 12 + x[113] * 39 + x[114] * 11 + x[115] * 8 + x[116] * 3 + x[117] * 28 + x[118] * 21 + x[119] * 27 + x[120] * 41 + x[121] * 9 + x[122] * 41 + x[123] * 25 + x[124] * 41 + x[125] * 8 + x[126] * 39 + x[127] * 41 + x[128] * 41 + x[129] * 30 + x[130] * 18 + x[131] * 9 + x[132] * 24 + x[133] * 6 + x[134] * 13 + x[135] * 41 + x[136] * 39 + x[137] * 10 + x[138] * 17 + x[139] * 41 + x[140] * 41 + x[141] * 27 + x[142] * 10 + x[143] * 41 + x[144] * 41 + x[145] * 12 + x[146] * 8 + x[147] * 26 + x[148] * 27 + x[149] * 43 + x[150] * 5 + x[151] * 35 + x[152] * 35 + x[153] * 41 + x[154] * 41 + x[155] * 25 + x[156] * 4 + x[157] * 41 + x[158] * 27 + x[159] * 41 + x[160] * 41 + x[161] * 25 + x[162] * 41 + x[163] * 17 + x[164] * 27 + x[165] * 6 + x[166] * 7 + x[167] * 21 + x[168] * 11 + x[169] * 24 + x[170] * 16 + x[171] * 41 + x[172] * 17 + x[173] * 24 + x[174] * 16 + x[175] * 23 + x[176] * 39 + x[177] * 24 + x[178] * 8 + x[179] * 34 + x[180] * 41 + x[181] * 31 + x[182] * 17 + x[183] * 35 + x[184] * 41 + x[185] * 22 + x[186] * 35 + x[187] * 41 + x[188] * 7 + x[189] * 23 + x[190] * 39 + x[191] * 35 + x[192] * 6 + x[193] * 25 + x[194] * 7 + x[195] * 41 + x[196] * 19 + x[197] * 10 + x[198] * 25 + x[199] * 22 + x[200] * 27 + x[201] * 22 + x[202] * 24 + x[203] * 41 + x[204] * 41 + x[205] * 43 + x[206] * 32 + x[207] * 17 + x[208] * 23 + x[209] * 41 + x[210] * 41 + x[211] * 41 + x[212] * 41 + x[213] * 41 + x[214] * 24 + x[215] * 41 + x[216] * 43 + x[217] * 24 + x[218] * 41 + x[219] * 23 + x[220] * 22 + x[221] * 21 + x[222] * 32 + x[223] * 24 + x[224] * 35 + x[225] * 22 + x[226] * 23 + x[227] * 39 + x[228] * 23 + x[229] * 18 + x[230] * 28 + x[231] * 11 + x[232] * 41 + x[233] * 24 + x[234] * 39 + x[235] * 23 + x[236] * 17 + x[237] * 31 + x[238] * 19 + x[239] * 46 + x[240] * 22 + x[241] * 23 + x[242] * 22 + x[243] * 13 + x[244] * 41 + x[245] * 41 + x[246] * 16 + x[247] * 29 + x[248] * 5 + x[249] * 2 + x[250] * 24 + x[251] * 35 + x[252] * 18 + x[253] * 35 + x[254] * 28 + x[255] * 35 + x[256] * 24 + x[257] * 35 + x[258] * 41 + x[259] * 24 + x[260] * 35 + x[261] * 41 + x[262] * 32 + x[263] * 32 + x[264] * 26 + x[265] * 30 + x[266] * 13 + x[267] * 41 + x[268] * 28 + x[269] * 25 + x[270] * 28 + x[271] * 30 + x[272] * 43 + x[273] * 35 + x[274] * 41 + x[275] * 41 + x[276] * 23 + x[277] * 11 + x[278] * 6 + x[279] * 34 + x[280] * 25 + x[281] * 22 + x[282] * 12 + x[283] * 23 + x[284] * 19 + x[285] * 41 + x[286] * 41 + x[287] * 8 + x[288] * 26 + x[289] * 23 + x[290] * 9 + x[291] * 23 + x[292] * 27 + x[293] * 41 + x[294] * 20 + x[295] * 26 + x[296] * 25 + x[297] * 5 + x[298] * 19 + x[299] * 8 + x[300] * 29 + x[301] * 46 + x[302] * 24 + x[303] * 10 + x[304] * 19 + x[305] * 41 + x[306] * 25 + x[307] * 41 + x[308] * 17 + x[309] * 46 + x[310] * 27 + x[311] * 41 + x[312] * 14 + x[313] * 17 + x[314] * 11 + x[315] * 26 + x[316] * 24 + x[317] * 41 + x[318] * 24 + x[319] * 32 + x[320] * 12 + x[321] * 41 + x[322] * 35 + x[323] * 41 + x[324] * 32 + x[325] * 41 + x[326] * 26 + x[327] * 30 + x[328] * 24 + x[329] * 27 + x[330] * 9 + x[331] * 7 + x[332] * 41 + x[333] * 21 + x[334] * 22 + x[335] * 35 + x[336] * 41 + x[337] * 21 + x[338] * 21 + x[339] * 21 + x[340] * 21 + x[341] * 12 + x[342] * 41 + x[343] * 15 + x[344] * 14 + x[345] * 13 + x[346] * 43 + x[347] * 41 + x[348] * 35 + x[349] * 22 + x[350] * 13 + x[351] * 13 + x[352] * 30 + x[353] * 41 + x[354] * 39 + x[355] * 41 + x[356] * 23 + x[357] * 17 + x[358] * 22 + x[359] * 41 + x[360] * 33 + x[361] * 30 + x[362] * 24 + x[363] * 24 + x[364] * 2 + x[365] * 14 + x[366] * 24 + x[367] * 39 + x[368] * 35 + x[369] * 41 + x[370] * 8 + x[371] * 41 + x[372] * 29 + x[373] * 23 + x[374] * 29 + x[375] * 43 + x[376] * 41 + x[377] * 24 + x[378] * 20 + x[379] * 41 + x[380] * 35 + x[381] * 43 + x[382] * 29 + x[383] * 10 + x[384] * 28 + x[385] * 6 + x[386] * 26 + x[387] * 41 + x[388] * 15 + x[389] * 26 + x[390] * 35 + x[391] * 26 + x[392] * 24 + x[393] * 41 + x[394] * 13 + x[395] * 13 + x[396] * 35 + x[397] * 6 + x[398] * 41 + x[399] * 32 + x[400] * 16 + x[401] * 41 + x[402] * 30 + x[403] * 12 + x[404] * 8 + x[405] * 5 + x[406] * 17 + x[407] * 41 + x[408] * 25 + x[409] * 29 + x[410] * 14 + x[411] * 41 + x[412] * 14 + x[413] * 28 + x[414] * 14 + x[415] * 22 + x[416] * 23 + x[417] * 39 + x[418] * 15 + x[419] * 26 + x[420] * 41 + x[421] * 12 + x[422] * 41 + x[423] * 8 + x[424] * 43 + x[425] * 21 + x[426] * 20 + x[427] * 35 + x[428] * 41 + x[429] * 25 + x[430] * 41 + x[431] * 20 + x[432] * 7 + x[433] * 23 + x[434] * 2 + x[435] * 27 + x[436] * 43 + x[437] * 19 + x[438] * 41 + x[439] * 41 + x[440] * 20 + x[441] * 29 + x[442] * 35 + x[443] * 18 + x[444] * 24 + x[445] * 20 + x[446] * 21 + x[447] * 21 + x[448] * 21 + x[449] * 20 + x[450] * 26 + x[451] * 26 + x[452] * 21 + x[453] * 12 + x[454] * 20 + x[455] * 35 + x[456] * 41 + x[457] * 32 + x[458] * 26 + x[459] * 41 + x[460] * 41 + x[461] * 27 + x[462] * 23 + x[463] * 8 + x[464] * 19 + x[465] * 35 + x[466] * 39 + x[467] * 41 + x[468] * 28 + x[469] * 28 + x[470] * 41 + x[471] * 30 + x[472] * 35 + x[473] * 29 + x[474] * 13 + x[475] * 23 + x[476] * 35 + x[477] * 41 + x[478] * 35 + x[479] * 39 + x[480] * 11 + x[481] * 41 + x[482] * 27 + x[483] * 16 + x[484] * 27 + x[485] * 29 + x[486] * 14 + x[487] * 41 + x[488] * 21 + x[489] * 13 + x[490] * 20 + x[491] * 22 + x[492] * 12 + x[493] * 29 + x[494] * 29 + x[495] * 20 + x[496] * 29 + x[497] * 32 + x[498] * 25 + x[499] * 20 + x[500] * 29 + x[501] * 41 + x[502] * 41 + x[503] * 21 + x[504] * 22 + x[505] * 25 + x[506] * 16 + x[507] * 17 + x[508] * 24 + x[509] * 22 + x[510] * 21 + x[511] * 21 + x[512] * 18 + x[513] * 21 + x[514] * 16 + x[515] * 29 + x[516] * 41 + x[517] * 34 + x[518] * 22 + x[519] * 19 + x[520] * 20 + x[521] * 23 + x[522] * 22 + x[523] * 12 + x[524] * 18 + x[525] * 17 + x[526] * 32 + x[527] * 14 + x[528] * 28 + x[529] * 16 + x[530] * 21 + x[531] * 25 + x[532] * 23 + x[533] * 22 + x[534] * 41 + x[535] * 8 + x[536] * 17 + x[537] * 17 + x[538] * 41 + x[539] * 26 + x[540] * 16 + x[541] * 25 + x[542] * 17 + x[543] * 17 + x[544] * 24 + x[545] * 35 + x[546] * 38 + x[547] * 39 + x[548] * 29 + x[549] * 26 + x[550] * 41 + x[551] * 25 + x[552] * 17 + x[553] * 3 + x[554] * 13 + x[555] * 25 + x[556] * 22 + x[557] * 21 + x[558] * 13 + x[559] * 13 + x[560] * 13 + x[561] * 12 + x[562] * 33 + x[563] * 41 + x[564] * 27 + x[565] * 3 + x[566] * 25 + x[567] * 14 + x[568] * 23 + x[569] * 41 + x[570] * 29 + x[571] * 14 + x[572] * 41 + x[573] * 23 + x[574] * 35 + x[575] * 16 + x[576] * 31 + x[577] * 22 + x[578] * 25 + x[579] * 26 + x[580] * 26 + x[581] * 41 + x[582] * 26 + x[583] * 26 + x[584] * 22 + x[585] * 35 + x[586] * 24 + x[587] * 26 + x[588] * 26 + x[589] * 17 + x[590] * 24 + x[591] * 18 + x[592] * 21 + x[593] * 23 + x[594] * 7 + x[595] * 23 + x[596] * 16 + x[597] * 16 + x[598] * 6 + x[599] * 26 + x[600] * 6 + x[601] * 26 + x[602] * 26 + x[603] * 17 + x[604] * 23 + x[605] * 26 + x[606] * 41 + x[607] * 17 + x[608] * 30 + x[609] * 7 + x[610] * 18 + x[611] * 41 + x[612] * 25 + x[613] * 29 + x[614] * 28 + x[615] * 41 + x[616] * 14 + x[617] * 26 + x[618] * 41 + x[619] * 6 + x[620] * 7 + x[621] * 24 + x[622] * 41 + x[623] * 39 + x[624] * 29 + x[625] * 29 + x[626] * 26 + x[627] * 26 + x[628] * 29 + x[629] * 24 + x[630] * 24 + x[631] * 26 + x[632] * 35 + x[633] * 21 + x[634] * 18 + x[635] * 24 + x[636] * 16 + x[637] * 24 + x[638] * 27 + x[639] * 29 + x[640] * 27 + x[641] * 2 + x[642] * 35 + x[643] * 19 + x[644] * 41 + x[645] * 41 + x[646] * 13 + x[647] * 17 + x[648] * 41 + x[649] * 21 + x[650] * 26 + x[651] * 26 + x[652] * 12 + x[653] * 13 + x[654] * 17 + x[655] * 41 + x[656] * 26 + x[657] * 24 + x[658] * 35 + x[659] * 13 + x[660] * 35 + x[661] * 22 + x[662] * 23 + x[663] * 22 + x[664] * 29 + x[665] * 24 + x[666] * 25 + x[667] * 20 + x[668] * 31 + x[669] * 20 + x[670] * 26 + x[671] * 33 + x[672] * 29 + x[673] * 20 + x[674] * 25 + x[675] * 11 + x[676] * 14 + x[677] * 13 + x[678] * 26 + x[679] * 35 + x[680] * 22 + x[681] * 24 + x[682] * 31 + x[683] * 41 + x[684] * 41 + x[685] * 22 + x[686] * 21 + x[687] * 11 + x[688] * 26 + x[689] * 16 + x[690] * 6 + x[691] * 29 + x[692] * 11 + x[693] * 20 + x[694] * 9 + x[695] * 20 + x[696] * 15 + x[697] * 41 + x[698] * 10 + x[699] * 20 + x[700] * 24 + x[701] * 13 + x[702] * 19 + x[703] * 29 + x[704] * 25 + x[705] * 24 + x[706] * 41 + x[707] * 20 + x[708] * 41 + x[709] * 11 + x[710] * 25 + x[711] * 6 + x[712] * 15 + x[713] * 9 + x[714] * 20 + x[715] * 22 + x[716] * 22 + x[717] * 39 + x[718] * 10 + x[719] * 35 + x[720] * 22 + x[721] * 23 + x[722] * 26 + x[723] * 25 + x[724] * 29 + x[725] * 19 + x[726] * 26 + x[727] * 25 + x[728] * 41 + x[729] * 41 + x[730] * 26 + x[731] * 24 + x[732] * 13 + x[733] * 13 + x[734] * 29 + x[735] * 41 + x[736] * 39 + x[737] * 39 + x[738] * 41 + x[739] * 26 + x[740] * 39 + x[741] * 17 + x[742] * 17 + x[743] * 26 + x[744] * 32 + x[745] * 21 + x[746] * 17 + x[747] * 39 + x[748] * 14 + x[749] * 18 + x[750] * 22 + x[751] * 41 + x[752] * 25 + x[753] * 11 + x[754] * 31 + x[755] * 41 + x[756] * 18 + x[757] * 17 + x[758] * 23 + x[759] * 6 + x[760] * 22 + x[761] * 20 + x[762] * 20 + x[763] * 12 + x[764] * 39 + x[765] * 41 + x[766] * 17 + x[767] * 41 + x[768] * 32 + x[769] * 41 + x[770] * 41 + x[771] * 24 + x[772] * 39 + x[773] * 39 + x[774] * 41 + x[775] * 15 + x[776] * 39 + x[777] * 41 + x[778] * 30 + x[779] * 41 + x[780] * 41 + x[781] * 41 + x[782] * 23 + x[783] * 41 + x[784] * 32 + x[785] * 41 + x[786] * 16 + x[787] * 16 + x[788] * 31 + x[789] * 25 + x[790] * 43 + x[791] * 16 + x[792] * 32 + x[793] * 11 + x[794] * 24 + x[795] * 34 + x[796] * 31 + x[797] * 35 + x[798] * 22 + x[799] * 21 + x[800] * 21 + x[801] * 21 + x[802] * 39 + x[803] * 41 + x[804] * 26 + x[805] * 35 + x[806] * 22 + x[807] * 16 + x[808] * 24 + x[809] * 14 + x[810] * 23 + x[811] * 23 + x[812] * 23 + x[813] * 31 + x[814] * 43 + x[815] * 16 + x[816] * 29 + x[817] * 17 + x[818] * 15 + x[819] * 17 + x[820] * 21 + x[821] * 15 + x[822] * 17 + x[823] * 23 + x[824] * 30 + x[825] * 15 + x[826] * 21 + x[827] * 15 + x[828] * 6 + x[829] * 41 + x[830] * 13 + x[831] * 23 + x[832] * 41 + x[833] * 13 + x[834] * 29 + x[835] * 6 + x[836] * 25 + x[837] * 23 + x[838] * 24 + x[839] * 29 + x[840] * 39 + x[841] * 18 + x[842] * 22 + x[843] * 11 + x[844] * 39 + x[845] * 11 + x[846] * 17 + x[847] * 24 + x[848] * 41 + x[849] * 31 + x[850] * 24 + x[851] * 26 + x[852] * 22 + x[853] * 14 + x[854] * 26 + x[855] * 30 + x[856] * 17 + x[857] * 17 + x[858] * 20 + x[859] * 22 + x[860] * 21 + x[861] * 6 + x[862] * 23 + x[863] * 31 + x[864] * 39 + x[865] * 15 + x[866] * 23 + x[867] * 41 + x[868] * 29 + x[869] * 23 + x[870] * 39 + x[871] * 16 + x[872] * 33 + x[873] * 24 + x[874] * 5 + x[875] * 41 + x[876] * 15 + x[877] * 6 + x[878] * 19 + x[879] * 15 + x[880] * 25 + x[881] * 17 + x[882] * 8 + x[883] * 18 + x[884] * 13 + x[885] * 41 + x[886] * 39 + x[887] * 21 + x[888] * 15 + x[889] * 16 + x[890] * 14 + x[891] * 18 + x[892] * 13 + x[893] * 31 + x[894] * 27 + x[895] * 14 + x[896] * 24 + x[897] * 33 + x[898] * 28 + x[899] * 17 + x[900] * 18 + x[901] * 27 + x[902] * 23 + x[903] * 16 + x[904] * 41 + x[905] * 22 + x[906] * 20 + x[907] * 17 + x[908] * 30 + x[909] * 29 + x[910] * 21 + x[911] * 23 + x[912] * 9 + x[913] * 7 + x[914] * 10 + x[915] * 27 + x[916] * 6 + x[917] * 10 + x[918] * 12 + x[919] * 29 + x[920] * 11 + x[921] * 25 + x[922] * 8 + x[923] * 15 + x[924] * 30 + x[925] * 29 + x[926] * 29 + x[927] * 29 + x[928] * 23 + x[929] * 29 + x[930] * 27 + x[931] * 32 + x[932] * 41 + x[933] * 22 + x[934] * 10 + x[935] * 25 + x[936] * 26 + x[937] * 17 + x[938] * 23 + x[939] * 18 + x[940] * 24 + x[941] * 16 + x[942] * 41 + x[943] * 9 + x[944] * 29 + x[945] * 23 + x[946] * 25 + x[947] * 14 + x[948] * 8 + x[949] * 32 + x[950] * 20 + x[951] * 35 + x[952] * 28 + x[953] * 7 + x[954] * 9 + x[955] * 14 + x[956] * 25 + x[957] * 24 + x[958] * 9 + x[959] * 26 + x[960] * 29 + x[961] * 17 + x[962] * 12 + x[963] * 14 + x[964] * 35 + x[965] * 14 + x[966] * 29 + x[967] * 23 + x[968] * 8 + x[969] * 14 + x[970] * 29 + x[971] * 35 + x[972] * 14 + x[973] * 29 + x[974] * 16 + x[975] * 24 + x[976] * 6 + x[977] * 34 + x[978] * 28 + x[979] * 14 + x[980] * 41 + x[981] * 35 + x[982] * 17 + x[983] * 23 + x[984] * 19 + x[985] * 41 + x[986] * 35 + x[987] * 19 + x[988] * 19 + x[989] * 15 + x[990] * 19 + x[991] * 21 + x[992] * 12 + x[993] * 19 + x[994] * 11 + x[995] * 23 + x[996] * 27 + x[997] * 29 + x[998] * 26 + x[999] * 35 + x[1000] * 14 + x[1001] * 3 + x[1002] * 17 + x[1003] * 41 + x[1004] * 8 + x[1005] * 22 + x[1006] * 25 + x[1007] * 26 + x[1008] * 18 + x[1009] * 22 + x[1010] * 14 + x[1011] * 29 + x[1012] * 8 + x[1013] * 26 + x[1014] * 9 + x[1015] * 8 + x[1016] * 35 + x[1017] * 41 + x[1018] * 9 + x[1019] * 29 + x[1020] * 14 + x[1021] * 13 + x[1022] * 13 + x[1023] * 13 + x[1024] * 18 + x[1025] * 17 + x[1026] * 21 + x[1027] * 20 + x[1028] * 9 + x[1029] * 24 + x[1030] * 23 + x[1031] * 29 + x[1032] * 10 + x[1033] * 14 + x[1034] * 14 + x[1035] * 14 + x[1036] + x[1037] * 18 + x[1038] * 18 + x[1039] * 9 + x[1040] * 9 + x[1041] * 33 + x[1042] * 9 + x[1043] * 19 + x[1044] * 17 + x[1045] * 14 + x[1046] * 29 + x[1047] * 12 + x[1048] * 6 + x[1049] * 14 + x[1050] * 24 + x[1051] * 8 + x[1052] * 46 + x[1053] * 29 + x[1054] * 26 + x[1055] * 15 + x[1056] * 9 + x[1057] * 35 + x[1058] * 29 + x[1059] * 41 + x[1060] * 12 + x[1061] * 26 + x[1062] * 35 + x[1063] * 12 + x[1064] * 18 + x[1065] * 16 + x[1066] * 26 + x[1067] * 17 + x[1068] * 26 + x[1069] * 9 + x[1070] * 29 + x[1071] * 16 + x[1072] * 30 + x[1073] * 18 + x[1074] * 4 + x[1075] * 35 + x[1076] * 11 + x[1077] * 23 + x[1078] * 13 + x[1079] * 13 + x[1080] * 14 + x[1081] * 21 + x[1082] * 31 + x[1083] * 35 + x[1084] * 29 + x[1085] * 20 + x[1086] * 13 + x[1087] * 41 + x[1088] * 41 + x[1089] * 11 + x[1090] * 13 + x[1091] * 22 + x[1092] * 13 + x[1093] * 28 + x[1094] * 23 + x[1095] * 14 + x[1096] * 13 + x[1097] * 20 + x[1098] * 31 + x[1099] * 41 + x[1100] * 33 + x[1101] * 18 + x[1102] * 6 + x[1103] * 23 + x[1104] * 17 + x[1105] * 18 + x[1106] * 35 + x[1107] * 23 + x[1108] * 22 + x[1109] * 22 + x[1110] * 22 + x[1111] * 17 + x[1112] * 43 + x[1113] * 35 + x[1114] * 22 + x[1115] * 22 + x[1116] * 9 + x[1117] * 10 + x[1118] * 12 + x[1119] * 25 + x[1120] * 12 + x[1121] * 12 + x[1122] * 34 + x[1123] * 6 + x[1124] * 17 + x[1125] * 24 + x[1126] * 16 + x[1127] * 8 + x[1128] * 29 + x[1129] * 35 + x[1130] * 35 + x[1131] * 24 + x[1132] * 9 + x[1133] * 35 + x[1134] * 13 + x[1135] * 10 + x[1136] * 13 + x[1137] * 23 + x[1138] * 41 + x[1139] * 13 + x[1140] * 29 + x[1141] * 14 + x[1142] * 26 + x[1143] * 23 + x[1144] * 11 + x[1145] * 26 + x[1146] * 9 + x[1147] * 23 + x[1148] * 9 + x[1149] * 35 + x[1150] * 30 + x[1151] * 17 + x[1152] * 35 + x[1153] * 25 + x[1154] * 35 + x[1155] * 22 + x[1156] * 35 + x[1157] * 35 + x[1158] * 29 + x[1159] * 18 + x[1160] * 35 + x[1161] * 35 + x[1162] * 20 + x[1163] * 35 + x[1164] * 25 + x[1165] * 12 + x[1166] * 7 + x[1167] * 25 + x[1168] * 25 + x[1169] * 35 + x[1170] * 35 + x[1171] * 35 + x[1172] * 41 + x[1173] * 41 + x[1174] * 35 + x[1175] * 24 + x[1176] * 33 + x[1177] * 20 + x[1178] * 7 + x[1179] * 22 + x[1180] * 23 + x[1181] * 27 + x[1182] * 24 + x[1183] * 4 + x[1184] * 25 + x[1185] * 26 + x[1186] * 23 + x[1187] * 25 + x[1188] * 26 + x[1189] * 26 + x[1190] * 7 + x[1191] * 25 + x[1192] * 33 + x[1193] * 22 + x[1194] * 23 + x[1195] * 29 + x[1196] * 26 + x[1197] * 35 + x[1198] * 18 + x[1199] * 35 + x[1200] * 27 + x[1201] * 35 + x[1202] * 35 + x[1203] * 27 + x[1204] * 24 + x[1205] * 14 + x[1206] * 22 + x[1207] * 35 + x[1208] * 17 + x[1209] * 14 + x[1210] * 5 + x[1211] * 32 + x[1212] * 39 + x[1213] * 39 + x[1214] * 14 + x[1215] * 14 + x[1216] * 29 + x[1217] * 14 + x[1218] * 41 + x[1219] * 14 + x[1220] * 35 + x[1221] * 29 + x[1222] * 24 + x[1223] * 27 + x[1224] * 29 + x[1225] * 46 + x[1226] * 15 + x[1227] * 41 + x[1228] * 18 + x[1229] * 9 + x[1230] * 14 + x[1231] * 24 + x[1232] * 15 + x[1233] * 26 + x[1234] * 29 + x[1235] * 26 + x[1236] * 19 + x[1237] * 35 + x[1238] * 35 + x[1239] * 41 + x[1240] * 35 + x[1241] * 35 + x[1242] * 24 + x[1243] * 41 + x[1244] * 39 + x[1245] * 17 + x[1246] * 22 + x[1247] * 35 + x[1248] * 39 + x[1249] * 25 + x[1250] * 22 + x[1251] * 7 + x[1252] * 35 + x[1253] * 7 + x[1254] * 7 + x[1255] * 20 + x[1256] * 23 + x[1257] * 7 + x[1258] * 14 + x[1259] * 41 + x[1260] * 25 + x[1261] * 35 + x[1262] * 7 + x[1263] * 35 + x[1264] * 39 + x[1265] * 27 + x[1266] * 13 + x[1267] * 14 + x[1268] * 7 + x[1269] * 23 + x[1270] * 22 + x[1271] * 35 + x[1272] * 7 + x[1273] * 7 + x[1274] * 14 + x[1275] * 7 + x[1276] * 14 + x[1277] * 35 + x[1278] * 35 + x[1279] * 8 + x[1280] * 14 + x[1281] * 18 + x[1282] * 25 + x[1283] * 10 + x[1284] * 18 + x[1285] * 41 + x[1286] * 41 + x[1287] * 23 + x[1288] * 23 + x[1289] * 41 + x[1290] * 29 + x[1291] * 24 + x[1292] * 48 + x[1293] * 4 + x[1294] * 11 + x[1295] * 35 + x[1296] * 24 + x[1297] * 24 + x[1298] * 41 + x[1299] * 25 + x[1300] * 11 + x[1301] * 41 + x[1302] * 18 + x[1303] * 10 + x[1304] * 35 + x[1305] * 30 + x[1306] * 19 + x[1307] * 27 + x[1308] * 35 + x[1309] * 8 + x[1310] * 28 + x[1311] * 28 + x[1312] * 26 + x[1313] * 25 + x[1314] * 29 + x[1315] * 28 + x[1316] * 23 + x[1317] * 17 + x[1318] * 23 + x[1319] * 26 + x[1320] * 8 + x[1321] * 41 + x[1322] * 29 + x[1323] * 17 + x[1324] * 14 + x[1325] * 46 + x[1326] * 26 + x[1327] * 22 + x[1328] * 35 + x[1329] * 14 + x[1330] * 28 + x[1331] * 17 + x[1332] * 34 + x[1333] * 9 + x[1334] * 13 + x[1335] * 41 + x[1336] * 35 + x[1337] * 11 + x[1338] * 25 + x[1339] * 26 + x[1340] * 6 + x[1341] * 35 + x[1342] * 2 + x[1343] * 35 + x[1344] * 41 + x[1345] * 22 + x[1346] * 15 + x[1347] * 24 + x[1348] * 23 + x[1349] * 25 + x[1350] * 26 + x[1351] * 26 + x[1352] * 23 + x[1353] * 41 + x[1354] * 12 + x[1355] * 20 + x[1356] * 22 + x[1357] * 24 + x[1358] * 41 + x[1359] * 41 + x[1360] * 19 + x[1361] * 20 + x[1362] * 18 + x[1363] * 29 + x[1364] * 35 + x[1365] * 23 + x[1366] * 19 + x[1367] * 22 + x[1368] * 23 + x[1369] * 23 + x[1370] * 23 + x[1371] * 24 + x[1372] * 8 + x[1373] * 29 + x[1374] * 25 + x[1375] * 24 + x[1376] * 22 + x[1377] * 22 + x[1378] * 5 + x[1379] * 10 + x[1380] * 24 + x[1381] * 8 + x[1382] * 22 + x[1383] * 22 + x[1384] * 41 + x[1385] * 26 + x[1386] * 21 + x[1387] * 12 + x[1388] * 6 + x[1389] * 20 + x[1390] * 26 + x[1391] * 21 + x[1392] * 21 + x[1393] * 21 + x[1394] * 21 + x[1395] * 7 + x[1396] * 41 + x[1397] * 21 + x[1398] * 41 + x[1399] * 13 + x[1400] * 40 + x[1401] * 13 + x[1402] * 21 + x[1403] * 13 + x[1404] * 21 + x[1405] * 13 + x[1406] * 21 + x[1407] * 11 + x[1408] * 14 + x[1409] * 21 + x[1410] * 21 + x[1411] * 23 + x[1412] * 13 + x[1413] * 31 + x[1414] * 21 + x[1415] * 26 + x[1416] * 22 + x[1417] * 6 + x[1418] * 29 + x[1419] * 22 + x[1420] * 35 + x[1421] * 32 + x[1422] * 13 + x[1423] * 32 + x[1424] * 4 + x[1425] * 41 + x[1426] * 32 + x[1427] * 32 + x[1428] * 21 + x[1429] * 19 + x[1430] * 25 + x[1431] * 15 + x[1432] * 16 + x[1433] * 16 + x[1434] * 16 + x[1435] * 18 + x[1436] * 9 + x[1437] * 34 + x[1438] * 27 + x[1439] * 41 + x[1440] * 16 + x[1441] * 28 + x[1442] * 16 + x[1443] * 2 + x[1444] * 13 + x[1445] * 14 + x[1446] * 19 + x[1447] * 17 + x[1448] * 41 + x[1449] * 14 + x[1450] * 14 + x[1451] * 18 + x[1452] * 20 + x[1453] * 23 + x[1454] * 22 + x[1455] * 21 + x[1456] * 16 + x[1457] * 23 + x[1458] * 24 + x[1459] * 15 + x[1460] * 28 + x[1461] * 14 + x[1462] * 35 + x[1463] * 21 + x[1464] * 27 + x[1465] * 17 + x[1466] * 18 + x[1467] * 22 + x[1468] * 14 + x[1469] * 25 + x[1470] * 18 + x[1471] * 13 + x[1472] * 10 + x[1473] * 15 + x[1474] * 35 + x[1475] * 6 + x[1476] * 22 + x[1477] * 28 + x[1478] * 14 + x[1479] * 32 + x[1480] * 20 + x[1481] * 7 + x[1482] * 20 + x[1483] * 21 + x[1484] * 15 + x[1485] * 11 + x[1486] * 26 + x[1487] * 27 + x[1488] * 29 + x[1489] * 29 + x[1490] * 29 + x[1491] * 26 + x[1492] * 26 + x[1493] * 41 + x[1494] * 34 + x[1495] * 27 + x[1496] * 30 + x[1497] * 41 + x[1498] * 7 + x[1499] * 33 + x[1500] * 5 + x[1501] * 33 + x[1502] * 30 + x[1503] * 8 + x[1504] * 10 + x[1505] * 24 + x[1506] * 22 + x[1507] * 23 + x[1508] * 18 + x[1509] * 23 + x[1510] * 39 + x[1511] * 23 + x[1512] * 25 + x[1513] * 14 + x[1514] * 14 + x[1515] * 32 + x[1516] * 33 + x[1517] * 23 + x[1518] * 22 + x[1519] * 13 + x[1520] * 32 + x[1521] * 32 + x[1522] * 25 + x[1523] * 25 + x[1524] * 12 + x[1525] * 19 + x[1526] * 30 + x[1527] * 25 + x[1528] * 6 + x[1529] * 6 + x[1530] * 20 + x[1531] * 25 + x[1532] * 8 + x[1533] * 16 + x[1534] * 27 + x[1535] * 35 + x[1536] * 14 + x[1537] * 7 + x[1538] * 12 + x[1539] * 23 + x[1540] * 12 + x[1541] * 15 + x[1542] * 18 + x[1543] * 15 + x[1544] * 33 + x[1545] * 23 + x[1546] * 22 + x[1547] * 22 + x[1548] * 22 + x[1549] * 6 + x[1550] * 8 + x[1551] * 19 + x[1552] * 24 + x[1553] * 13 + x[1554] * 22 + x[1555] * 19 + x[1556] * 27 + x[1557] * 29 + x[1558] * 19 + x[1559] * 31 + x[1560] * 9 + x[1561] * 31 + x[1562] * 13 + x[1563] * 31 + x[1564] * 24 + x[1565] * 30 + x[1566] * 30 + x[1567] * 32 + x[1568] * 31 + x[1569] * 30 + x[1570] * 35 + x[1571] * 31 + x[1572] * 31 + x[1573] * 32 + x[1574] * 22 + x[1575] * 32 + x[1576] * 27 + x[1577] * 31 + x[1578] * 31 + x[1579] * 31 + x[1580] * 11 + x[1581] * 16 + x[1582] * 21 + x[1583] * 31 + x[1584] * 25 + x[1585] * 31 + x[1586] * 12 + x[1587] * 35 + x[1588] * 17 + x[1589] * 31 + x[1590] * 22 + x[1591] * 17 + x[1592] * 31 + x[1593] * 24 + x[1594] * 23 + x[1595] * 13 + x[1596] * 27 + x[1597] * 31 + x[1598] * 25 + x[1599] * 31 + x[1600] * 31 + x[1601] * 41 + x[1602] * 31 + x[1603] * 31 + x[1604] * 31 + x[1605] * 18 + x[1606] * 26 + x[1607] * 31 + x[1608] * 31 + x[1609] * 13 + x[1610] * 35 + x[1611] * 25 + x[1612] * 34 + x[1613] * 27 + x[1614] * 10 + x[1615] * 12 + x[1616] * 31 + x[1617] * 23 + x[1618] * 30 + x[1619] * 31 + x[1620] * 27 + x[1621] * 13 + x[1622] * 46 + x[1623] * 31 + x[1624] * 31 + x[1625] * 23 + x[1626] * 16 + x[1627] * 20 + x[1628] * 30 + x[1629] * 27 + x[1630] * 31 + x[1631] * 26 + x[1632] * 4 + x[1633] * 31 + x[1634] * 31 + x[1635] * 18 + x[1636] * 31 + x[1637] * 31 + x[1638] * 30 + x[1639] * 35 + x[1640] * 26 + x[1641] * 25 + x[1642] * 31 + x[1643] * 41 + x[1644] * 13 + x[1645] * 35 + x[1646] * 16 + x[1647] * 31 + x[1648] * 35 + x[1649] * 33 + x[1650] * 33 + x[1651] * 31 + x[1652] * 19 + x[1653] * 35 + x[1654] * 13 + x[1655] * 31 + x[1656] * 13 + x[1657] * 17 + x[1658] * 12 + x[1659] * 13 + x[1660] * 31 + x[1661] * 31 + x[1662] * 10 + x[1663] * 9 + x[1664] * 24 + x[1665] * 23 + x[1666] * 26 + x[1667] * 6 + x[1668] * 29 + x[1669] * 20 + x[1670] * 27 + x[1671] * 31 + x[1672] * 26 + x[1673] * 11 + x[1674] * 12 + x[1675] * 6 + x[1676] * 12 + x[1677] * 31 + x[1678] * 11 + x[1679] * 20 + x[1680] * 31 + x[1681] * 20 + x[1682] * 12 + x[1683] * 23 + x[1684] * 15 + x[1685] * 48 + x[1686] * 25 + x[1687] * 26 + x[1688] * 33 + x[1689] * 26 + x[1690] * 21 + x[1691] * 15 + x[1692] * 31 + x[1693] * 31 + x[1694] * 25 + x[1695] * 25 + x[1696] * 26 + x[1697] * 14 + x[1698] * 10 + x[1699] * 31 + x[1700] * 41 + x[1701] * 23 + x[1702] * 22 + x[1703] * 20 + x[1704] * 13 + x[1705] * 19 + x[1706] * 31 + x[1707] * 16 + x[1708] * 31 + x[1709] * 15 + x[1710] * 10 + x[1711] * 41 + x[1712] * 26 + x[1713] * 31 + x[1714] * 22 + x[1715] * 8 + x[1716] * 31 + x[1717] * 41 + x[1718] * 8 + x[1719] * 26 + x[1720] * 23 + x[1721] * 18 + x[1722] * 25 + x[1723] * 6 + x[1724] * 25 + x[1725] * 31 + x[1726] * 41 + x[1727] * 32 + x[1728] * 17 + x[1729] * 41 + x[1730] * 25 + x[1731] * 13 + x[1732] * 43 + x[1733] * 26 + x[1734] * 27 + x[1735] * 21 + x[1736] * 31 + x[1737] * 25 + x[1738] * 28 + x[1739] * 24 + x[1740] * 30 + x[1741] * 27 + x[1742] * 31 + x[1743] * 31 + x[1744] * 31 + x[1745] * 24 + x[1746] * 33 + x[1747] * 23 + x[1748] * 9 + x[1749] * 26 + x[1750] * 31 + x[1751] * 15 + x[1752] * 6 + x[1753] * 14 + x[1754] * 41 + x[1755] * 35 + x[1756] * 41 + x[1757] * 41 + x[1758] * 31 + x[1759] * 23 + x[1760] * 15 + x[1761] * 26 + x[1762] * 31 + x[1763] * 31 + x[1764] * 26 + x[1765] * 31 + x[1766] * 41 + x[1767] * 28 + x[1768] * 12 + x[1769] * 9 + x[1770] * 8 + x[1771] * 16 + x[1772] * 20 + x[1773] * 19 + x[1774] * 21 + x[1775] * 7 + x[1776] * 31 + x[1777] * 25 + x[1778] * 23 + x[1779] * 39 + x[1780] * 27 + x[1781] * 35 + x[1782] * 33 + x[1783] * 22 + x[1784] * 31 + x[1785] * 31 + x[1786] * 35 + x[1787] * 16 + x[1788] * 21 + x[1789] * 17 + x[1790] * 31 + x[1791] * 13 + x[1792] * 35 + x[1793] * 26 + x[1794] * 38 + x[1795] * 5 + x[1796] * 11 + x[1797] * 32 + x[1798] * 31 + x[1799] * 4 + x[1800] * 26 + x[1801] * 41 + x[1802] * 20 + x[1803] * 41 + x[1804] * 10 + x[1805] * 3 + x[1806] * 2 + x[1807] * 2 + x[1808] * 2 + x[1809] * 2 + x[1810] * 4 + x[1811] * 3 + x[1812] * 7 + x[1813] * 2 + x[1814] * 3 + x[1815] * 3 + x[1816] * 5 + x[1817] * 2 + x[1818] * 4 + x[1819] * 7 + x[1820] * 4 + x[1821] * 5 + x[1822] * 2 + x[1823] * 12 + x[1824] * 25 + x[1825] + x[1826] * 41 + x[1827] * 5 + x[1828] * 4 + x[1829] * 41 + x[1830] * 5 + x[1831] * 8 + x[1832] * 7 + x[1833] * 3 + x[1834] * 2 + x[1835] * 7 + x[1836] * 4 + x[1837] + x[1838] * 5 + x[1839] * 4 + x[1840] * 5 + x[1841] * 4 + x[1842] * 2 + x[1843] * 10 + x[1844] * 9 + x[1845] * 8 + x[1846] * 8 + x[1847] * 3 + x[1848] * 5 + x[1849] + x[1850] * 4 + x[1851] * 7 + x[1852] * 5 + x[1853] * 4 + x[1854] * 8 + x[1855] * 2 + x[1856] * 2 + x[1857] + x[1858] * 8 + x[1859] * 4 + x[1860] * 5 + x[1861] * 3 + x[1862] * 6 + x[1863] + x[1864] * 3 + x[1865] * 9 + x[1866] * 23 + x[1867] * 4 + x[1868] * 4 + x[1869] * 2 + x[1870] + x[1871] * 5 + x[1872] * 2 + x[1873] * 3 + x[1874] * 2 + x[1875] * 5 + x[1876] * 3 + x[1877] * 5 + x[1878] * 7 + x[1879] * 2 + x[1880] + x[1881] * 3 + x[1882] * 3 + x[1883] * 2 + x[1884] * 3 + x[1885] * 3 + x[1886] * 4 + x[1887] * 2 + x[1888] * 10 + x[1889] * 15 + x[1890] * 4 + x[1891] * 21 + x[1892] * 3 + x[1893] * 6 + x[1894] * 7 + x[1895] * 8 + x[1896] * 6 + x[1897] * 2 + x[1898] * 9 + x[1899] * 3 + x[1900] * 2 + x[1901] * 5 + x[1902] * 8 + x[1903] * 3 + x[1904] + x[1905] * 7 + x[1906] * 2 + x[1907] * 41 + x[1908] * 4 + x[1909] * 11 + x[1910] * 4 + x[1911] * 7 + x[1912] * 3 + x[1913] * 2 + x[1914] * 13 + x[1915] * 26 + x[1916] + x[1917] * 3 + x[1918] * 7 + x[1919] * 8 + x[1920] * 3 + x[1921] + x[1922] * 2 + x[1923] * 5 + x[1924] * 6 + x[1925] * 6 + x[1926] * 8 + x[1927] * 8 + x[1928] * 35 + x[1929] * 7 + x[1930] * 35 + x[1931] * 13 + x[1932] * 5 + x[1933] * 5 + x[1934] * 3 + x[1935] * 6 + x[1936] * 16 + x[1937] * 2 + x[1938] * 7 + x[1939] * 13 + x[1940] * 4 + x[1941] * 9 + x[1942] * 3 + x[1943] * 4 + x[1944] * 14 + x[1945] * 3 + x[1946] * 35 + x[1947] * 4 + x[1948] * 8 + x[1949] * 3 + x[1950] * 4 + x[1951] * 2 + x[1952] * 26 + x[1953] * 2 + x[1954] * 5 + x[1955] * 3 + x[1956] * 16 + x[1957] * 3 + x[1958] * 10 + x[1959] * 26 + x[1960] * 8 + x[1961] * 8 + x[1962] * 22 + x[1963] * 31 + x[1964] * 27 + x[1965] * 3 + x[1966] * 8 + x[1967] * 20 + x[1968] * 4 + x[1969] + x[1970] * 14 + x[1971] * 5 + x[1972] * 5 + x[1973] * 4 + x[1974] * 10 + x[1975] * 5 + x[1976] * 22 + x[1977] * 21 + x[1978] * 11 + x[1979] * 12 + x[1980] * 41 + x[1981] * 4 + x[1982] * 14 + x[1983] * 4 + x[1984] * 19 + x[1985] * 14 + x[1986] * 5 + x[1987] * 9 + x[1988] * 5 + x[1989] * 4 + x[1990] * 7 + x[1991] * 41 + x[1992] * 15 + x[1993] * 7 + x[1994] * 4 + x[1995] * 11 + x[1996] * 4 + x[1997] * 8 + x[1998] * 4 + x[1999] * 5 + x[2000] * 13 + x[2001] * 5 + x[2002] * 4 + x[2003] * 7 + x[2004] * 6 + x[2005] * 5 + x[2006] * 31 + x[2007] * 21 + x[2008] * 5 + x[2009] * 7 + x[2010] * 15 + x[2011] * 9 + x[2012] * 11 + x[2013] * 5 + x[2014] * 7 + x[2015] * 14 + x[2016] * 11 + x[2017] * 12 + x[2018] * 13 + x[2019] * 8 + x[2020] * 8 + x[2021] * 7 + x[2022] * 8 + x[2023] * 6 + x[2024] * 11 + x[2025] * 4 + x[2026] * 10 + x[2027] * 8 + x[2028] * 2 + x[2029] * 12 + x[2030] * 9 + x[2031] * 4 + x[2032] * 8 + x[2033] * 4 + x[2034] * 4 + x[2035] * 3 + x[2036] * 12 + x[2037] * 4 + x[2038] * 5 + x[2039] * 29 + x[2040] * 3 + x[2041] * 5 + x[2042] * 32 + x[2043] * 9 + x[2044] * 8 + x[2045] * 4 + x[2046] * 12 + x[2047] * 11 + x[2048] * 7 + x[2049] * 5 + x[2050] * 5 + x[2051] * 26 + x[2052] * 33 + x[2053] * 16 + x[2054] * 8 + x[2055] * 21 + x[2056] * 19 + x[2057] * 5 + x[2058] * 3 + x[2059] * 2 + x[2060] * 9 + x[2061] * 14 + x[2062] * 4 + x[2063] * 5 + x[2064] * 10 + x[2065] * 4 + x[2066] * 14 + x[2067] * 8 + x[2068] * 4 + x[2069] * 3 + x[2070] * 6 + x[2071] * 10 + x[2072] * 23 + x[2073] * 16 + x[2074] * 14 + x[2075] * 31 + x[2076] * 3 + x[2077] * 6 + x[2078] * 6 + x[2079] * 8 + x[2080] * 10 + x[2081] * 9 + x[2082] * 22 + x[2083] * 6 + x[2084] * 10 + x[2085] * 16 + x[2086] * 3 + x[2087] * 4 + x[2088] * 9 + x[2089] * 9 + x[2090] * 12 + x[2091] * 17 + x[2092] * 10 + x[2093] * 16 + x[2094] * 22 + x[2095] * 3 + x[2096] * 3 + x[2097] * 12 + x[2098] * 14 + x[2099] * 41 + x[2100] * 10 + x[2101] * 7 + x[2102] * 11 + x[2103] * 2 + x[2104] * 12 + x[2105] * 4 + x[2106] * 4 + x[2107] * 41 + x[2108] * 18 + x[2109] * 6 + x[2110] * 4 + x[2111] * 10 + x[2112] * 5 + x[2113] * 12 + x[2114] * 4 + x[2115] * 10 + x[2116] * 20 + x[2117] * 26 + x[2118] * 25 + x[2119] * 22 + x[2120] * 10 + x[2121] * 8 + x[2122] * 9 + x[2123] * 31 + x[2124] * 4 + x[2125] * 18 + x[2126] * 10 + x[2127] * 18 + x[2128] * 7 + x[2129] * 4 + x[2130] * 16 + x[2131] * 8 + x[2132] * 4 + x[2133] * 10 + x[2134] * 41 + x[2135] * 10 + x[2136] * 5 + x[2137] * 10 + x[2138] * 2 + x[2139] * 4 + x[2140] * 10 + x[2141] * 4 + x[2142] * 8 + x[2143] * 31 + x[2144] * 11 + x[2145] * 31 + x[2146] * 9 + x[2147] * 7 + x[2148] * 4 + x[2149] * 18 + x[2150] * 4 + x[2151] * 9 + x[2152] * 12 + x[2153] * 3 + x[2154] * 10 + x[2155] * 10 + x[2156] * 6 + x[2157] * 16 + x[2158] * 10 + x[2159] * 19 + x[2160] * 11 + x[2161] * 12 + x[2162] * 10 + x[2163] * 6 + x[2164] * 10 + x[2165] * 4 + x[2166] * 29 + x[2167] * 6 + x[2168] * 20 + x[2169] * 3 + x[2170] * 2 + x[2171] * 23 + x[2172] * 4 + x[2173] * 8 + x[2174] * 26 + x[2175] * 4 + x[2176] * 22 + x[2177] * 5 + x[2178] * 4 + x[2179] * 8 + x[2180] * 3 + x[2181] * 21 + x[2182] * 9 + x[2183] * 2 + x[2184] * 5 + x[2185] * 10 + x[2186] * 20 + x[2187] * 4 + x[2188] * 6 + x[2189] * 10 + x[2190] * 27 + x[2191] * 16 + x[2192] * 20 + x[2193] * 31 + x[2194] * 13 + x[2195] * 10 + x[2196] * 8 + x[2197] * 7 + x[2198] * 29 + x[2199] * 21 + x[2200] * 10 + x[2201] * 4 + x[2202] * 29 + x[2203] * 8 + x[2204] * 35 + x[2205] * 29 + x[2206] * 20 + x[2207] * 3 + x[2208] * 10 + x[2209] * 19 + x[2210] * 41 + x[2211] * 10 + x[2212] * 8 + x[2213] * 12 + x[2214] * 29 + x[2215] * 29 + x[2216] * 35 + x[2217] * 13 + x[2218] * 17 + x[2219] * 23 + x[2220] * 10 + x[2221] * 29 + x[2222] * 10 + x[2223] * 27 + x[2224] * 11 + x[2225] * 4 + x[2226] * 4 + x[2227] * 9 + x[2228] * 9 + x[2229] * 7 + x[2230] * 2 + x[2231] * 22 + x[2232] * 18 + x[2233] * 12 + x[2234] * 15 + x[2235] * 25 + x[2236] * 10 + x[2237] * 10 + x[2238] * 17 + x[2239] * 8 + x[2240] * 31 + x[2241] * 7 + x[2242] * 41 + x[2243] * 3 + x[2244] * 10 + x[2245] * 8 + x[2246] * 4 + x[2247] * 25 + x[2248] * 18 + x[2249] * 4 + x[2250] * 29 + x[2251] * 4 + x[2252] * 10 + x[2253] * 4 + x[2254] * 10 + x[2255] * 10 + x[2256] * 24 + x[2257] * 29 + x[2258] * 10 + x[2259] * 10 + x[2260] * 9 + x[2261] * 29 + x[2262] * 18 + x[2263] * 4 + x[2264] * 39 + x[2265] * 18 + x[2266] * 32 + x[2267] * 7 + x[2268] * 5 + x[2269] * 31 + x[2270] * 29 + x[2271] * 29 + x[2272] * 4 + x[2273] * 3 + x[2274] * 4 + x[2275] * 14 + x[2276] * 4 + x[2277] * 4 + x[2278] * 3 + x[2279] * 9 + x[2280] * 35 + x[2281] * 6 + x[2282] * 31 + x[2283] * 25 + x[2284] * 21 + x[2285] * 3 + x[2286] * 7 + x[2287] * 29 + x[2288] * 16 + x[2289] * 16 + x[2290] * 31 + x[2291] * 4 + x[2292] * 28 + x[2293] * 10 + x[2294] * 10 + x[2295] * 7 + x[2296] * 35 + x[2297] * 6 + x[2298] * 13 + x[2299] * 2 + x[2300] * 10 + x[2301] * 10 + x[2302] * 41 + x[2303] * 19 + x[2304] * 18 + x[2305] * 9 + x[2306] * 24 + x[2307] * 32 + x[2308] * 11 + x[2309] * 18 + x[2310] * 4 + x[2311] * 32 + x[2312] * 29 + x[2313] * 27 + x[2314] * 4 + x[2315] * 15 + x[2316] * 16 + x[2317] * 5 + x[2318] * 25 + x[2319] * 29 + x[2320] * 5 + x[2321] * 41 + x[2322] * 8 + x[2323] * 22 + x[2324] * 10 + x[2325] * 6 + x[2326] * 22 + x[2327] * 5 + x[2328] * 10 + x[2329] * 3 + x[2330] * 3 + x[2331] * 41 + x[2332] * 4 + x[2333] * 39 + x[2334] * 4 + x[2335] * 29 + x[2336] * 24 + x[2337] * 21 + x[2338] * 13 + x[2339] * 9 + x[2340] * 6 + x[2341] * 22 + x[2342] * 10 + x[2343] * 22 + x[2344] * 16 + x[2345] * 22 + x[2346] * 11 + x[2347] * 23 + x[2348] * 10 + x[2349] * 31 + x[2350] * 4 + x[2351] * 4 + x[2352] * 18 + x[2353] * 7 + x[2354] * 18 + x[2355] * 10 + x[2356] * 25 + x[2357] * 10 + x[2358] * 4 + x[2359] * 10 + x[2360] * 4 + x[2361] * 11 + x[2362] * 16 + x[2363] * 6 + x[2364] * 26 + x[2365] * 9 + x[2366] * 35 + x[2367] * 14 + x[2368] * 12 + x[2369] * 4 + x[2370] * 17 + x[2371] * 17 + x[2372] * 10 + x[2373] * 12 + x[2374] * 11 + x[2375] * 4 + x[2376] * 8 + x[2377] * 19 + x[2378] * 16 + x[2379] * 17 + x[2380] * 8 + x[2381] * 24 + x[2382] * 8 + x[2383] * 5 + x[2384] * 7 + x[2385] * 25 + x[2386] * 7 + x[2387] * 7 + x[2388] * 8 + x[2389] * 4 + x[2390] * 15 + x[2391] * 15 + x[2392] * 22 + x[2393] * 29 + x[2394] * 7 + x[2395] * 25 + x[2396] * 29 + x[2397] * 15 + x[2398] * 4 + x[2399] * 4 + x[2400] * 15 + x[2401] * 19 + x[2402] * 11 + x[2403] * 3 + x[2404] * 22 + x[2405] * 7 + x[2406] * 24 + x[2407] * 9 + x[2408] * 10 + x[2409] * 10 + x[2410] * 10 + x[2411] * 10 + x[2412] * 3 + x[2413] * 29 + x[2414] * 26 + x[2415] * 4 + x[2416] * 6 + x[2417] * 14 + x[2418] * 13 + x[2419] * 17 + x[2420] * 35 + x[2421] * 5 + x[2422] * 10 + x[2423] * 21 + x[2424] * 7 + x[2425] * 6 + x[2426] * 41 + x[2427] * 35 + x[2428] * 29 + x[2429] * 35 + x[2430] * 10 + x[2431] * 18 + x[2432] * 8 + x[2433] * 5 + x[2434] * 37 + x[2435] * 7 + x[2436] * 23 + x[2437] * 8 + x[2438] * 20 + x[2439] * 18 + x[2440] * 8 + x[2441] * 16 + x[2442] * 7 + x[2443] * 26 + x[2444] * 38 + x[2445] * 10 + x[2446] * 10 + x[2447] * 8 + x[2448] * 28 + x[2449] * 22 + x[2450] * 7 + x[2451] * 25 + x[2452] * 29 + x[2453] * 21 + x[2454] * 13 + x[2455] * 13 + x[2456] * 21 + x[2457] * 6 + x[2458] * 15 + x[2459] * 21 + x[2460] * 7 + x[2461] * 18 + x[2462] * 24 + x[2463] * 7 + x[2464] * 4 + x[2465] * 7 + x[2466] * 10 + x[2467] * 41 + x[2468] * 3 + x[2469] * 7 + x[2470] * 18 + x[2471] * 25 + x[2472] * 8 + x[2473] * 39 + x[2474] * 29 + x[2475] * 29 + x[2476] * 12 + x[2477] * 24 + x[2478] * 23 + x[2479] * 20 + x[2480] * 8 + x[2481] * 41 + x[2482] * 14 + x[2483] * 7 + x[2484] * 27 + x[2485] * 39 + x[2486] * 29 + x[2487] * 10 + x[2488] * 26 + x[2489] * 17 + x[2490] * 7 + x[2491] * 10 + x[2492] * 4 + x[2493] * 12 + x[2494] * 23 + x[2495] * 31 + x[2496] * 18 + x[2497] * 18 + x[2498] * 39 + x[2499] * 7 + x[2500] * 18 + x[2501] * 3 + x[2502] * 13 + x[2503] * 23 + x[2504] * 41 + x[2505] * 39 + x[2506] * 7 + x[2507] * 10 + x[2508] * 7 + x[2509] * 7 + x[2510] * 30 + x[2511] * 4 + x[2512] * 10 + x[2513] * 10 + x[2514] * 7 + x[2515] * 8 + x[2516] * 10 + x[2517] * 9 + x[2518] * 23 + x[2519] * 7 + x[2520] * 10 + x[2521] * 19 + x[2522] * 8 + x[2523] * 16 + x[2524] * 35 + x[2525] * 14 + x[2526] * 18 + x[2527] * 10 + x[2528] * 6 + x[2529] * 14 + x[2530] * 27 + x[2531] * 7 + x[2532] * 9 + x[2533] * 8 + x[2534] * 18 + x[2535] * 3 + x[2536] * 4 + x[2537] * 22 + x[2538] * 10 + x[2539] * 10 + x[2540] * 29 + x[2541] * 10 + x[2542] * 10 + x[2543] * 33 + x[2544] * 10 + x[2545] * 14 + x[2546] * 13 + x[2547] * 23 + x[2548] * 14 + x[2549] * 4 + x[2550] * 10 + x[2551] * 5 + x[2552] * 14 + x[2553] * 10 + x[2554] * 41 + x[2555] * 23 + x[2556] * 10 + x[2557] * 8 + x[2558] * 20 + x[2559] * 7 + x[2560] * 21 + x[2561] * 39 + x[2562] * 13 + x[2563] * 10 + x[2564] * 39 + x[2565] * 28 + x[2566] * 26 + x[2567] * 26 + x[2568] * 20 + x[2569] * 10 + x[2570] * 7 + x[2571] * 3 + x[2572] * 21 + x[2573] * 14 + x[2574] * 22 + x[2575] * 8 + x[2576] * 5 + x[2577] * 14 + x[2578] * 35 + x[2579] * 8 + x[2580] * 41 + x[2581] * 9 + x[2582] * 18 + x[2583] * 18 + x[2584] * 7 + x[2585] * 4 + x[2586] * 12 + x[2587] * 12 + x[2588] * 22 + x[2589] * 25 + x[2590] * 10 + x[2591] * 26 + x[2592] * 14 + x[2593] * 3 + x[2594] * 5 + x[2595] * 29 + x[2596] * 12 + x[2597] * 10 + x[2598] * 29 + x[2599] * 6 + x[2600] * 30 + x[2601] * 10 + x[2602] * 12 + x[2603] * 14 + x[2604] * 29 + x[2605] * 5 + x[2606] * 8 + x[2607] * 14 + x[2608] * 10 + x[2609] * 4 + x[2610] * 7 + x[2611] * 5 + x[2612] * 19 + x[2613] * 14 + x[2614] * 26 + x[2615] * 35 + x[2616] * 20 + x[2617] * 24 + x[2618] * 14 + x[2619] * 16 + x[2620] * 26 + x[2621] * 31 + x[2622] * 10 + x[2623] * 17 + x[2624] * 39 + x[2625] * 14 + x[2626] * 27 + x[2627] * 27 + x[2628] * 4 + x[2629] * 22 + x[2630] * 23 + x[2631] * 26 + x[2632] * 9 + x[2633] * 23 + x[2634] * 30 + x[2635] * 27 + x[2636] * 41 + x[2637] * 35 + x[2638] * 14 + x[2639] * 10 + x[2640] * 24 + x[2641] * 19 + x[2642] * 17 + x[2643] * 28 + x[2644] * 18 + x[2645] * 22 + x[2646] * 26 + x[2647] * 39 + x[2648] * 10 + x[2649] * 6 + x[2650] * 29 + x[2651] * 18 + x[2652] * 27 + x[2653] * 29 + x[2654] * 14 + x[2655] * 26 + x[2656] * 27 + x[2657] * 9 + x[2658] * 24 + x[2659] * 25 + x[2660] * 22 + x[2661] * 7 + x[2662] * 29 + x[2663] * 8 + x[2664] * 25 + x[2665] * 4 + x[2666] * 5 + x[2667] * 22 + x[2668] * 7 + x[2669] * 15 + x[2670] * 30 + x[2671] * 30 + x[2672] * 4 + x[2673] * 10 + x[2674] * 22 + x[2675] * 8 + x[2676] * 9 + x[2677] * 29 + x[2678] * 26 + x[2679] * 10 + x[2680] * 27 + x[2681] * 7 + x[2682] * 30 + x[2683] * 19 + x[2684] * 41 + x[2685] * 6 + x[2686] * 41 + x[2687] * 41 + x[2688] * 4 + x[2689] * 14 + x[2690] * 10 + x[2691] * 26 + x[2692] * 10 + x[2693] * 8 + x[2694] * 21 + x[2695] * 10 + x[2696] * 8 + x[2697] * 4 + x[2698] * 18 + x[2699] * 23 + x[2700] * 10 + x[2701] * 27 + x[2702] * 5 + x[2703] * 27 + x[2704] * 21 + x[2705] * 8 + x[2706] * 31 + x[2707] * 17 + x[2708] * 9 + x[2709] * 41 + x[2710] * 9 + x[2711] * 8 + x[2712] * 12 + x[2713] * 3 + x[2714] * 27 + x[2715] * 41 + x[2716] * 14 + x[2717] * 10 + x[2718] * 30 + x[2719] * 17 + x[2720] * 16 + x[2721] * 18 + x[2722] * 12 + x[2723] * 10 + x[2724] * 14 + x[2725] * 29 + x[2726] * 10 + x[2727] * 35 + x[2728] * 24 + x[2729] * 41 + x[2730] * 25 + x[2731] * 29 + x[2732] * 7 + x[2733] * 10 + x[2734] * 7 + x[2735] * 30 + x[2736] * 26 + x[2737] * 10 + x[2738] * 8 + x[2739] * 31 + x[2740] * 21 + x[2741] * 4 + x[2742] * 27 + x[2743] * 27 + x[2744] * 10 + x[2745] * 41 + x[2746] * 16 + x[2747] * 22 + x[2748] * 12 + x[2749] * 18 + x[2750] * 14 + x[2751] * 41 + x[2752] * 16 + x[2753] * 8 + x[2754] * 14 + x[2755] * 18 + x[2756] * 8 + x[2757] * 22 + x[2758] * 8 + x[2759] * 24 + x[2760] * 27 + x[2761] * 27 + x[2762] * 21 + x[2763] * 18 + x[2764] * 11 + x[2765] * 13 + x[2766] * 26 + x[2767] * 24 + x[2768] * 8 + x[2769] * 41 + x[2770] * 19 + x[2771] * 26 + x[2772] * 25 + x[2773] * 14 + x[2774] * 13 + x[2775] * 7 + x[2776] * 27 + x[2777] * 5 + x[2778] * 8 + x[2779] * 8 + x[2780] * 11 + x[2781] * 13 + x[2782] * 27 + x[2783] * 7 + x[2784] * 15 + x[2785] * 27 + x[2786] * 13 + x[2787] * 25 + x[2788] * 10 + x[2789] * 10 + x[2790] * 7 + x[2791] * 26 + x[2792] * 8 + x[2793] * 14 + x[2794] * 8 + x[2795] * 23 + x[2796] * 8 + x[2797] * 10 + x[2798] * 10 + x[2799] * 7 + x[2800] * 24 + x[2801] * 27 + x[2802] * 31 + x[2803] * 29 + x[2804] * 13 + x[2805] * 5 + x[2806] * 25 + x[2807] * 29 + x[2808] * 24 + x[2809] * 19 + x[2810] * 7 + x[2811] * 20 + x[2812] * 35 + x[2813] * 9 + x[2814] * 29 + x[2815] * 14 + x[2816] * 8 + x[2817] * 19 + x[2818] * 10 + x[2819] * 30 + x[2820] * 25 + x[2821] * 41 + x[2822] * 18 + x[2823] * 29 + x[2824] * 29 + x[2825] * 15 + x[2826] * 19 + x[2827] * 7 + x[2828] * 26 + x[2829] * 19 + x[2830] * 15 + x[2831] * 26 + x[2832] * 19 + x[2833] * 19 + x[2834] * 16 + x[2835] * 30 + x[2836] * 5 + x[2837] * 2 + x[2838] * 29 + x[2839] * 3 + x[2840] * 8 + x[2841] * 11 + x[2842] * 29 + x[2843] * 10 + x[2844] * 11 + x[2845] * 23 + x[2846] * 21 + x[2847] * 26 + x[2848] * 26 + x[2849] * 10 + x[2850] * 41 + x[2851] * 27 + x[2852] * 26 + x[2853] * 14 + x[2854] * 9 + x[2855] * 25 + x[2856] * 26 + x[2857] * 16 + x[2858] * 30 + x[2859] * 31 + x[2860] * 7 + x[2861] * 17 + x[2862] * 22 + x[2863] * 24 + x[2864] * 46 + x[2865] * 14 + x[2866] * 22 + x[2867] * 3 + x[2868] * 22 + x[2869] * 10 + x[2870] * 26 + x[2871] * 27 + x[2872] * 10 + x[2873] * 7 + x[2874] * 5 + x[2875] * 9 + x[2876] * 32 + x[2877] * 23 + x[2878] * 23 + x[2879] * 23 + x[2880] * 41 + x[2881] * 10 + x[2882] * 13 + x[2883] * 10 + x[2884] * 10 + x[2885] * 30 + x[2886] * 24 + x[2887] * 33 + x[2888] * 31 + x[2889] * 29 + x[2890] * 10 + x[2891] * 25 + x[2892] * 10 + x[2893] * 35 + x[2894] * 8 + x[2895] * 10 + x[2896] * 5 + x[2897] * 10 + x[2898] * 10 + x[2899] * 10 + x[2900] * 12 + x[2901] * 29 + x[2902] * 8 + x[2903] * 10 + x[2904] * 11 + x[2905] * 10 + x[2906] * 26 + x[2907] * 10 + x[2908] * 10 + x[2909] * 10 + x[2910] * 14 + x[2911] * 52 + x[2912] * 22 + x[2913] * 10 + x[2914] * 8 + x[2915] * 20 + x[2916] * 18 + x[2917] * 4 + x[2918] * 41 + x[2919] * 17 + x[2920] * 41 + x[2921] * 6 + x[2922] * 10 + x[2923] * 28 + x[2924] * 31 + x[2925] * 21 + x[2926] * 10 + x[2927] * 21 + x[2928] * 19 + x[2929] * 25 + x[2930] * 23 + x[2931] * 26 + x[2932] * 5 + x[2933] * 13 + x[2934] * 25 + x[2935] * 14 + x[2936] * 27 + x[2937] * 8 + x[2938] * 13 + x[2939] * 41 + x[2940] * 25 + x[2941] * 10 + x[2942] * 6 + x[2943] * 10 + x[2944] * 10 + x[2945] * 29 + x[2946] * 10 + x[2947] * 10 + x[2948] * 10 + x[2949] * 29 + x[2950] * 25 + x[2951] * 12 + x[2952] * 10 + x[2953] * 31 + x[2954] * 14 + x[2955] * 7 + x[2956] * 10 + x[2957] * 14 + x[2958] * 8 + x[2959] * 25 + x[2960] * 27 + x[2961] * 31 + x[2962] * 10 + x[2963] * 7 + x[2964] * 10 + x[2965] * 10 + x[2966] * 5 + x[2967] * 25 + x[2968] * 10 + x[2969] * 20 + x[2970] * 25 + x[2971] * 31 + x[2972] * 8 + x[2973] * 10 + x[2974] * 29 + x[2975] * 21 + x[2976] * 7 + x[2977] * 22 + x[2978] * 4 + x[2979] * 31 + x[2980] * 13 + x[2981] * 20 + x[2982] * 10 + x[2983] * 27 + x[2984] * 5 + x[2985] * 10 + x[2986] * 32 + x[2987] * 21 + x[2988] * 21 + x[2989] * 21 + x[2990] * 22 + x[2991] * 25 + x[2992] * 10 + x[2993] * 35 + x[2994] * 26 + x[2995] * 25 + x[2996] * 10 + x[2997] * 7 + x[2998] * 25 + x[2999] * 26 + x[3000] * 23 + x[3001] * 10 + x[3002] * 30 + x[3003] * 10 + x[3004] * 25 + x[3005] * 23 + x[3006] * 41 + x[3007] * 18 + x[3008] * 10 + x[3009] * 10 + x[3010] * 10 + x[3011] * 24 + x[3012] * 14 + x[3013] * 21 + x[3014] * 41 + x[3015] * 10 + x[3016] * 41 + x[3017] * 10 + x[3018] * 10 + x[3019] * 21 + x[3020] * 14 + x[3021] * 18 + x[3022] * 10 + x[3023] * 13 + x[3024] * 21 + x[3025] * 23 + x[3026] * 32 + x[3027] * 25 + x[3028] * 5 + x[3029] * 35 + x[3030] * 17 + x[3031] * 10 + x[3032] * 27 + x[3033] * 10 + x[3034] * 24 + x[3035] * 6 + x[3036] * 8 + x[3037] * 21 + x[3038] * 21 + x[3039] * 36 + x[3040] * 24 + x[3041] * 19 + x[3042] * 13 + x[3043] * 13 + x[3044] * 6 + x[3045] * 10 + x[3046] * 23 + x[3047] * 21 + x[3048] * 23 + x[3049] * 23 + x[3050] * 23 + x[3051] * 21 + x[3052] * 14 + x[3053] * 26 + x[3054] * 25 + x[3055] * 17 + x[3056] * 21 + x[3057] * 10 + x[3058] * 32 + x[3059] * 33 + x[3060] * 27 + x[3061] * 21 + x[3062] * 13 + x[3063] * 7 + x[3064] * 12 + x[3065] * 21 + x[3066] * 10 + x[3067] * 10 + x[3068] * 26 + x[3069] * 10 + x[3070] * 21 + x[3071] * 14 + x[3072] * 14 + x[3073] * 2 + x[3074] * 23 + x[3075] * 14 + x[3076] * 27 + x[3077] * 6 + x[3078] * 17 + x[3079] * 33 + x[3080] * 41 + x[3081] * 35 + x[3082] * 17 + x[3083] * 10 + x[3084] * 14 + x[3085] * 17 + x[3086] * 10 + x[3087] * 10 + x[3088] * 8 + x[3089] * 14 + x[3090] * 41 + x[3091] * 29 + x[3092] * 18 + x[3093] * 27 + x[3094] * 26 + x[3095] * 17 + x[3096] * 21 + x[3097] * 10 + x[3098] * 15 + x[3099] * 10 + x[3100] * 25 + x[3101] * 25 + x[3102] * 23 + x[3103] * 20 + x[3104] * 12 + x[3105] * 10 + x[3106] * 18 + x[3107] * 10 + x[3108] * 10 + x[3109] * 41 + x[3110] * 27 + x[3111] * 27 + x[3112] * 8 + x[3113] * 20 + x[3114] * 13 + x[3115] * 25 + x[3116] * 10 + x[3117] * 29 + x[3118] * 31 + x[3119] * 24 + x[3120] * 27 + x[3121] * 20 + x[3122] * 12 + x[3123] * 10 + x[3124] * 10 + x[3125] * 18 + x[3126] * 27 + x[3127] * 29 + x[3128] * 13 + x[3129] * 13 + x[3130] * 27 + x[3131] * 29 + x[3132] * 21 + x[3133] * 10 + x[3134] * 17 + x[3135] * 24 + x[3136] * 10 + x[3137] * 15 + x[3138] * 23 + x[3139] * 10 + x[3140] * 10 + x[3141] * 5 + x[3142] * 35 + x[3143] * 10 + x[3144] * 10 + x[3145] * 10 + x[3146] * 10 + x[3147] * 21 + x[3148] * 27 + x[3149] * 35 + x[3150] * 32 + x[3151] * 25 + x[3152] * 10 + x[3153] * 18 + x[3154] * 26 + x[3155] * 12 + x[3156] * 29 + x[3157] * 21 + x[3158] * 18 + x[3159] * 10 + x[3160] * 25 + x[3161] * 17 + x[3162] * 13 + x[3163] * 10 + x[3164] * 41 + x[3165] * 10 + x[3166] * 10 + x[3167] * 17 + x[3168] * 10 + x[3169] * 12 + x[3170] * 20 + x[3171] * 29 + x[3172] * 13 + x[3173] * 13 + x[3174] * 13 + x[3175] * 9 + x[3176] * 26 + x[3177] * 15 + x[3178] * 10 + x[3179] * 29 + x[3180] * 30 + x[3181] * 23 + x[3182] * 21 + x[3183] * 41 + x[3184] * 29 + x[3185] * 8 + x[3186] * 10 + x[3187] * 10 + x[3188] * 22 + x[3189] * 29 + x[3190] * 27 + x[3191] * 10 + x[3192] * 27 + x[3193] * 7 + x[3194] * 26 + x[3195] * 24 + x[3196] * 39 + x[3197] * 41 + x[3198] * 41 + x[3199] * 22 + x[3200] * 20 + x[3201] * 20 + x[3202] * 26 + x[3203] * 14 + x[3204] * 25 + x[3205] * 26 + x[3206] * 29 + x[3207] * 10 + x[3208] * 30 + x[3209] * 41 + x[3210] * 41 + x[3211] * 8 + x[3212] * 13 + x[3213] * 13 + x[3214] * 41 + x[3215] * 9 + x[3216] * 26 + x[3217] * 41 + x[3218] * 22 + x[3219] * 24 + x[3220] * 3 + x[3221] * 10 + x[3222] * 10 + x[3223] * 29 + x[3224] * 26 + x[3225] * 22 + x[3226] * 41 + x[3227] * 21 + x[3228] * 10 + x[3229] * 16 + x[3230] * 18 + x[3231] * 30 + x[3232] * 25 + x[3233] * 8 + x[3234] * 41 + x[3235] * 15 + x[3236] * 27 + x[3237] * 21 + x[3238] * 35 + x[3239] * 23 + x[3240] * 5 + x[3241] * 30 + x[3242] * 14 + x[3243] * 30 + x[3244] * 20 + x[3245] * 41 + x[3246] * 16 + x[3247] * 14 + x[3248] * 14 + x[3249] * 10 + x[3250] * 41 + x[3251] * 14 + x[3252] * 25 + x[3253] * 17 + x[3254] * 27 + x[3255] * 10 + x[3256] * 14 + x[3257] * 20 + x[3258] * 14 + x[3259] * 8 + x[3260] * 7 + x[3261] * 10 + x[3262] * 23 + x[3263] * 10 + x[3264] * 21 + x[3265] * 8 + x[3266] * 14 + x[3267] * 20 + x[3268] * 4 + x[3269] * 31 + x[3270] * 22 + x[3271] * 41 + x[3272] * 41 + x[3273] * 27 + x[3274] * 41 + x[3275] * 14 + x[3276] * 25 + x[3277] * 21 + x[3278] * 9 + x[3279] * 7 + x[3280] * 41 + x[3281] * 22 + x[3282] * 41 + x[3283] * 10 + x[3284] * 25 + x[3285] * 41 + x[3286] * 18 + x[3287] * 18 + x[3288] * 17 + x[3289] * 4 + x[3290] * 11 + x[3291] * 41 + x[3292] * 10 + x[3293] * 10 + x[3294] * 25 + x[3295] * 10 + x[3296] * 9 + x[3297] * 6 + x[3298] * 26 + x[3299] * 27 + x[3300] * 10 + x[3301] * 41 + x[3302] * 23 + x[3303] * 8 + x[3304] * 18 + x[3305] * 13 + x[3306] * 10 + x[3307] * 25 + x[3308] * 33 + x[3309] * 20 + x[3310] * 29 + x[3311] * 24 + x[3312] * 21 + x[3313] * 41 + x[3314] * 27 + x[3315] * 13 + x[3316] * 14 + x[3317] * 14 + x[3318] * 25 + x[3319] * 25 + x[3320] * 34 + x[3321] * 10 + x[3322] * 22 + x[3323] * 21 + x[3324] * 27 + x[3325] * 22 + x[3326] * 22 + x[3327] * 29 + x[3328] * 21 + x[3329] * 23 + x[3330] * 27 + x[3331] * 18 + x[3332] * 14 + x[3333] * 31 + x[3334] * 14 + x[3335] * 9 + x[3336] * 14 + x[3337] * 41 + x[3338] * 24 + x[3339] * 23 + x[3340] * 31 + x[3341] * 3 + x[3342] * 27 + x[3343] * 9 + x[3344] * 8 + x[3345] * 7 + x[3346] * 3 + x[3347] * 24 + x[3348] * 26 + x[3349] * 41 + x[3350] * 8 + x[3351] * 23 + x[3352] * 22 + x[3353] * 14 + x[3354] * 7 + x[3355] * 14 + x[3356] * 45 + x[3357] * 7 + x[3358] * 35 + x[3359] * 14 + x[3360] * 18 + x[3361] * 16 + x[3362] * 22 + x[3363] * 18 + x[3364] * 14 + x[3365] * 10 + x[3366] * 35 + x[3367] * 25 + x[3368] * 27 + x[3369] * 17 + x[3370] * 17 + x[3371] * 10 + x[3372] * 13 + x[3373] * 25 + x[3374] * 23 + x[3375] * 24 + x[3376] * 17 + x[3377] * 22 + x[3378] * 18 + x[3379] * 17 + x[3380] * 20 + x[3381] * 21 + x[3382] * 13 + x[3383] * 3 + x[3384] * 10 + x[3385] * 13 + x[3386] * 10 + x[3387] * 29 + x[3388] * 10 + x[3389] * 13 + x[3390] * 35 + x[3391] * 10 + x[3392] * 27 + x[3393] * 29 + x[3394] * 41 + x[3395] * 39 + x[3396] * 10 + x[3397] * 6 + x[3398] * 10 + x[3399] * 5 + x[3400] * 24 + x[3401] * 26 + x[3402] * 21 + x[3403] * 14 + x[3404] * 8 + x[3405] * 10 + x[3406] * 23 + x[3407] * 18 + x[3408] * 18 + x[3409] * 26 + x[3410] * 25 + x[3411] * 8 + x[3412] * 27 + x[3413] * 23 + x[3414] * 24 + x[3415] * 25 + x[3416] * 41 + x[3417] * 22 + x[3418] * 28 + x[3419] * 17 + x[3420] * 25 + x[3421] * 12 + x[3422] * 12 + x[3423] * 27 + x[3424] * 13 + x[3425] * 10 + x[3426] * 26 + x[3427] * 13 + x[3428] * 6 + x[3429] * 9 + x[3430] * 27 + x[3431] * 27 + x[3432] * 27 + x[3433] * 41 + x[3434] * 22 + x[3435] * 27 + x[3436] * 10 + x[3437] * 19 + x[3438] * 26 + x[3439] * 5 + x[3440] * 18 + x[3441] * 24 + x[3442] * 41 + x[3443] * 12 + x[3444] * 41 + x[3445] * 27 + x[3446] * 4 + x[3447] * 25 + x[3448] * 25 + x[3449] * 22 + x[3450] * 30 + x[3451] * 23 + x[3452] * 14 + x[3453] * 13 + x[3454] * 13 + x[3455] * 26 + x[3456] * 23 + x[3457] * 14 + x[3458] * 41 + x[3459] * 9 + x[3460] * 11 + x[3461] * 18 + x[3462] * 9 + x[3463] * 22 + x[3464] * 10 + x[3465] * 18 + x[3466] * 14 + x[3467] * 26 + x[3468] * 25 + x[3469] * 20 + x[3470] * 28 + x[3471] * 39 + x[3472] * 7 + x[3473] * 14 + x[3474] * 17 + x[3475] * 17 + x[3476] * 22 + x[3477] * 21 + x[3478] * 10 + x[3479] * 22 + x[3480] * 27 + x[3481] * 10 + x[3482] * 29 + x[3483] * 14 + x[3484] * 25 + x[3485] * 23 + x[3486] * 23 + x[3487] * 27 + x[3488] * 27 + x[3489] * 25 + x[3490] * 23 + x[3491] * 24 + x[3492] * 21 + x[3493] * 8 + x[3494] * 18 + x[3495] * 24 + x[3496] * 14 + x[3497] * 35 + x[3498] * 32 + x[3499] * 18 + x[3500] * 21 + x[3501] * 27 + x[3502] * 4 + x[3503] * 10 + x[3504] * 24 + x[3505] * 31 + x[3506] * 29 + x[3507] * 14 + x[3508] * 8 + x[3509] * 13 + x[3510] * 41 + x[3511] * 24 + x[3512] * 10 + x[3513] * 14 + x[3514] * 41 + x[3515] * 27 + x[3516] * 12 + x[3517] * 27 + x[3518] * 15 + x[3519] * 43 + x[3520] * 24 + x[3521] * 15 + x[3522] * 22 + x[3523] * 27 + x[3524] * 41 + x[3525] * 23 + x[3526] * 10 + x[3527] * 24 + x[3528] * 11 + x[3529] * 23 + x[3530] * 31 + x[3531] * 41 + x[3532] * 23 + x[3533] * 21 + x[3534] * 27 + x[3535] * 22 + x[3536] * 41 + x[3537] * 27 + x[3538] * 12 + x[3539] * 25 + x[3540] * 27 + x[3541] * 35 + x[3542] * 27 + x[3543] * 21 + x[3544] * 25 + x[3545] * 30 + x[3546] * 9 + x[3547] * 10 + x[3548] * 7 + x[3549] * 10 + x[3550] * 11 + x[3551] * 15 + x[3552] * 11 + x[3553] * 8 + x[3554] * 17 + x[3555] * 8 + x[3556] * 18 + x[3557] * 21 + x[3558] * 14 + x[3559] * 13 + x[3560] * 33 + x[3561] * 17 + x[3562] * 17 + x[3563] * 4 + x[3564] * 7 + x[3565] * 13 + x[3566] * 17 + x[3567] * 21 + x[3568] * 10 + x[3569] * 35 + x[3570] * 35 + x[3571] * 12 + x[3572] * 14 + x[3573] * 25 + x[3574] * 14 + x[3575] * 7 + x[3576] * 31 + x[3577] * 9 + x[3578] * 17 + x[3579] * 9 + x[3580] * 11 + x[3581] * 13 + x[3582] * 13 + x[3583] * 10 + x[3584] * 9 + x[3585] * 11 + x[3586] * 13 + x[3587] * 27 + x[3588] * 21 + x[3589] * 14 + x[3590] * 13 + x[3591] * 13 + x[3592] * 4 + x[3593] * 15 + x[3594] * 21 + x[3595] * 14 + x[3596] * 7 + x[3597] * 5 + x[3598] * 27 + x[3599] * 13 + x[3600] * 31 + x[3601] * 13 + x[3602] * 6 + x[3603] * 20 + x[3604] * 13 + x[3605] * 24 + x[3606] * 27 + x[3607] * 27 + x[3608] * 13 + x[3609] * 13 + x[3610] * 9 + x[3611] * 13 + x[3612] * 29 + x[3613] * 13 + x[3614] * 14 + x[3615] * 18 + x[3616] * 13 + x[3617] * 22 + x[3618] * 21 + x[3619] * 19 + x[3620] * 4 + x[3621] * 19 + x[3622] * 9 + x[3623] * 24 + x[3624] * 20 + x[3625] * 12 + x[3626] * 14 + x[3627] * 14 + x[3628] * 13 + x[3629] * 10 + x[3630] * 28 + x[3631] * 41 + x[3632] * 18 + x[3633] * 13 + x[3634] * 24 + x[3635] * 27 + x[3636] * 27 + x[3637] * 27 + x[3638] * 10 + x[3639] * 13 + x[3640] * 41 + x[3641] * 17 + x[3642] * 14 + x[3643] * 13 + x[3644] * 25 + x[3645] * 3 + x[3646] * 13 + x[3647] * 12 + x[3648] * 12 + x[3649] * 18 + x[3650] * 17 + x[3651] * 29 + x[3652] * 15 + x[3653] * 10 + x[3654] * 25 + x[3655] * 22 + x[3656] * 27 + x[3657] * 10 + x[3658] * 8 + x[3659] * 39 + x[3660] * 13 + x[3661] * 8 + x[3662] * 13 + x[3663] * 29 + x[3664] * 26 + x[3665] * 24 + x[3666] * 13 + x[3667] * 10 + x[3668] * 30 + x[3669] * 27 + x[3670] * 8 + x[3671] * 41 + x[3672] * 16 + x[3673] * 10 + x[3674] * 8 + x[3675] * 20 + x[3676] * 10 + x[3677] * 22 + x[3678] * 13 + x[3679] * 39 + x[3680] * 39 + x[3681] * 14 + x[3682] * 9 + x[3683] * 13 + x[3684] * 41 + x[3685] * 12 + x[3686] * 41 + x[3687] * 22 + x[3688] * 13 + x[3689] * 27 + x[3690] * 20 + x[3691] * 27 + x[3692] * 15 + x[3693] * 16 + x[3694] * 25 + x[3695] * 13 + x[3696] * 18 + x[3697] * 13 + x[3698] * 32 + x[3699] * 41 + x[3700] * 24 + x[3701] * 17 + x[3702] * 16 + x[3703] * 39 + x[3704] * 27 + x[3705] * 27 + x[3706] * 27 + x[3707] * 21 + x[3708] * 24 + x[3709] * 13 + x[3710] * 13 + x[3711] * 16 + x[3712] * 23 + x[3713] * 21 + x[3714] * 22 + x[3715] * 14 + x[3716] * 22 + x[3717] * 27 + x[3718] * 14 + x[3719] * 20 + x[3720] * 41 + x[3721] * 24 + x[3722] * 27 + x[3723] * 7 + x[3724] * 23 + x[3725] * 4 + x[3726] * 14 + x[3727] * 27 + x[3728] * 10 + x[3729] * 10 + x[3730] * 10 + x[3731] * 21 + x[3732] * 26 + x[3733] * 14 + x[3734] * 10 + x[3735] * 16 + x[3736] * 14 + x[3737] * 7 + x[3738] * 12 + x[3739] * 17 + x[3740] * 6 + x[3741] * 23 + x[3742] * 14 + x[3743] * 7 + x[3744] * 12 + x[3745] * 15 + x[3746] * 15 + x[3747] * 13 + x[3748] * 8 + x[3749] * 14 + x[3750] * 7 + x[3751] * 14 + x[3752] * 7 + x[3753] * 10 + x[3754] * 20 + x[3755] * 41 + x[3756] * 15 + x[3757] * 26 + x[3758] * 10 + x[3759] * 3 + x[3760] * 10 + x[3761] * 18 + x[3762] * 11 + x[3763] * 24 + x[3764] * 21 + x[3765] * 17 + x[3766] * 16 + x[3767] * 15 + x[3768] * 10 + x[3769] * 26 + x[3770] * 31 + x[3771] * 24 + x[3772] * 22 + x[3773] * 20 + x[3774] * 10 + x[3775] * 7 + x[3776] * 25 + x[3777] * 19 + x[3778] * 18 + x[3779] * 14 + x[3780] * 31 + x[3781] * 22 + x[3782] * 12 + x[3783] * 19 + x[3784] * 10 + x[3785] * 16 + x[3786] * 3 + x[3787] * 26 + x[3788] * 10 + x[3789] * 7 + x[3790] * 27 + x[3791] * 18 + x[3792] * 13 + x[3793] * 32 + x[3794] * 12 + x[3795] * 4 + x[3796] * 18 + x[3797] * 19 + x[3798] * 39 + x[3799] * 19 + x[3800] * 20 + x[3801] * 10 + x[3802] * 14 + x[3803] * 15 + x[3804] * 25 + x[3805] * 14 + x[3806] * 17 + x[3807] * 10 + x[3808] * 7 + x[3809] * 4 + x[3810] * 13 + x[3811] * 8 + x[3812] * 26 + x[3813] * 24 + x[3814] * 14 + x[3815] * 10 + x[3816] * 10 + x[3817] * 14 + x[3818] * 8 + x[3819] * 41 + x[3820] * 27 + x[3821] * 14 + x[3822] * 12 + x[3823] * 31 + x[3824] * 14 + x[3825] * 27 + x[3826] * 27 + x[3827] * 23 + x[3828] * 4 + x[3829] * 10 + x[3830] * 13 + x[3831] * 7 + x[3832] * 41 + x[3833] * 41 + x[3834] * 27 + x[3835] * 4 + x[3836] * 7 + x[3837] * 41 + x[3838] * 10 + x[3839] * 10 + x[3840] * 25 + x[3841] * 13 + x[3842] * 27 + x[3843] * 24 + x[3844] * 27 + x[3845] * 8 + x[3846] * 6 + x[3847] * 27 + x[3848] * 27 + x[3849] * 12 + x[3850] * 35 + x[3851] * 41 + x[3852] * 9 + x[3853] * 15 + x[3854] * 29 + x[3855] * 10 + x[3856] * 41 + x[3857] * 29 + x[3858] * 18 + x[3859] * 21 + x[3860] * 18 + x[3861] * 21 + x[3862] * 10 + x[3863] * 28 + x[3864] * 27 + x[3865] * 14 + x[3866] * 14 + x[3867] * 19 + x[3868] * 27 + x[3869] * 25 + x[3870] * 10 + x[3871] * 24 + x[3872] * 26 + x[3873] * 10 + x[3874] * 22 + x[3875] * 19 + x[3876] * 7 + x[3877] * 23 + x[3878] * 41 + x[3879] * 17 + x[3880] * 10 + x[3881] * 9 + x[3882] * 12 + x[3883] * 41 + x[3884] * 10 + x[3885] * 41 + x[3886] * 25 + x[3887] * 27 + x[3888] * 25 + x[3889] * 15 + x[3890] * 10 + x[3891] * 28 + x[3892] * 9 + x[3893] * 26 + x[3894] * 21 + x[3895] * 18 + x[3896] * 39 + x[3897] * 25 + x[3898] * 30 + x[3899] * 41 + x[3900] * 24 + x[3901] * 30 + x[3902] * 22 + x[3903] * 25 + x[3904] * 14 + x[3905] * 14 + x[3906] * 13 + x[3907] * 25 + x[3908] * 35 + x[3909] * 21 + x[3910] * 31 + x[3911] * 21 + x[3912] * 24 + x[3913] * 8 + x[3914] * 13 + x[3915] * 10 + x[3916] * 13 + x[3917] * 10 + x[3918] * 41 + x[3919] * 13 + x[3920] * 25 + x[3921] * 18 + x[3922] * 39 + x[3923] * 10 + x[3924] * 10 + x[3925] * 19 + x[3926] * 27 + x[3927] * 25 + x[3928] * 5 + x[3929] * 11 + x[3930] * 4 + x[3931] * 4 + x[3932] * 19 + x[3933] * 27 + x[3934] * 25 + x[3935] * 17 + x[3936] * 39 + x[3937] * 27 + x[3938] * 27 + x[3939] * 29 + x[3940] * 12 + x[3941] * 12 + x[3942] * 29 + x[3943] * 8 + x[3944] * 29 + x[3945] * 25 + x[3946] * 25 + x[3947] * 41 + x[3948] * 14 + x[3949] * 27 + x[3950] * 25 + x[3951] * 27 + x[3952] * 24 + x[3953] * 23 + x[3954] * 27 + x[3955] * 23 + x[3956] * 29 + x[3957] * 19 + x[3958] * 27 + x[3959] * 27 + x[3960] * 12 + x[3961] * 20 + x[3962] * 13 + x[3963] * 23 + x[3964] * 10 + x[3965] * 25 + x[3966] * 27 + x[3967] * 12 + x[3968] * 29 + x[3969] * 39 + x[3970] * 13 + x[3971] * 23 + x[3972] * 8 + x[3973] * 10 + x[3974] * 16 + x[3975] * 9 + x[3976] * 10 + x[3977] * 27 + x[3978] * 10 + x[3979] * 27 + x[3980] * 10 + x[3981] * 22 + x[3982] * 22 + x[3983] * 24 + x[3984] * 16 + x[3985] * 12 + x[3986] * 14 + x[3987] * 20 + x[3988] * 7 + x[3989] * 14 + x[3990] * 15 + x[3991] * 27 + x[3992] * 10 + x[3993] * 6 + x[3994] * 7 + x[3995] * 29 + x[3996] * 41 + x[3997] * 8 + x[3998] * 5 + x[3999] * 10 + x[4000] * 25 + x[4001] * 17 + x[4002] * 20 + x[4003] * 10 + x[4004] * 41 + x[4005] * 19 + x[4006] * 10 + x[4007] * 13 + x[4008] * 13 + x[4009] * 18 + x[4010] * 41 + x[4011] * 31 + x[4012] * 12 + x[4013] * 28 + x[4014] * 32 + x[4015] * 10 + x[4016] * 25 + x[4017] * 41 + x[4018] * 27 + x[4019] * 19 + x[4020] * 7 + x[4021] * 33 + x[4022] * 24 + x[4023] * 22 + x[4024] * 29 + x[4025] * 10 + x[4026] * 7 + x[4027] * 16 + x[4028] * 37 + x[4029] * 22 + x[4030] * 8 + x[4031] * 8 + x[4032] * 8 + x[4033] * 8 + x[4034] * 8 + x[4035] * 41 + x[4036] * 15 + x[4037] * 23 + x[4038] * 13 + x[4039] * 24 + x[4040] * 20 + x[4041] * 27 + x[4042] * 23 + x[4043] * 7 + x[4044] * 10 + x[4045] * 27 + x[4046] * 27 + x[4047] * 37 + x[4048] * 37 + x[4049] * 37 + x[4050] * 14 + x[4051] * 37 + x[4052] * 37 + x[4053] * 23 + x[4054] * 31 + x[4055] * 29 + x[4056] * 27 + x[4057] * 10 + x[4058] * 37 + x[4059] * 22 + x[4060] * 10 + x[4061] * 23 + x[4062] * 16 + x[4063] * 27 + x[4064] * 14 + x[4065] * 9 + x[4066] * 37 + x[4067] * 25 + x[4068] * 37 + x[4069] * 10 + x[4070] * 14 + x[4071] * 18 + x[4072] * 37 + x[4073] * 27 + x[4074] * 17 + x[4075] * 27 + x[4076] * 17 + x[4077] * 10 + x[4078] * 27 + x[4079] * 27 + x[4080] * 24 + x[4081] * 7 + x[4082] * 23 + x[4083] * 27 + x[4084] * 27 + x[4085] * 27 + x[4086] * 26 + x[4087] * 22 + x[4088] * 37 + x[4089] * 26 + x[4090] * 25 + x[4091] * 10 + x[4092] * 11 + x[4093] * 37 + x[4094] * 8 + x[4095] * 37 + x[4096] * 13 + x[4097] * 23 + x[4098] * 24 + x[4099] * 32 + x[4100] * 21 + x[4101] * 24 + x[4102] * 24 + x[4103] * 22 + x[4104] * 21 + x[4105] * 24 + x[4106] * 27 + x[4107] * 27 + x[4108] * 31 + x[4109] * 27 + x[4110] * 37 + x[4111] * 27 + x[4112] * 9 + x[4113] * 27 + x[4114] * 17 + x[4115] * 24 + x[4116] * 24 + x[4117] * 25 + x[4118] * 20 + x[4119] * 24 + x[4120] * 24 + x[4121] * 15 + x[4122] * 41 + x[4123] * 24 + x[4124] * 13 + x[4125] * 3 + x[4126] * 27 + x[4127] * 37 + x[4128] * 12 + x[4129] * 10 + x[4130] * 14 + x[4131] * 14 + x[4132] * 25 + x[4133] * 29 + x[4134] * 25 + x[4135] * 9 + x[4136] * 30 + x[4137] * 41 + x[4138] * 24 + x[4139] * 20 + x[4140] * 41 + x[4141] * 24 + x[4142] * 37 + x[4143] * 41 + x[4144] * 10 + x[4145] * 10 + x[4146] * 8 + x[4147] * 16 + x[4148] * 26 + x[4149] * 17 + x[4150] * 21 + x[4151] * 21 + x[4152] * 21 + x[4153] * 10 + x[4154] * 35 + x[4155] * 22 + x[4156] * 22 + x[4157] * 37 + x[4158] * 10 + x[4159] * 26 + x[4160] * 13 + x[4161] * 37 + x[4162] * 10 + x[4163] * 23 + x[4164] * 10 + x[4165] * 9 + x[4166] * 26 + x[4167] * 26 + x[4168] * 10 + x[4169] * 25 + x[4170] * 20 + x[4171] * 24 + x[4172] * 26 + x[4173] * 27 + x[4174] * 27 + x[4175] * 27 + x[4176] * 39 + x[4177] * 41 + x[4178] * 27 + x[4179] * 25 + x[4180] * 27 + x[4181] * 10 + x[4182] * 27 + x[4183] * 27 + x[4184] * 4 + x[4185] * 37 + x[4186] * 22 + x[4187] * 41 + x[4188] * 10 + x[4189] * 25 + x[4190] * 24 + x[4191] * 18 + x[4192] * 28 + x[4193] * 21 + x[4194] * 41 + x[4195] * 27 + x[4196] * 35 + x[4197] * 29 + x[4198] * 24 + x[4199] * 27 + x[4200] * 25 + x[4201] * 18 + x[4202] * 21 + x[4203] * 16 + x[4204] * 11 + x[4205] * 13 + x[4206] * 25 + x[4207] * 13 + x[4208] * 21 + x[4209] * 37 + x[4210] * 19 + x[4211] * 41 + x[4212] * 15 + x[4213] * 41 + x[4214] * 26 + x[4215] * 10 + x[4216] * 7 + x[4217] * 21 + x[4218] * 26 + x[4219] * 26 + x[4220] * 10 + x[4221] * 19 + x[4222] * 10 + x[4223] * 10 + x[4224] * 24 + x[4225] * 25 + x[4226] * 27 + x[4227] * 7 + x[4228] * 24 + x[4229] * 12 + x[4230] * 39 + x[4231] * 6 + x[4232] * 41 + x[4233] * 25 + x[4234] * 27 + x[4235] * 34 + x[4236] * 5 + x[4237] * 14 + x[4238] * 11 + x[4239] * 18 + x[4240] * 37 + x[4241] * 21 + x[4242] * 14 + x[4243] * 27 + x[4244] * 26 + x[4245] * 39 + x[4246] * 37 + x[4247] * 30 + x[4248] * 17 + x[4249] * 29 + x[4250] * 14 + x[4251] * 24 + x[4252] * 27 + x[4253] * 39 + x[4254] * 14 + x[4255] * 21 + x[4256] * 8 + x[4257] * 26 + x[4258] * 27 + x[4259] * 30 + x[4260] * 10 + x[4261] * 25 + x[4262] * 12 + x[4263] * 22 + x[4264] * 27 + x[4265] * 10 + x[4266] * 30 + x[4267] * 12 + x[4268] * 15 + x[4269] * 24 + x[4270] * 2 + x[4271] * 27 + x[4272] * 13 + x[4273] * 27 + x[4274] * 13 + x[4275] * 24 + x[4276] * 26 + x[4277] * 39 + x[4278] * 25 + x[4279] * 10 + x[4280] * 14 + x[4281] * 13 + x[4282] * 20 + x[4283] * 18 + x[4284] * 15 + x[4285] * 27 + x[4286] * 41 + x[4287] * 14 + x[4288] * 13 + x[4289] * 41 + x[4290] * 37 + x[4291] * 27 + x[4292] * 10 + x[4293] * 11 + x[4294] * 27 + x[4295] * 13 + x[4296] * 30 + x[4297] * 33 + x[4298] * 24 + x[4299] * 15 + x[4300] * 22 + x[4301] * 41 + x[4302] * 8 + x[4303] * 39 + x[4304] * 25 + x[4305] * 27 + x[4306] * 7 + x[4307] * 18 + x[4308] * 26 + x[4309] * 29 + x[4310] * 27 + x[4311] * 13 + x[4312] * 41 + x[4313] * 22 + x[4314] * 37 + x[4315] * 31 + x[4316] * 13 + x[4317] * 24 + x[4318] * 27 + x[4319] * 8 + x[4320] * 12 + x[4321] * 22 + x[4322] * 14 + x[4323] * 10 + x[4324] * 10 + x[4325] * 7 + x[4326] * 12 + x[4327] * 25 + x[4328] * 27 + x[4329] * 18 + x[4330] * 17 + x[4331] * 41 + x[4332] * 15 + x[4333] * 19 + x[4334] * 41 + x[4335] * 10 + x[4336] * 13 + x[4337] * 39 + x[4338] * 41 + x[4339] * 9 + x[4340] * 17 + x[4341] * 21 + x[4342] * 32 + x[4343] * 14 + x[4344] * 26 + x[4345] * 8 + x[4346] * 23 + x[4347] * 41 + x[4348] * 27 + x[4349] * 19 + x[4350] * 25 + x[4351] * 27 + x[4352] * 37 + x[4353] * 9 + x[4354] * 15 + x[4355] * 27 + x[4356] * 8 + x[4357] * 41 + x[4358] * 27 + x[4359] * 37 + x[4360] * 20 + x[4361] * 23 + x[4362] * 27 + x[4363] * 28 + x[4364] * 27 + x[4365] * 15 + x[4366] * 10 + x[4367] * 24 + x[4368] * 30 + x[4369] * 13 + x[4370] * 14 + x[4371] * 20 + x[4372] * 37 + x[4373] * 10 + x[4374] * 14 + x[4375] * 7 + x[4376] * 7 + x[4377] * 7 + x[4378] * 26 + x[4379] * 37 + x[4380] * 7 + x[4381] * 25 + x[4382] * 23 + x[4383] * 7 + x[4384] * 29 + x[4385] * 4 + x[4386] * 8 + x[4387] * 13 + x[4388] * 7 + x[4389] * 13 + x[4390] * 7 + x[4391] * 35 + x[4392] * 14 + x[4393] * 11 + x[4394] * 23 + x[4395] * 26 + x[4396] * 7 + x[4397] * 27 + x[4398] * 7 + x[4399] * 37 + x[4400] * 29 + x[4401] * 13 + x[4402] * 27 + x[4403] * 7 + x[4404] * 27 + x[4405] * 27 + x[4406] * 10 + x[4407] * 27 + x[4408] * 25 + x[4409] * 26 + x[4410] * 22 + x[4411] * 18 + x[4412] * 20 + x[4413] * 26 + x[4414] * 23 + x[4415] * 25 + x[4416] * 4 + x[4417] * 27 + x[4418] * 37 + x[4419] * 27 + x[4420] * 13 + x[4421] * 41 + x[4422] * 10 + x[4423] * 22 + x[4424] * 10 + x[4425] * 29 + x[4426] * 41 + x[4427] * 8 + x[4428] * 23 + x[4429] * 23 + x[4430] * 26 + x[4431] * 3 + x[4432] * 24 + x[4433] * 23 + x[4434] * 2 + x[4435] * 37 + x[4436] * 10 + x[4437] * 23 + x[4438] * 12 + x[4439] * 18 + x[4440] * 6 + x[4441] * 37 + x[4442] * 13 + x[4443] * 26 + x[4444] * 41 + x[4445] * 20 + x[4446] * 27 + x[4447] * 10 + x[4448] * 27 + x[4449] * 27 + x[4450] * 7 + x[4451] * 27 + x[4452] * 27 + x[4453] * 41 + x[4454] * 29 + x[4455] * 41 + x[4456] * 21 + x[4457] * 15 + x[4458] * 24 + x[4459] * 27 + x[4460] * 10 + x[4461] * 27 + x[4462] * 14 + x[4463] * 18 + x[4464] * 27 + x[4465] * 41 + x[4466] * 7 + x[4467] * 14 + x[4468] * 10 + x[4469] * 14 + x[4470] * 12 + x[4471] * 7 + x[4472] * 12 + x[4473] * 27 + x[4474] * 24 + x[4475] * 21 + x[4476] * 18 + x[4477] * 12 + x[4478] * 12 + x[4479] * 15 + x[4480] * 15 + x[4481] * 17 + x[4482] * 19 + x[4483] * 32 + x[4484] * 16 + x[4485] * 19 + x[4486] * 22 + x[4487] * 23 + x[4488] * 18 + x[4489] * 22 + x[4490] * 14 + x[4491] * 16 + x[4492] * 17 + x[4493] * 18 + x[4494] * 18 + x[4495] * 16 + x[4496] * 17 + x[4497] * 14 + x[4498] * 14 + x[4499] * 16 + x[4500] * 18 + x[4501] * 16 + x[4502] * 18 + x[4503] * 14 + x[4504] * 17 + x[4505] * 19 + x[4506] * 14 + x[4507] * 21 + x[4508] * 16 + x[4509] * 19 + x[4510] * 4 + x[4511] * 18 + x[4512] * 20 + x[4513] * 14 + x[4514] * 14 + x[4515] * 17 + x[4516] * 17 + x[4517] * 16 + x[4518] * 21 + x[4519] * 17 + x[4520] * 19 + x[4521] * 14 + x[4522] * 15 + x[4523] * 16 + x[4524] * 16 + x[4525] * 17 + x[4526] * 18 + x[4527] * 14 + x[4528] * 14 + x[4529] * 15 + x[4530] * 15 + x[4531] * 14 + x[4532] * 15 + x[4533] * 17 + x[4534] * 14 + x[4535] * 16 + x[4536] * 17 + x[4537] * 18 + x[4538] * 21 + x[4539] * 24 + x[4540] * 22 + x[4541] * 26 + x[4542] * 13 + x[4543] * 27 + x[4544] * 10 + x[4545] * 28 + x[4546] * 24 + x[4547] * 19 + x[4548] * 15 + x[4549] * 24 + x[4550] * 18 + x[4551] * 21 + x[4552] * 21 + x[4553] * 22 + x[4554] * 21 + x[4555] * 26 + x[4556] * 17 + x[4557] * 19 + x[4558] * 27 + x[4559] * 7 + x[4560] * 27 + x[4561] * 25 + x[4562] * 8 + x[4563] * 12 + x[4564] * 35 + x[4565] * 26 + x[4566] * 20 + x[4567] * 26 + x[4568] * 27 + x[4569] * 13 + x[4570] * 37 + x[4571] * 23 + x[4572] * 7 + x[4573] * 25 + x[4574] * 41 + x[4575] * 24 + x[4576] * 20 + x[4577] * 41 + x[4578] * 21 + x[4579] * 10 + x[4580] * 13 + x[4581] * 22 + x[4582] * 11 + x[4583] * 24 + x[4584] * 26 + x[4585] * 18 + x[4586] * 12 + x[4587] * 27 + x[4588] * 24 + x[4589] * 27 + x[4590] * 37 + x[4591] * 30 + x[4592] * 24 + x[4593] * 10 + x[4594] * 29 + x[4595] * 25 + x[4596] * 37 + x[4597] * 25 + x[4598] * 12 + x[4599] * 16 + x[4600] * 23 + x[4601] * 27 + x[4602] * 24 + x[4603] * 30 + x[4604] * 23 + x[4605] * 27 + x[4606] * 14 + x[4607] * 25 + x[4608] * 27 + x[4609] * 14 + x[4610] * 20 + x[4611] * 17 + x[4612] * 15 + x[4613] * 12 + x[4614] * 37 + x[4615] * 27 + x[4616] * 37 + x[4617] * 26 + x[4618] * 25 + x[4619] * 20 + x[4620] * 9 + x[4621] * 7 + x[4622] * 27 + x[4623] * 20 + x[4624] * 23 + x[4625] * 37 + x[4626] * 22 + x[4627] * 8 + x[4628] * 29 + x[4629] * 10 + x[4630] * 25 + x[4631] * 7 + x[4632] * 41 + x[4633] * 27 + x[4634] * 27 + x[4635] * 27 + x[4636] * 24 + x[4637] * 9 + x[4638] * 29 + x[4639] * 23 + x[4640] * 9 + x[4641] * 23 + x[4642] * 25 + x[4643] * 24 + x[4644] * 26 + x[4645] * 41 + x[4646] * 7 + x[4647] * 26 + x[4648] * 20 + x[4649] * 27 + x[4650] * 27 + x[4651] * 35 + x[4652] * 27 + x[4653] * 24 + x[4654] * 27 + x[4655] * 5 + x[4656] * 27 + x[4657] * 13 + x[4658] * 41 + x[4659] * 13 + x[4660] * 17 + x[4661] * 17 + x[4662] * 41 + x[4663] * 33 + x[4664] * 4 + x[4665] * 11 + x[4666] * 22 + x[4667] * 14 + x[4668] * 22 + x[4669] * 35 + x[4670] * 14 + x[4671] * 12 + x[4672] * 20 + x[4673] * 25 + x[4674] * 8 + x[4675] * 24 + x[4676] * 18 + x[4677] * 17 + x[4678] * 8 + x[4679] * 24 + x[4680] * 37 + x[4681] * 13 + x[4682] * 33 + x[4683] * 23 + x[4684] * 21 + x[4685] * 27 + x[4686] * 22 + x[4687] * 24 + x[4688] * 37 + x[4689] * 27 + x[4690] * 19 + x[4691] * 26 + x[4692] * 12 + x[4693] * 13 + x[4694] * 24 + x[4695] * 33 + x[4696] * 20 + x[4697] * 37 + x[4698] * 22 + x[4699] * 24 + x[4700] * 18 + x[4701] * 28 + x[4702] * 37 + x[4703] * 41 + x[4704] * 7 + x[4705] * 23 + x[4706] * 24 + x[4707] * 22 + x[4708] * 21 + x[4709] * 24 + x[4710] * 7 + x[4711] * 28 + x[4712] * 14 + x[4713] * 22 + x[4714] * 27 + x[4715] * 10 + x[4716] * 27 + x[4717] * 25 + x[4718] * 22 + x[4719] * 19 + x[4720] * 24 + x[4721] * 27 + x[4722] * 27 + x[4723] * 24 + x[4724] * 14 + x[4725] * 25 + x[4726] * 20 + x[4727] * 27 + x[4728] * 27 + x[4729] * 18 + x[4730] * 14 + x[4731] * 22 + x[4732] * 24 + x[4733] * 23 + x[4734] * 18 + x[4735] * 24 + x[4736] * 10 + x[4737] * 23 + x[4738] * 37 + x[4739] * 27 + x[4740] * 25 + x[4741] * 28 + x[4742] * 23 + x[4743] * 10 + x[4744] * 25 + x[4745] * 41 + x[4746] * 13 + x[4747] * 27 + x[4748] * 35 + x[4749] * 7 + x[4750] * 22 + x[4751] * 35 + x[4752] * 29 + x[4753] * 14 + x[4754] * 26 + x[4755] * 37 + x[4756] * 32 + x[4757] * 22 + x[4758] * 3 + x[4759] * 14 + x[4760] * 37 + x[4761] + x[4762] * 27 + x[4763] * 16 + x[4764] * 23 + x[4765] * 27 + x[4766] * 41 <= 1000"
      ]
     },
     "execution_count": 93,
     "metadata": {},
     "output_type": "execute_result"
    }
   ],
   "source": [
    "## Maximum length of the entire tweet summary\n",
    "\n",
    "# Was 150 for the tweet summary, \n",
    "# But generated a 1000 word summary for CONABS\n",
    "L = 1000\n",
    "\n",
    "# hiding the output of this line since its a very long sum \n",
    "sum([x[i]*len(spacy_tweets[i]) for i in range(len(x))]) <= L"
   ]
  },
  {
   "cell_type": "code",
   "execution_count": 96,
   "metadata": {
    "collapsed": true
   },
   "outputs": [],
   "source": [
    "for j in range(len(y)):\n",
    "    sum([x[i] for i in tweets_with_content_words(j)])>= y[j]"
   ]
  },
  {
   "cell_type": "code",
   "execution_count": 97,
   "metadata": {
    "collapsed": true
   },
   "outputs": [],
   "source": [
    "for i in range(len(x)):\n",
    "    sum(y[j] for j in content_words(i)) >= len(content_words(i))*x[i]"
   ]
  },
  {
   "cell_type": "code",
   "execution_count": 98,
   "metadata": {},
   "outputs": [
    {
     "data": {
      "text/plain": [
       "(0,\n",
       " 'The MIP problem instance has been successfully solved. (This code\\ndoes {\\\\it not} necessarily mean that the solver has found optimal\\nsolution. It only means that the solution process was successful.)')"
      ]
     },
     "execution_count": 98,
     "metadata": {},
     "output_type": "execute_result"
    }
   ],
   "source": [
    "solve()"
   ]
  },
  {
   "cell_type": "code",
   "execution_count": 99,
   "metadata": {
    "collapsed": true
   },
   "outputs": [],
   "source": [
    "result_x =  [value.primal for value in x]\n",
    "result_y = [value.primal for value in y]"
   ]
  },
  {
   "cell_type": "code",
   "execution_count": 100,
   "metadata": {},
   "outputs": [
    {
     "data": {
      "text/plain": [
       "model('COWTS') is not the default model."
      ]
     },
     "execution_count": 100,
     "metadata": {},
     "output_type": "execute_result"
    }
   ],
   "source": [
    "end()"
   ]
  },
  {
   "cell_type": "code",
   "execution_count": 101,
   "metadata": {
    "collapsed": true
   },
   "outputs": [],
   "source": [
    "chosen_tweets = np.nonzero(result_x)\n",
    "chosen_words = np.nonzero(result_y)"
   ]
  },
  {
   "cell_type": "code",
   "execution_count": 102,
   "metadata": {},
   "outputs": [
    {
     "data": {
      "text/plain": [
       "(73, 475)"
      ]
     },
     "execution_count": 102,
     "metadata": {},
     "output_type": "execute_result"
    }
   ],
   "source": [
    "len(chosen_tweets[0]), len(chosen_words[0])"
   ]
  },
  {
   "cell_type": "code",
   "execution_count": 104,
   "metadata": {},
   "outputs": [
    {
     "name": "stdout",
     "output_type": "stream",
     "text": [
      "--------------\n",
      "1.7 magnitude earthquake. 123km NNW of Arctic Village, Alaska \n",
      "--------------\n",
      "Earthquake: Magnitude 5.3, North Atlantic Ocean \n",
      "--------------\n",
      "2019 travel goals 😍\n",
      "--------------\n",
      "@blzingarianaa Like an earthquake. ....\n",
      "--------------\n",
      "BAJU INDIA IMPO JUAL &amp; SEWA - Jual &amp; Sewa Baju India Mewah - Whats App 08111677744… \n",
      "--------------\n",
      "COMPLEX 20110730 日本一心 東日本大震災復興支援ライブ (Great East Japan Earthquake Reconstruction Support Live) \n",
      "--------------\n",
      "Update  Pesan Jokowi ke Santri: Silakan Beda Pilihan, Saring Hoaks - CNN Indonesia \n",
      "--------------\n",
      ": Worst things ever happen to Pakistan in 21st century\n",
      "2005 Earthquake\n",
      "2010 Flood \n",
      "2018 Tabdeeli\n",
      "PMGhareebMukaoScheme\n",
      "--------------\n",
      ": Mmg bener pas2an. Jalan raya aja pas2an saking bnyk yg mampu  mobil &amp; Motor.\n",
      "Tanah aja pas2an saking bnyk yg mampu beli…\n",
      "--------------\n",
      ": China's Equipment Development Department of the Central Military Commission and its director were sanctioned last month under…\n",
      "--------------\n",
      "Earthquake: Magnitude 0.7, Lake Muir area,WA \n",
      "--------------\n",
      ": 5 PILAR \n",
      "1.Pembangunan Ekonomi &amp;Peningkatan Daya Saing\n",
      "2.Peningkatan Kesejahteraan &amp;Kebijakan Afirmatif\n",
      "3.Penguatan Indonesi…\n",
      "--------------\n",
      "Sci Earthquake 'echoes' show Earth's core is solid -  USA \n",
      "--------------\n",
      ": NAMANANA - The 3rd Album on Apple Music:\n",
      "\n",
      "30 Vietnam (NE)\n",
      "36 Saudi Arabia (NE)\n",
      "42 Guatemala (NE)\n",
      "48 Azerbaijan (NE)\n",
      "57…\n",
      "--------------\n",
      "Ini Jadwal Lengkap Pertandingan Liga Champions 23-25 Oktober 2018 via @ \n",
      "--------------\n",
      "4.3 magnitude earthquake. 198 km from Tabiauan, Autonomous Region in Muslim Mindanao, Philippines \n",
      "--------------\n",
      "Algeria - 1954\n",
      "Orleansville Earthquake Relief Fund.\n",
      "\n",
      "The 1954 Chlef earthquake struck Chlef Province in Algeria on… \n",
      "--------------\n",
      "4.1 earthquake, Roshtqal'a, Tajikistan, 22 Oct., 3:25 am, 152 mi deep, at 37.138°,71.977° \n",
      "--------------\n",
      "@NewHopeGeorge 2.17 am from indonesia, how about u?\n",
      "--------------\n",
      ": Yogyakarta Jadi Tuan Rumah Konferensi Hutan Hujan Asia Pasifik (Berita Politik Hijau) -  \n",
      "--------------\n",
      "17:00:29 Seismic intensity 1 Chiba Earthquake \n",
      "--------------\n",
      "Florida a week after hurricane vs Iran Kermanshah a year after earthquake \n",
      "--------------\n",
      ": 17.Grasberg adalah US$15/ton x (23.526 x 10^9 ton) = US$352.89 miliar adalah denda yg harus dibayar PT FreePort Indonesia…\n",
      "--------------\n",
      "Magnitude 5.1 earthquake shakes Trinidad and Tobago | Caribbean News Service \n",
      "--------------\n",
      ": 2100 deaths, 4612 severely injured, 9642 mild injuries and 5000+ missing.\n",
      "Al-Khair Teams delivering aid in Indonesia. Plea…\n",
      "--------------\n",
      "Sejak 17 desember 1949 Presiden Indonesia Kunjungi Keraton Yogyakarta   Pray4Donggala Pray4Mamuju Pray4Sigi… \n",
      "--------------\n",
      "Magnitude 1.1 earthquake, 30.1 km SW of Hawthorne, NV \n",
      "--------------\n",
      ": JUST IN. says 4.3-magnitude earthquake jolts Sarangani, Davao Occidental at 6:53 p.m. Sunday. \n",
      "--------------\n",
      "Ashland CE trainees practice earthquake simulation \n",
      "--------------\n",
      "@xxlfunny1 Earthquake\n",
      "--------------\n",
      "Sismo Temblor en Manabi earthquake \n",
      "--------------\n",
      "Keselarasan Laporan Audit Bank Syariah: News Satu, Kota Depok, Senin 22 Oktober 2018- Dunia perbankan telah mengala… \n",
      "--------------\n",
      "2.6 magnitude earthquake. 72 km from West Yellowstone, MT, United States \n",
      "--------------\n",
      "7 min.ago earthquake 5.6 has hit Guayas, Ecuador, 17.4mi, 5:08 PM EDT (IGEPN)  \n",
      "--------------\n",
      "4.0-magnitude earthquake rattles Texas Panhandle\n",
      " \n",
      "--------------\n",
      "Terremoto Chile 8.2º MW abril 2014 - Earthquake Chile 8.2ºMW April 2014:  a través de\n",
      "--------------\n",
      "Earthquake 4:50pm\n",
      "--------------\n",
      "Earthquake again😐\n",
      "--------------\n",
      "Know mi feel a earthquake\n",
      "--------------\n",
      "Earthquake every other Sunday\n",
      "--------------\n",
      ": Ministry of Marine Affairs &amp; Fisheries (KKP) and Ministry of Law and Human Rights (Kemenkumham) Rep.of Indonesia Partic…\n",
      "--------------\n",
      "Another earthquake Kingston\n",
      "--------------\n",
      "Earthquake dem a prepare for that grand finale\n",
      "--------------\n",
      "🌊🌊Red Island,Banyuwangi - (Indonesia) \n",
      "--------------\n",
      "Earthquake Sunday’s 😫\n",
      "--------------\n",
      "One day I will travel the world 🌍✈️❤️\n",
      "--------------\n",
      "Siiplah number one trs👍\n",
      "--------------\n",
      "Yaad a get so much quake, lord bless my island 🙏🏽\n",
      "--------------\n",
      "Tur Eropa Berlanjut, 15 Wakil Indonesia Dijadwalkan Beraksi di French Open 2018 \n",
      "--------------\n",
      "San Jose Earthquake 0-0 Colorado Rapids \n",
      "--------------\n",
      "Now Ngobrol Seputar Aktivitas Pagi Ngopi bersama DR Sri Tutie Rahayu,  \n",
      "--------------\n",
      "Earthquake Sundays 2.0\n",
      "--------------\n",
      "@DamnDriga Jamaica had a next earthquake?\n",
      "--------------\n",
      ": Di hari Sumpah Pemuda nanti, tepatnya Jumat 26 Okt 2018, 18:00 WIB di Menara BNI Pejompongan, BNI akan meluncurkan “BNI Griya Gue”…\n",
      "--------------\n",
      ": JUST IN: 5.7-magnitude earthquake shakes Northern Colombia, according to the European-Mediterranean Seismological Centre \n",
      "--------------\n",
      "BabeKasihTau Bikin Bangga, Inilah 5 Merek Smartphone Buatan Indonesia yang Telah Mendunia  tech \n",
      "--------------\n",
      "20:48:38 Tokachi Hidaka Estimated seismic intensity 0 Earthquake\n",
      "--------------\n",
      "最終:第4報 日高支庁東部 震度2 M3.5 50km N42.3/E143.0 125.05  / 地震情報 20181022 08:49 jishin earthquake\n",
      "--------------\n",
      "Help support the victims of the Japanese Earthquake and Pacific Tsunami   hope4japan pray4japan\n",
      "--------------\n",
      "🚨 15 networks restored in Indonesia \n",
      "📅 October 21, 2018 at 08:00PM \n",
      "🔖  \n",
      "📕 Oracle Internet Intelligence\n",
      "--------------\n",
      ": Beberapa institusi luar angkasa : NASA, ESA, JAXA (Jepang), Indian Space Research Org, Russian Federal Space Agency, Lapan…\n",
      "--------------\n",
      "3.1 earthquake occurred near Andreanof Islands, Aleutian Is. at 15:08 UTC! earthquake \n",
      "--------------\n",
      "【地震速報】 09:21:12 震度0未満 宮城  　地震　earthquake \n",
      "--------------\n",
      "21:26:54 Acceleation change of underground Osaka Earthquake\n",
      "--------------\n",
      "Info Menarik Terbaru Tentang (Doa dan Dizkir Lintas Umat Beragama untuk Indonesia Sambut 17 Pataka Kirab ...) -… \n",
      "--------------\n",
      "I DO LOVE THIS BIRD\n",
      "CLIP !!\n",
      "--------------\n",
      "Data leaks by indonesian hacker h3art from Sanjungan Jiwa Team -  Gadjah Mada University (Bumigama49) and Pengadil… \n",
      "--------------\n",
      ": 4.7 magnitude earthquake. 43 km from Kuche, Xinjiang Uygur Zizhiqu, China \n",
      "--------------\n",
      "10/21at7:50pm-- earthquake prediction (3of3) NewIreland&amp;BritAdmiraltyBismarkD'EntreacasteauxSamoaFiji\n",
      "--------------\n",
      "respect 🙏\n",
      "--------------\n",
      ": 19/10/18 Corporate Secretary &amp; Stakeholder Relation Dini Endiyani mewakili PPI menerima penghargaan yang dianugerahi oleh In…\n",
      "--------------\n",
      "Earthquake - M 4.5 - 189km ESE of Kimbe, Papua New Guinea \n",
      "--------------\n",
      "Earthquake (sismo) M2.0 strikes 28 km S of Hawaiian Paradise Park (Hawaii) 4 min ago. More info: \n"
     ]
    }
   ],
   "source": [
    "for i in chosen_tweets[0]:\n",
    "    print ('--------------')\n",
    "    print (spacy_tweets[i])    "
   ]
  },
  {
   "cell_type": "code",
   "execution_count": null,
   "metadata": {
    "collapsed": true
   },
   "outputs": [],
   "source": []
  }
 ],
 "metadata": {
  "kernelspec": {
   "display_name": "Python 3",
   "language": "python",
   "name": "python3"
  },
  "language_info": {
   "codemirror_mode": {
    "name": "ipython",
    "version": 3
   },
   "file_extension": ".py",
   "mimetype": "text/x-python",
   "name": "python",
   "nbconvert_exporter": "python",
   "pygments_lexer": "ipython3",
   "version": "3.6.3"
  }
 },
 "nbformat": 4,
 "nbformat_minor": 2
}
