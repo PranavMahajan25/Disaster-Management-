{
 "cells": [
  {
   "cell_type": "code",
   "execution_count": 11,
   "metadata": {},
   "outputs": [
    {
     "name": "stderr",
     "output_type": "stream",
     "text": [
      "Using TensorFlow backend.\n"
     ]
    }
   ],
   "source": [
    "import pandas as pd\n",
    "\n",
    "from sklearn.cross_validation import train_test_split\n",
    "\n",
    "import numpy as np\n",
    "\n",
    "import keras\n",
    "from keras.models import Sequential\n",
    "from keras.layers import Dense, Dropout\n",
    "from keras.layers import Flatten\n",
    "from keras.layers.embeddings import Embedding\n",
    "from keras.preprocessing import sequence\n",
    "from keras import metrics"
   ]
  },
  {
   "cell_type": "code",
   "execution_count": 2,
   "metadata": {
    "collapsed": true
   },
   "outputs": [],
   "source": [
    "label_data = pd.read_csv(\"./data/label_data.csv\")"
   ]
  },
  {
   "cell_type": "code",
   "execution_count": 3,
   "metadata": {
    "collapsed": true
   },
   "outputs": [],
   "source": [
    "x = label_data['tweet_text']\n",
    "y = label_data['label_n']"
   ]
  },
  {
   "cell_type": "code",
   "execution_count": 4,
   "metadata": {
    "collapsed": true
   },
   "outputs": [],
   "source": [
    "#Pre-processing\n",
    "import re\n",
    "x = x.apply(lambda z: re.sub(u'http\\S+', u'', z)) \n",
    "x = x.apply(lambda z: re.sub(u'(\\s)@\\w+', u'', z))\n",
    "x = x.apply(lambda z: re.sub(u'#', u'', z))\n",
    "x = x.apply(lambda z: re.sub(u'RT', u'', z))"
   ]
  },
  {
   "cell_type": "code",
   "execution_count": 5,
   "metadata": {},
   "outputs": [
    {
     "data": {
      "text/plain": [
       "150    Nepal Quake: India officials confirmed 11 deat...\n",
       "151    NepalQuakeRelief Volunteer request IndiaWithNe...\n",
       "152      Nepal earthquake: more than a hundred people...\n",
       "153    happy : NepalQuake | Deep Kumar Upadhyay, Nepa...\n",
       "154                                             Awful.  \n",
       "Name: tweet_text, dtype: object"
      ]
     },
     "execution_count": 5,
     "metadata": {},
     "output_type": "execute_result"
    }
   ],
   "source": [
    "x[150:155]"
   ]
  },
  {
   "cell_type": "code",
   "execution_count": 6,
   "metadata": {},
   "outputs": [
    {
     "data": {
      "text/plain": [
       "0    3\n",
       "1    2\n",
       "2    3\n",
       "3    3\n",
       "4    3\n",
       "Name: label_n, dtype: int64"
      ]
     },
     "execution_count": 6,
     "metadata": {},
     "output_type": "execute_result"
    }
   ],
   "source": [
    "y.head()"
   ]
  },
  {
   "cell_type": "code",
   "execution_count": 8,
   "metadata": {
    "collapsed": true
   },
   "outputs": [],
   "source": [
    "#Random Test-Train Split\n",
    "\n",
    "SEED = None\n",
    "x_train, x_test, y_train, y_test = train_test_split(x, y, test_size=0.1, random_state=SEED)"
   ]
  },
  {
   "cell_type": "code",
   "execution_count": 9,
   "metadata": {},
   "outputs": [
    {
     "data": {
      "text/plain": [
       "TfidfVectorizer(analyzer='word', binary=False, decode_error='strict',\n",
       "        dtype=<class 'numpy.int64'>, encoding='utf-8', input='content',\n",
       "        lowercase=True, max_df=1.0, max_features=1000, min_df=1,\n",
       "        ngram_range=(1, 3), norm='l2', preprocessor=None, smooth_idf=True,\n",
       "        stop_words='english', strip_accents=None, sublinear_tf=False,\n",
       "        token_pattern='(?u)\\\\b\\\\w\\\\w+\\\\b', tokenizer=None, use_idf=True,\n",
       "        vocabulary=None)"
      ]
     },
     "execution_count": 9,
     "metadata": {},
     "output_type": "execute_result"
    }
   ],
   "source": [
    "#TFIDF Vector\n",
    "\n",
    "from sklearn.feature_extraction.text import TfidfVectorizer\n",
    "\n",
    "tvec1 = TfidfVectorizer(max_features=1000,ngram_range=(1, 3),analyzer='word',norm='l2',stop_words='english')\n",
    "tvec1.fit(x_train)"
   ]
  },
  {
   "cell_type": "code",
   "execution_count": 10,
   "metadata": {
    "collapsed": true
   },
   "outputs": [],
   "source": [
    "x_train_tfidf = tvec1.transform(x_train)\n",
    "x_test_tfidf =  tvec1.transform(x_test).toarray()"
   ]
  },
  {
   "cell_type": "code",
   "execution_count": 12,
   "metadata": {
    "collapsed": true
   },
   "outputs": [],
   "source": [
    "y_train_one_hot = keras.utils.to_categorical(y_train, num_classes=4)\n",
    "y_test_one_hot =  keras.utils.to_categorical(y_test, num_classes=4)"
   ]
  },
  {
   "cell_type": "code",
   "execution_count": 13,
   "metadata": {
    "collapsed": true
   },
   "outputs": [],
   "source": [
    "model = Sequential()\n",
    "model.add(Dense(256, activation='relu', input_dim=1000))\n",
    "model.add(Dropout(0.05))\n",
    "model.add(Dense(128, activation='relu'))\n",
    "model.add(Dropout(0.10))\n",
    "model.add(Dense(64, activation='relu'))\n",
    "model.add(Dropout(0.15))\n",
    "model.add(Dense(4, activation='softmax'))\n",
    "model.compile(optimizer='adam',\n",
    "              loss='binary_crossentropy',\n",
    "              metrics=['accuracy'])"
   ]
  },
  {
   "cell_type": "code",
   "execution_count": 14,
   "metadata": {},
   "outputs": [
    {
     "name": "stdout",
     "output_type": "stream",
     "text": [
      "_________________________________________________________________\n",
      "Layer (type)                 Output Shape              Param #   \n",
      "=================================================================\n",
      "dense_1 (Dense)              (None, 256)               256256    \n",
      "_________________________________________________________________\n",
      "dropout_1 (Dropout)          (None, 256)               0         \n",
      "_________________________________________________________________\n",
      "dense_2 (Dense)              (None, 128)               32896     \n",
      "_________________________________________________________________\n",
      "dropout_2 (Dropout)          (None, 128)               0         \n",
      "_________________________________________________________________\n",
      "dense_3 (Dense)              (None, 64)                8256      \n",
      "_________________________________________________________________\n",
      "dropout_3 (Dropout)          (None, 64)                0         \n",
      "_________________________________________________________________\n",
      "dense_4 (Dense)              (None, 4)                 260       \n",
      "=================================================================\n",
      "Total params: 297,668\n",
      "Trainable params: 297,668\n",
      "Non-trainable params: 0\n",
      "_________________________________________________________________\n"
     ]
    }
   ],
   "source": [
    "model.summary()"
   ]
  },
  {
   "cell_type": "code",
   "execution_count": 15,
   "metadata": {},
   "outputs": [
    {
     "name": "stdout",
     "output_type": "stream",
     "text": [
      "Train on 16675 samples, validate on 1853 samples\n",
      "Epoch 1/5\n",
      "16675/16675 [==============================] - 1s 89us/step - loss: 0.3947 - acc: 0.8218 - val_loss: 0.3144 - val_acc: 0.8664\n",
      "Epoch 2/5\n",
      "16675/16675 [==============================] - 1s 63us/step - loss: 0.2937 - acc: 0.8760 - val_loss: 0.2856 - val_acc: 0.8757\n",
      "Epoch 3/5\n",
      "16675/16675 [==============================] - 1s 61us/step - loss: 0.2518 - acc: 0.8977 - val_loss: 0.2809 - val_acc: 0.8794\n",
      "Epoch 4/5\n",
      "16675/16675 [==============================] - 1s 60us/step - loss: 0.2246 - acc: 0.9096 - val_loss: 0.2752 - val_acc: 0.8837\n",
      "Epoch 5/5\n",
      "16675/16675 [==============================] - 1s 57us/step - loss: 0.1990 - acc: 0.9223 - val_loss: 0.2854 - val_acc: 0.8799\n"
     ]
    },
    {
     "data": {
      "text/plain": [
       "<keras.callbacks.History at 0x15d6a387668>"
      ]
     },
     "execution_count": 15,
     "metadata": {},
     "output_type": "execute_result"
    }
   ],
   "source": [
    "model.fit(x_train_tfidf, y_train_one_hot, epochs=5, batch_size=256, validation_data = (x_test_tfidf, y_test_one_hot))"
   ]
  },
  {
   "cell_type": "code",
   "execution_count": 16,
   "metadata": {
    "collapsed": true
   },
   "outputs": [],
   "source": [
    "x_tfidf = tvec1.transform(x)\n",
    "y_one_hot =  keras.utils.to_categorical(y, num_classes=4)"
   ]
  },
  {
   "cell_type": "code",
   "execution_count": 17,
   "metadata": {},
   "outputs": [
    {
     "name": "stdout",
     "output_type": "stream",
     "text": [
      "Train on 18528 samples, validate on 1853 samples\n",
      "Epoch 1/5\n",
      "18528/18528 [==============================] - 1s 55us/step - loss: 0.1822 - acc: 0.9316 - val_loss: 0.2088 - val_acc: 0.9174\n",
      "Epoch 2/5\n",
      "18528/18528 [==============================] - 1s 55us/step - loss: 0.1526 - acc: 0.9438 - val_loss: 0.1589 - val_acc: 0.9416\n",
      "Epoch 3/5\n",
      "18528/18528 [==============================] - 1s 55us/step - loss: 0.1277 - acc: 0.9541 - val_loss: 0.1229 - val_acc: 0.9578\n",
      "Epoch 4/5\n",
      "18528/18528 [==============================] - 1s 55us/step - loss: 0.1095 - acc: 0.9617 - val_loss: 0.1022 - val_acc: 0.9657\n",
      "Epoch 5/5\n",
      "18528/18528 [==============================] - 1s 57us/step - loss: 0.0972 - acc: 0.9660 - val_loss: 0.0810 - val_acc: 0.9746\n"
     ]
    },
    {
     "data": {
      "text/plain": [
       "<keras.callbacks.History at 0x15d6a928dd8>"
      ]
     },
     "execution_count": 17,
     "metadata": {},
     "output_type": "execute_result"
    }
   ],
   "source": [
    "model.fit(x_tfidf, y_one_hot, epochs=5, batch_size=256, validation_data = (x_test_tfidf, y_test_one_hot))"
   ]
  },
  {
   "cell_type": "code",
   "execution_count": 18,
   "metadata": {
    "collapsed": true
   },
   "outputs": [],
   "source": [
    "model.save('multi_classification.h5')  # creates a HDF5 file 'my_model.h5'"
   ]
  },
  {
   "cell_type": "code",
   "execution_count": null,
   "metadata": {
    "collapsed": true
   },
   "outputs": [],
   "source": []
  }
 ],
 "metadata": {
  "kernelspec": {
   "display_name": "Python 3",
   "language": "python",
   "name": "python3"
  },
  "language_info": {
   "codemirror_mode": {
    "name": "ipython",
    "version": 3
   },
   "file_extension": ".py",
   "mimetype": "text/x-python",
   "name": "python",
   "nbconvert_exporter": "python",
   "pygments_lexer": "ipython3",
   "version": "3.6.3"
  }
 },
 "nbformat": 4,
 "nbformat_minor": 2
}
